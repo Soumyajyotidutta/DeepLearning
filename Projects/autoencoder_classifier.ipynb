{
  "cells": [
    {
      "cell_type": "code",
      "execution_count": 1,
      "metadata": {
        "id": "ilKOHRaHAje-"
      },
      "outputs": [],
      "source": [
        "import numpy as np\n",
        "import matplotlib.pyplot as plt\n",
        "import tensorflow as tf\n",
        "from keras import Sequential\n",
        "from keras.layers import Dense, Conv2D, MaxPooling2D, UpSampling2D\n",
        "from keras.datasets import mnist\n",
        "from sklearn.model_selection import train_test_split\n",
        "from sklearn.utils import shuffle"
      ]
    },
    {
      "cell_type": "code",
      "execution_count": 2,
      "metadata": {
        "colab": {
          "base_uri": "https://localhost:8080/"
        },
        "id": "Qmi3BEomAyFK",
        "outputId": "7722fdff-206b-4477-fd2d-8317c3a0b09a"
      },
      "outputs": [
        {
          "output_type": "execute_result",
          "data": {
            "text/plain": [
              "[PhysicalDevice(name='/physical_device:GPU:0', device_type='GPU')]"
            ]
          },
          "metadata": {},
          "execution_count": 2
        }
      ],
      "source": [
        "tf.config.list_physical_devices('GPU')"
      ]
    },
    {
      "cell_type": "code",
      "source": [
        "from google.colab import drive\n",
        "drive.mount('/content/drive')"
      ],
      "metadata": {
        "colab": {
          "base_uri": "https://localhost:8080/"
        },
        "id": "iRDm9PdEQZyL",
        "outputId": "9f4dbbc7-03bc-4d71-e997-d460cc6a25ff"
      },
      "execution_count": 2,
      "outputs": [
        {
          "output_type": "stream",
          "name": "stdout",
          "text": [
            "Drive already mounted at /content/drive; to attempt to forcibly remount, call drive.mount(\"/content/drive\", force_remount=True).\n"
          ]
        }
      ]
    },
    {
      "cell_type": "code",
      "execution_count": 5,
      "metadata": {
        "id": "dQNBN2a6A0jg",
        "colab": {
          "base_uri": "https://localhost:8080/"
        },
        "outputId": "998709a5-652c-4962-a95c-6f058838835c"
      },
      "outputs": [
        {
          "output_type": "stream",
          "name": "stdout",
          "text": [
            "Downloading data from https://storage.googleapis.com/tensorflow/tf-keras-datasets/mnist.npz\n",
            "11490434/11490434 [==============================] - 0s 0us/step\n"
          ]
        }
      ],
      "source": [
        "(x_train, y_mnist_train), (x_test, y_mnist_test) = mnist.load_data()"
      ]
    },
    {
      "cell_type": "code",
      "execution_count": 6,
      "metadata": {
        "id": "3YWDNqJ0A6j2"
      },
      "outputs": [],
      "source": [
        "x_train = x_train.astype('float32') / 255\n",
        "x_test = x_test.astype('float32') / 255"
      ]
    },
    {
      "cell_type": "code",
      "execution_count": 7,
      "metadata": {
        "colab": {
          "base_uri": "https://localhost:8080/"
        },
        "id": "zwyUHEkIA_Ni",
        "outputId": "578c60c2-5279-4aa8-d991-04ddc85b30cc"
      },
      "outputs": [
        {
          "output_type": "stream",
          "name": "stdout",
          "text": [
            "(60000, 28, 28, 1)\n"
          ]
        }
      ],
      "source": [
        "x_train = x_train.reshape(len(x_train), 28, 28, 1)\n",
        "x_test = x_test.reshape(len(x_test), 28, 28, 1)\n",
        "print(x_train.shape)"
      ]
    },
    {
      "cell_type": "markdown",
      "metadata": {
        "id": "R6ba6U8-xz0y"
      },
      "source": [
        "##### MNIST Divided by Class"
      ]
    },
    {
      "cell_type": "code",
      "execution_count": 8,
      "metadata": {
        "colab": {
          "base_uri": "https://localhost:8080/"
        },
        "id": "S7GOL0Gzv8D7",
        "outputId": "3f26ffdd-c5e4-4848-ab56-de136bfb5775"
      },
      "outputs": [
        {
          "output_type": "stream",
          "name": "stdout",
          "text": [
            "(5923, 28, 28, 1): X Train Label 0, (6742, 28, 28, 1): X Train Label 1\n",
            "(5958, 28, 28, 1): X Train Label 2, (6131, 28, 28, 1): X Train Label 3\n",
            "(5842, 28, 28, 1): X Train Label 4, (5421, 28, 28, 1): X Train Label 5\n",
            "(5918, 28, 28, 1): X Train Label 6, (6265, 28, 28, 1): X Train Label 7\n",
            "(5851, 28, 28, 1): X Train Label 8, (5949, 28, 28, 1): X Train Label 9\n"
          ]
        }
      ],
      "source": [
        "x_train0 = x_train[y_mnist_train == 0]\n",
        "x_train1 = x_train[y_mnist_train == 1]\n",
        "x_train2 = x_train[y_mnist_train == 2]\n",
        "x_train3 = x_train[y_mnist_train == 3]\n",
        "x_train4 = x_train[y_mnist_train == 4]\n",
        "x_train5 = x_train[y_mnist_train == 5]\n",
        "x_train6 = x_train[y_mnist_train == 6]\n",
        "x_train7 = x_train[y_mnist_train == 7]\n",
        "x_train8 = x_train[y_mnist_train == 8]\n",
        "x_train9 = x_train[y_mnist_train == 9]\n",
        "print(f'{x_train0.shape}: X Train Label 0, {x_train1.shape}: X Train Label 1')\n",
        "print(f'{x_train2.shape}: X Train Label 2, {x_train3.shape}: X Train Label 3')\n",
        "print(f'{x_train4.shape}: X Train Label 4, {x_train5.shape}: X Train Label 5')\n",
        "print(f'{x_train6.shape}: X Train Label 6, {x_train7.shape}: X Train Label 7')\n",
        "print(f'{x_train8.shape}: X Train Label 8, {x_train9.shape}: X Train Label 9')"
      ]
    },
    {
      "cell_type": "code",
      "execution_count": 9,
      "metadata": {
        "colab": {
          "base_uri": "https://localhost:8080/"
        },
        "id": "_tC8GO7K_4qn",
        "outputId": "4555db35-1290-425d-be16-4b320022cecd"
      },
      "outputs": [
        {
          "output_type": "stream",
          "name": "stdout",
          "text": [
            "(5923,): y Train Label 0, (6742,): y Train Label 1\n",
            "(5958,): y Train Label 2, (6131,): y Train Label 3\n",
            "(5842,): y Train Label 4, (5421,): y Train Label 5\n",
            "(5918,): y Train Label 6, (6265,): y Train Label 7\n",
            "(5851,): y Train Label 8, (5949,): y Train Label 9\n"
          ]
        }
      ],
      "source": [
        "y_mnist_train0 = y_mnist_train[y_mnist_train == 0]\n",
        "y_mnist_train1 = y_mnist_train[y_mnist_train == 1]\n",
        "y_mnist_train2 = y_mnist_train[y_mnist_train == 2]\n",
        "y_mnist_train3 = y_mnist_train[y_mnist_train == 3]\n",
        "y_mnist_train4 = y_mnist_train[y_mnist_train == 4]\n",
        "y_mnist_train5 = y_mnist_train[y_mnist_train == 5]\n",
        "y_mnist_train6 = y_mnist_train[y_mnist_train == 6]\n",
        "y_mnist_train7 = y_mnist_train[y_mnist_train == 7]\n",
        "y_mnist_train8 = y_mnist_train[y_mnist_train == 8]\n",
        "y_mnist_train9 = y_mnist_train[y_mnist_train == 9]\n",
        "print(f'{y_mnist_train0.shape}: y Train Label 0, {y_mnist_train1.shape}: y Train Label 1')\n",
        "print(f'{y_mnist_train2.shape}: y Train Label 2, {y_mnist_train3.shape}: y Train Label 3')\n",
        "print(f'{y_mnist_train4.shape}: y Train Label 4, {y_mnist_train5.shape}: y Train Label 5')\n",
        "print(f'{y_mnist_train6.shape}: y Train Label 6, {y_mnist_train7.shape}: y Train Label 7')\n",
        "print(f'{y_mnist_train8.shape}: y Train Label 8, {y_mnist_train9.shape}: y Train Label 9')"
      ]
    },
    {
      "cell_type": "code",
      "execution_count": 10,
      "metadata": {
        "id": "eI6G4hfxBOQ9"
      },
      "outputs": [],
      "source": [
        "traindata = np.vstack((x_train0, x_train1[:6683], x_train2, x_train3, x_train4[:5818], x_train5[:5403], x_train6[:5894],\n",
        "                       x_train7[:6252], x_train8[:5849], x_train9))"
      ]
    },
    {
      "cell_type": "code",
      "execution_count": 12,
      "metadata": {
        "id": "WvA8HZhuyVJj"
      },
      "outputs": [],
      "source": [
        "traindata_shuffled = shuffle(traindata, random_state=42)"
      ]
    },
    {
      "cell_type": "code",
      "execution_count": 13,
      "metadata": {
        "colab": {
          "base_uri": "https://localhost:8080/"
        },
        "id": "f4LDKqNDB1U1",
        "outputId": "66aa0f6f-aaf2-47cf-c842-2f869ed62758"
      },
      "outputs": [
        {
          "output_type": "stream",
          "name": "stdout",
          "text": [
            "(59860, 28, 28, 1)\n"
          ]
        }
      ],
      "source": [
        "print(traindata_shuffled.shape)"
      ]
    },
    {
      "cell_type": "code",
      "execution_count": 3,
      "metadata": {
        "id": "dg0QzTZHBasb"
      },
      "outputs": [],
      "source": [
        "import pickle\n",
        "\n",
        "with open ('/content/drive/MyDrive/Projects/1/636_project1_train_images', 'rb') as trainfile:\n",
        "  noisyimages = pickle.load(trainfile)\n",
        "\n",
        "with open ('/content/drive/MyDrive/Projects/1/636_project1_train_labels', 'rb') as labelsfile:\n",
        "  noisylabels = pickle.load(labelsfile)"
      ]
    },
    {
      "cell_type": "code",
      "execution_count": 4,
      "metadata": {
        "colab": {
          "base_uri": "https://localhost:8080/"
        },
        "id": "8u0z2xnJOM11",
        "outputId": "d25c2161-960b-45c7-9b13-bffe739b28b0"
      },
      "outputs": [
        {
          "output_type": "stream",
          "name": "stdout",
          "text": [
            "(60000, 28, 28, 1)\n"
          ]
        }
      ],
      "source": [
        "noisyimages = np.array(noisyimages)\n",
        "noisylabels = np.array(noisylabels)\n",
        "\n",
        "noisyimages = noisyimages.astype('float32') / 255\n",
        "noisyimages = noisyimages.reshape(len(noisyimages), 28, 28, 1)\n",
        "print(noisyimages.shape)"
      ]
    },
    {
      "cell_type": "code",
      "execution_count": 18,
      "metadata": {
        "colab": {
          "base_uri": "https://localhost:8080/"
        },
        "id": "h9BQnG8QEh6m",
        "outputId": "2686f9dc-b4eb-4cd2-f56c-4cdc1d8b8593"
      },
      "outputs": [
        {
          "output_type": "stream",
          "name": "stdout",
          "text": [
            "(5972, 28, 28, 1): X Train Noisy Label 0, (6683, 28, 28, 1): X Train Noisy Label 1\n",
            "(6010, 28, 28, 1): X Train Noisy Label 2, (6156, 28, 28, 1): X Train Noisy Label 3\n",
            "(5818, 28, 28, 1): X Train Noisy Label 4, (5403, 28, 28, 1): X Train Noisy Label 5\n",
            "(5894, 28, 28, 1): X Train Noisy Label 6, (6252, 28, 28, 1): X Train Noisy Label 7\n",
            "(5849, 28, 28, 1): X Train Noisy Label 8, (5963, 28, 28, 1): X Train Noisy Label 9\n"
          ]
        }
      ],
      "source": [
        "x_train_noisy0 = noisyimages[noisylabels == 0]\n",
        "x_train_noisy1 = noisyimages[noisylabels == 1]\n",
        "x_train_noisy2 = noisyimages[noisylabels == 2]\n",
        "x_train_noisy3 = noisyimages[noisylabels == 3]\n",
        "x_train_noisy4 = noisyimages[noisylabels == 4]\n",
        "x_train_noisy5 = noisyimages[noisylabels == 5]\n",
        "x_train_noisy6 = noisyimages[noisylabels == 6]\n",
        "x_train_noisy7 = noisyimages[noisylabels == 7]\n",
        "x_train_noisy8 = noisyimages[noisylabels == 8]\n",
        "x_train_noisy9 = noisyimages[noisylabels == 9]\n",
        "print(f'{x_train_noisy0.shape}: X Train Noisy Label 0, {x_train_noisy1.shape}: X Train Noisy Label 1')\n",
        "print(f'{x_train_noisy2.shape}: X Train Noisy Label 2, {x_train_noisy3.shape}: X Train Noisy Label 3')\n",
        "print(f'{x_train_noisy4.shape}: X Train Noisy Label 4, {x_train_noisy5.shape}: X Train Noisy Label 5')\n",
        "print(f'{x_train_noisy6.shape}: X Train Noisy Label 6, {x_train_noisy7.shape}: X Train Noisy Label 7')\n",
        "print(f'{x_train_noisy8.shape}: X Train Noisy Label 8, {x_train_noisy9.shape}: X Train Noisy Label 9')"
      ]
    },
    {
      "cell_type": "code",
      "execution_count": 16,
      "metadata": {
        "colab": {
          "base_uri": "https://localhost:8080/"
        },
        "id": "DI-2FiDDyl4G",
        "outputId": "e28dd603-ba6d-41c5-96ed-a4c50012dcd1"
      },
      "outputs": [
        {
          "output_type": "stream",
          "name": "stdout",
          "text": [
            "(5972,): y Train Label 0, (6683,): y Train Label 1\n",
            "(6010,): y Train Label 2, (6156,): y Train Label 3\n",
            "(5818,): y Train Label 4, (5403,): y Train Label 5\n",
            "(5894,): y Train Label 6, (6252,): y Train Label 7\n",
            "(5849,): y Train Label 8, (5963,): y Train Label 9\n"
          ]
        }
      ],
      "source": [
        "y_noisy_train0 = noisylabels[noisylabels == 0]\n",
        "y_noisy_train1 = noisylabels[noisylabels == 1]\n",
        "y_noisy_train2 = noisylabels[noisylabels == 2]\n",
        "y_noisy_train3 = noisylabels[noisylabels == 3]\n",
        "y_noisy_train4 = noisylabels[noisylabels == 4]\n",
        "y_noisy_train5 = noisylabels[noisylabels == 5]\n",
        "y_noisy_train6 = noisylabels[noisylabels == 6]\n",
        "y_noisy_train7 = noisylabels[noisylabels == 7]\n",
        "y_noisy_train8 = noisylabels[noisylabels == 8]\n",
        "y_noisy_train9 = noisylabels[noisylabels == 9]\n",
        "print(f'{y_noisy_train0.shape}: y Train Label 0, {y_noisy_train1.shape}: y Train Label 1')\n",
        "print(f'{y_noisy_train2.shape}: y Train Label 2, {y_noisy_train3.shape}: y Train Label 3')\n",
        "print(f'{y_noisy_train4.shape}: y Train Label 4, {y_noisy_train5.shape}: y Train Label 5')\n",
        "print(f'{y_noisy_train6.shape}: y Train Label 6, {y_noisy_train7.shape}: y Train Label 7')\n",
        "print(f'{y_noisy_train8.shape}: y Train Label 8, {y_noisy_train9.shape}: y Train Label 9')"
      ]
    },
    {
      "cell_type": "code",
      "execution_count": 19,
      "metadata": {
        "id": "TVQJzNKFB6IF"
      },
      "outputs": [],
      "source": [
        "traindata_noisy = np.vstack((x_train_noisy0[:5923], x_train_noisy1, x_train_noisy2[:5958], x_train_noisy3[:6131], x_train_noisy4,\n",
        "                             x_train_noisy5, x_train_noisy6, x_train_noisy7, x_train_noisy8, x_train_noisy9[:5949]))"
      ]
    },
    {
      "cell_type": "code",
      "execution_count": 20,
      "metadata": {
        "id": "qf0e3cIEzELY"
      },
      "outputs": [],
      "source": [
        "traindata_noisy_shuffled = shuffle(traindata_noisy, random_state=42)"
      ]
    },
    {
      "cell_type": "code",
      "execution_count": 21,
      "metadata": {
        "colab": {
          "base_uri": "https://localhost:8080/"
        },
        "id": "C0dAZOP5CD_I",
        "outputId": "41e7722d-cf5f-4689-e37f-b7eff54f0dcd"
      },
      "outputs": [
        {
          "output_type": "stream",
          "name": "stdout",
          "text": [
            "(59860, 28, 28, 1)\n"
          ]
        }
      ],
      "source": [
        "print(traindata_noisy_shuffled.shape)"
      ]
    },
    {
      "cell_type": "markdown",
      "metadata": {
        "id": "QJec5VZNx3A9"
      },
      "source": [
        "##### Model"
      ]
    },
    {
      "cell_type": "code",
      "execution_count": null,
      "metadata": {
        "id": "ojhMATHICK6p"
      },
      "outputs": [],
      "source": [
        "model = Sequential([\n",
        "                    # encoder network\n",
        "                    Conv2D(256, 3, activation='relu', padding='same', input_shape=(28, 28, 1)),\n",
        "                    Conv2D(128, 3, activation='relu', padding='same'),\n",
        "                    MaxPooling2D(2, padding='same'),\n",
        "                    Conv2D(64, 3, activation='relu', padding='same'),\n",
        "                    MaxPooling2D(2, padding='same'),\n",
        "                    Conv2D(32, 3, activation='relu', padding='same'),\n",
        "                    Conv2D(16, 3, activation='relu', padding='same'),\n",
        "                    # decoder network\n",
        "                    Conv2D(16, 3, activation='relu', padding='same'),\n",
        "                    Conv2D(32, 3, activation='relu', padding='same'),\n",
        "                    Conv2D(64, 3, activation='relu', padding='same'),\n",
        "                    UpSampling2D(2),\n",
        "                    Conv2D(128, 3, activation='relu', padding='same'),\n",
        "                    UpSampling2D(2),\n",
        "                    Conv2D(256, 3, activation='relu', padding='same', input_shape=(28, 28, 1)),\n",
        "                    # output layer\n",
        "                    Conv2D(1, 3, activation='sigmoid', padding='same')\n",
        "])\n",
        "\n",
        "model.compile(optimizer='adam', loss='binary_crossentropy')\n",
        "# model.summary()\n"
      ]
    },
    {
      "cell_type": "code",
      "execution_count": null,
      "metadata": {
        "id": "BsJSBoC5CPY4"
      },
      "outputs": [],
      "source": [
        "history = model.fit(traindata_noisy, traindata, epochs=150, batch_size=128)"
      ]
    },
    {
      "cell_type": "code",
      "execution_count": null,
      "metadata": {
        "id": "TsUmru1ngFDr"
      },
      "outputs": [],
      "source": [
        "model.save('/content/drive/MyDrive/Data Science/Deep-Learning/Projects/1/autoencoder_edition2_256_150_notShuffled.keras')"
      ]
    },
    {
      "cell_type": "code",
      "execution_count": 5,
      "metadata": {
        "id": "rY23M1tRk8z9"
      },
      "outputs": [],
      "source": [
        "autoencoder = tf.keras.saving.load_model(\n",
        "    '/content/drive/MyDrive/Projects/1/autoencoder_edition2_256_150_notShuffled.keras'\n",
        ")"
      ]
    },
    {
      "cell_type": "code",
      "execution_count": 6,
      "metadata": {
        "colab": {
          "base_uri": "https://localhost:8080/"
        },
        "id": "ohJWW5uTLnYW",
        "outputId": "2bdf9194-a9f4-4f1c-c152-616b54f84d3e"
      },
      "outputs": [
        {
          "output_type": "stream",
          "name": "stdout",
          "text": [
            "1875/1875 [==============================] - 15s 7ms/step\n"
          ]
        }
      ],
      "source": [
        "pred = autoencoder.predict(noisyimages)"
      ]
    },
    {
      "cell_type": "code",
      "execution_count": 7,
      "metadata": {
        "id": "lKA0c_7n4ihv"
      },
      "outputs": [],
      "source": [
        "def display(array1, array2, labels):\n",
        "    \"\"\"\n",
        "    Displays ten random images from each one of the supplied arrays.\n",
        "    \"\"\"\n",
        "\n",
        "    n = 10\n",
        "\n",
        "    indices = np.random.randint(len(array1), size=n)\n",
        "    images1 = array1[indices, :]\n",
        "    images2 = array2[indices, :]\n",
        "\n",
        "    plt.figure(figsize=(20, 4))\n",
        "    print(labels[indices])\n",
        "\n",
        "    for i, (image1, image2) in enumerate(zip(images1, images2)):\n",
        "\n",
        "        ax = plt.subplot(2, n, i + 1)\n",
        "        plt.imshow(image1.reshape(28, 28))\n",
        "        plt.gray()\n",
        "        ax.get_xaxis().set_visible(False)\n",
        "        ax.get_yaxis().set_visible(False)\n",
        "\n",
        "        ax = plt.subplot(2, n, i + 1 + n)\n",
        "        plt.imshow(image2.reshape(28, 28))\n",
        "        plt.gray()\n",
        "        ax.get_xaxis().set_visible(False)\n",
        "        ax.get_yaxis().set_visible(False)\n",
        "\n",
        "    plt.show()"
      ]
    },
    {
      "cell_type": "code",
      "execution_count": 8,
      "metadata": {
        "colab": {
          "base_uri": "https://localhost:8080/",
          "height": 244
        },
        "id": "KePXjSN74nPx",
        "outputId": "6cfedbdc-3c1b-4399-8523-2b98b2704b92"
      },
      "outputs": [
        {
          "output_type": "stream",
          "name": "stdout",
          "text": [
            "[1 0 7 8 9 1 4 5 4 5]\n"
          ]
        },
        {
          "output_type": "display_data",
          "data": {
            "text/plain": [
              "<Figure size 2000x400 with 20 Axes>"
            ],
            "image/png": "[encoded data removed]"
          },
          "metadata": {}
        }
      ],
      "source": [
        "display(noisyimages, pred, noisylabels)"
      ]
    },
    {
      "cell_type": "code",
      "source": [
        "from sklearn.model_selection import train_test_split\n",
        "\n",
        "X = pred\n",
        "y = noisylabels\n",
        "\n",
        "# Split the data into training and testing sets\n",
        "X_train_clf, X_val_clf, y_train_clf, y_val_clf = train_test_split(X, y, test_size=0.2, random_state=42)"
      ],
      "metadata": {
        "id": "0gSgnc2X-MAj"
      },
      "execution_count": 9,
      "outputs": []
    },
    {
      "cell_type": "code",
      "source": [
        "y_train_clf = tf.one_hot(y_train_clf, depth = 10)\n",
        "y_val_clf = tf.one_hot(y_val_clf, depth = 10)"
      ],
      "metadata": {
        "id": "wnMQaNFM_m3K"
      },
      "execution_count": 10,
      "outputs": []
    },
    {
      "cell_type": "code",
      "source": [
        "X_train_clf.shape"
      ],
      "metadata": {
        "colab": {
          "base_uri": "https://localhost:8080/"
        },
        "id": "UdH8rOXGNdjr",
        "outputId": "d13a6bf1-a73e-45ee-8cae-498db256e566"
      },
      "execution_count": 11,
      "outputs": [
        {
          "output_type": "execute_result",
          "data": {
            "text/plain": [
              "(48000, 28, 28, 1)"
            ]
          },
          "metadata": {},
          "execution_count": 11
        }
      ]
    },
    {
      "cell_type": "code",
      "source": [
        "from tensorflow.keras import layers"
      ],
      "metadata": {
        "id": "VUEXFsnm9wkF"
      },
      "execution_count": 12,
      "outputs": []
    },
    {
      "cell_type": "code",
      "source": [
        "# data_augmentation = tf.keras.Sequential(\n",
        "#     [\n",
        "#         layers.RandomFlip(\"horizontal\"),\n",
        "#         layers.RandomRotation(0.0),\n",
        "#         layers.RandomZoom(0.0),\n",
        "#     ]\n",
        "# )"
      ],
      "metadata": {
        "id": "gQLQIlnhAsvg"
      },
      "execution_count": null,
      "outputs": []
    },
    {
      "cell_type": "code",
      "source": [
        "inputs = tf.keras.Input(shape=(28, 28, 1))\n",
        "# x = data_augmentation(inputs)\n",
        "x = inputs\n",
        "# x = layers.Rescaling(1./255)(x)\n",
        "x = layers.Conv2D(filters=32, kernel_size=5, use_bias=False)(x)\n",
        "\n",
        "for size in [32, 64, 128, 256, 512]:\n",
        "    residual = x\n",
        "\n",
        "    x = layers.BatchNormalization()(x)\n",
        "    x = layers.Activation(\"relu\")(x)\n",
        "    x = layers.SeparableConv2D(size, 3, padding=\"same\", use_bias=False)(x)\n",
        "\n",
        "    x = layers.BatchNormalization()(x)\n",
        "    x = layers.Activation(\"relu\")(x)\n",
        "    x = layers.SeparableConv2D(size, 3, padding=\"same\", use_bias=False)(x)\n",
        "\n",
        "    x = layers.MaxPooling2D(3, strides=2, padding=\"same\")(x)\n",
        "\n",
        "    residual = layers.Conv2D(\n",
        "        size, 1, strides=2, padding=\"same\", use_bias=False)(residual)\n",
        "    x = layers.add([x, residual])\n",
        "\n",
        "x = layers.GlobalAveragePooling2D()(x)\n",
        "x = layers.Dropout(0.5)(x)\n",
        "outputs = layers.Dense(10, activation=\"softmax\")(x)\n",
        "model = tf.keras.Model(inputs=inputs, outputs=outputs)"
      ],
      "metadata": {
        "id": "V1jhfG5E9mw_"
      },
      "execution_count": 13,
      "outputs": []
    },
    {
      "cell_type": "code",
      "source": [
        "from keras.callbacks import ModelCheckpoint\n",
        "from keras.callbacks import EarlyStopping\n",
        "from keras.callbacks import LearningRateScheduler\n",
        "from keras.callbacks import ReduceLROnPlateau"
      ],
      "metadata": {
        "id": "yqntGz7BRu2e"
      },
      "execution_count": 14,
      "outputs": []
    },
    {
      "cell_type": "code",
      "source": [
        "callback_list_residual = [\n",
        "    EarlyStopping(\n",
        "        monitor=\"val_accuracy\",\n",
        "        patience=2,\n",
        "    ),\n",
        "    ModelCheckpoint(\n",
        "        filepath=\"/content/drive/MyDrive/Projects/1/classifier_residual_50.keras\",\n",
        "        monitor=\"val_loss\",\n",
        "        save_best_only=True,\n",
        "    )\n",
        "]"
      ],
      "metadata": {
        "id": "UYD9i8biSNIe"
      },
      "execution_count": 15,
      "outputs": []
    },
    {
      "cell_type": "code",
      "source": [
        "model.compile(loss=\"CategoricalCrossentropy\",\n",
        "              optimizer=\"rmsprop\",\n",
        "              metrics=[\"accuracy\"])\n",
        "history_clf = model.fit(\n",
        "    X_train_clf,\n",
        "    y_train_clf,\n",
        "    epochs=50,\n",
        "    # callbacks=callback_list_residual,\n",
        "    validation_data=(X_val_clf, y_val_clf))"
      ],
      "metadata": {
        "colab": {
          "base_uri": "https://localhost:8080/",
          "height": 580
        },
        "id": "wT7Ui66W9vRv",
        "outputId": "0227c23a-7b73-4ad5-9d5b-d87664dcb10a"
      },
      "execution_count": 17,
      "outputs": [
        {
          "output_type": "stream",
          "name": "stdout",
          "text": [
            "Epoch 1/50\n",
            "1500/1500 [==============================] - 27s 12ms/step - loss: 0.5734 - accuracy: 0.8190 - val_loss: 0.5160 - val_accuracy: 0.8336\n",
            "Epoch 2/50\n",
            "1500/1500 [==============================] - 17s 11ms/step - loss: 0.5192 - accuracy: 0.8343 - val_loss: 0.5703 - val_accuracy: 0.8292\n",
            "Epoch 3/50\n",
            "1500/1500 [==============================] - 17s 12ms/step - loss: 0.5041 - accuracy: 0.8376 - val_loss: 0.4889 - val_accuracy: 0.8432\n",
            "Epoch 4/50\n",
            " 512/1500 [=========>....................] - ETA: 11s - loss: 0.4911 - accuracy: 0.8400"
          ]
        },
        {
          "output_type": "error",
          "ename": "KeyboardInterrupt",
          "evalue": "ignored",
          "traceback": [
            "\u001b[0;31m---------------------------------------------------------------------------\u001b[0m",
            "\u001b[0;31mKeyboardInterrupt\u001b[0m                         Traceback (most recent call last)",
            "\u001b[0;32m<ipython-input-17-5afb408ceb52>\u001b[0m in \u001b[0;36m<cell line: 4>\u001b[0;34m()\u001b[0m\n\u001b[1;32m      2\u001b[0m               \u001b[0moptimizer\u001b[0m\u001b[0;34m=\u001b[0m\u001b[0;34m\"rmsprop\"\u001b[0m\u001b[0;34m,\u001b[0m\u001b[0;34m\u001b[0m\u001b[0;34m\u001b[0m\u001b[0m\n\u001b[1;32m      3\u001b[0m               metrics=[\"accuracy\"])\n\u001b[0;32m----> 4\u001b[0;31m history_clf = model.fit(\n\u001b[0m\u001b[1;32m      5\u001b[0m     \u001b[0mX_train_clf\u001b[0m\u001b[0;34m,\u001b[0m\u001b[0;34m\u001b[0m\u001b[0;34m\u001b[0m\u001b[0m\n\u001b[1;32m      6\u001b[0m     \u001b[0my_train_clf\u001b[0m\u001b[0;34m,\u001b[0m\u001b[0;34m\u001b[0m\u001b[0;34m\u001b[0m\u001b[0m\n",
            "\u001b[0;32m/usr/local/lib/python3.10/dist-packages/keras/src/utils/traceback_utils.py\u001b[0m in \u001b[0;36merror_handler\u001b[0;34m(*args, **kwargs)\u001b[0m\n\u001b[1;32m     63\u001b[0m         \u001b[0mfiltered_tb\u001b[0m \u001b[0;34m=\u001b[0m \u001b[0;32mNone\u001b[0m\u001b[0;34m\u001b[0m\u001b[0;34m\u001b[0m\u001b[0m\n\u001b[1;32m     64\u001b[0m         \u001b[0;32mtry\u001b[0m\u001b[0;34m:\u001b[0m\u001b[0;34m\u001b[0m\u001b[0;34m\u001b[0m\u001b[0m\n\u001b[0;32m---> 65\u001b[0;31m             \u001b[0;32mreturn\u001b[0m \u001b[0mfn\u001b[0m\u001b[0;34m(\u001b[0m\u001b[0;34m*\u001b[0m\u001b[0margs\u001b[0m\u001b[0;34m,\u001b[0m \u001b[0;34m**\u001b[0m\u001b[0mkwargs\u001b[0m\u001b[0;34m)\u001b[0m\u001b[0;34m\u001b[0m\u001b[0;34m\u001b[0m\u001b[0m\n\u001b[0m\u001b[1;32m     66\u001b[0m         \u001b[0;32mexcept\u001b[0m \u001b[0mException\u001b[0m \u001b[0;32mas\u001b[0m \u001b[0me\u001b[0m\u001b[0;34m:\u001b[0m\u001b[0;34m\u001b[0m\u001b[0;34m\u001b[0m\u001b[0m\n\u001b[1;32m     67\u001b[0m             \u001b[0mfiltered_tb\u001b[0m \u001b[0;34m=\u001b[0m \u001b[0m_process_traceback_frames\u001b[0m\u001b[0;34m(\u001b[0m\u001b[0me\u001b[0m\u001b[0;34m.\u001b[0m\u001b[0m__traceback__\u001b[0m\u001b[0;34m)\u001b[0m\u001b[0;34m\u001b[0m\u001b[0;34m\u001b[0m\u001b[0m\n",
            "\u001b[0;32m/usr/local/lib/python3.10/dist-packages/keras/src/engine/training.py\u001b[0m in \u001b[0;36mfit\u001b[0;34m(self, x, y, batch_size, epochs, verbose, callbacks, validation_split, validation_data, shuffle, class_weight, sample_weight, initial_epoch, steps_per_epoch, validation_steps, validation_batch_size, validation_freq, max_queue_size, workers, use_multiprocessing)\u001b[0m\n\u001b[1;32m   1740\u001b[0m                         ):\n\u001b[1;32m   1741\u001b[0m                             \u001b[0mcallbacks\u001b[0m\u001b[0;34m.\u001b[0m\u001b[0mon_train_batch_begin\u001b[0m\u001b[0;34m(\u001b[0m\u001b[0mstep\u001b[0m\u001b[0;34m)\u001b[0m\u001b[0;34m\u001b[0m\u001b[0;34m\u001b[0m\u001b[0m\n\u001b[0;32m-> 1742\u001b[0;31m                             \u001b[0mtmp_logs\u001b[0m \u001b[0;34m=\u001b[0m \u001b[0mself\u001b[0m\u001b[0;34m.\u001b[0m\u001b[0mtrain_function\u001b[0m\u001b[0;34m(\u001b[0m\u001b[0miterator\u001b[0m\u001b[0;34m)\u001b[0m\u001b[0;34m\u001b[0m\u001b[0;34m\u001b[0m\u001b[0m\n\u001b[0m\u001b[1;32m   1743\u001b[0m                             \u001b[0;32mif\u001b[0m \u001b[0mdata_handler\u001b[0m\u001b[0;34m.\u001b[0m\u001b[0mshould_sync\u001b[0m\u001b[0;34m:\u001b[0m\u001b[0;34m\u001b[0m\u001b[0;34m\u001b[0m\u001b[0m\n\u001b[1;32m   1744\u001b[0m                                 \u001b[0mcontext\u001b[0m\u001b[0;34m.\u001b[0m\u001b[0masync_wait\u001b[0m\u001b[0;34m(\u001b[0m\u001b[0;34m)\u001b[0m\u001b[0;34m\u001b[0m\u001b[0;34m\u001b[0m\u001b[0m\n",
            "\u001b[0;32m/usr/local/lib/python3.10/dist-packages/tensorflow/python/util/traceback_utils.py\u001b[0m in \u001b[0;36merror_handler\u001b[0;34m(*args, **kwargs)\u001b[0m\n\u001b[1;32m    148\u001b[0m     \u001b[0mfiltered_tb\u001b[0m \u001b[0;34m=\u001b[0m \u001b[0;32mNone\u001b[0m\u001b[0;34m\u001b[0m\u001b[0;34m\u001b[0m\u001b[0m\n\u001b[1;32m    149\u001b[0m     \u001b[0;32mtry\u001b[0m\u001b[0;34m:\u001b[0m\u001b[0;34m\u001b[0m\u001b[0;34m\u001b[0m\u001b[0m\n\u001b[0;32m--> 150\u001b[0;31m       \u001b[0;32mreturn\u001b[0m \u001b[0mfn\u001b[0m\u001b[0;34m(\u001b[0m\u001b[0;34m*\u001b[0m\u001b[0margs\u001b[0m\u001b[0;34m,\u001b[0m \u001b[0;34m**\u001b[0m\u001b[0mkwargs\u001b[0m\u001b[0;34m)\u001b[0m\u001b[0;34m\u001b[0m\u001b[0;34m\u001b[0m\u001b[0m\n\u001b[0m\u001b[1;32m    151\u001b[0m     \u001b[0;32mexcept\u001b[0m \u001b[0mException\u001b[0m \u001b[0;32mas\u001b[0m \u001b[0me\u001b[0m\u001b[0;34m:\u001b[0m\u001b[0;34m\u001b[0m\u001b[0;34m\u001b[0m\u001b[0m\n\u001b[1;32m    152\u001b[0m       \u001b[0mfiltered_tb\u001b[0m \u001b[0;34m=\u001b[0m \u001b[0m_process_traceback_frames\u001b[0m\u001b[0;34m(\u001b[0m\u001b[0me\u001b[0m\u001b[0;34m.\u001b[0m\u001b[0m__traceback__\u001b[0m\u001b[0;34m)\u001b[0m\u001b[0;34m\u001b[0m\u001b[0;34m\u001b[0m\u001b[0m\n",
            "\u001b[0;32m/usr/local/lib/python3.10/dist-packages/tensorflow/python/eager/polymorphic_function/polymorphic_function.py\u001b[0m in \u001b[0;36m__call__\u001b[0;34m(self, *args, **kwds)\u001b[0m\n\u001b[1;32m    823\u001b[0m \u001b[0;34m\u001b[0m\u001b[0m\n\u001b[1;32m    824\u001b[0m       \u001b[0;32mwith\u001b[0m \u001b[0mOptionalXlaContext\u001b[0m\u001b[0;34m(\u001b[0m\u001b[0mself\u001b[0m\u001b[0;34m.\u001b[0m\u001b[0m_jit_compile\u001b[0m\u001b[0;34m)\u001b[0m\u001b[0;34m:\u001b[0m\u001b[0;34m\u001b[0m\u001b[0;34m\u001b[0m\u001b[0m\n\u001b[0;32m--> 825\u001b[0;31m         \u001b[0mresult\u001b[0m \u001b[0;34m=\u001b[0m \u001b[0mself\u001b[0m\u001b[0;34m.\u001b[0m\u001b[0m_call\u001b[0m\u001b[0;34m(\u001b[0m\u001b[0;34m*\u001b[0m\u001b[0margs\u001b[0m\u001b[0;34m,\u001b[0m \u001b[0;34m**\u001b[0m\u001b[0mkwds\u001b[0m\u001b[0;34m)\u001b[0m\u001b[0;34m\u001b[0m\u001b[0;34m\u001b[0m\u001b[0m\n\u001b[0m\u001b[1;32m    826\u001b[0m \u001b[0;34m\u001b[0m\u001b[0m\n\u001b[1;32m    827\u001b[0m       \u001b[0mnew_tracing_count\u001b[0m \u001b[0;34m=\u001b[0m \u001b[0mself\u001b[0m\u001b[0;34m.\u001b[0m\u001b[0mexperimental_get_tracing_count\u001b[0m\u001b[0;34m(\u001b[0m\u001b[0;34m)\u001b[0m\u001b[0;34m\u001b[0m\u001b[0;34m\u001b[0m\u001b[0m\n",
            "\u001b[0;32m/usr/local/lib/python3.10/dist-packages/tensorflow/python/eager/polymorphic_function/polymorphic_function.py\u001b[0m in \u001b[0;36m_call\u001b[0;34m(self, *args, **kwds)\u001b[0m\n\u001b[1;32m    855\u001b[0m       \u001b[0;31m# In this case we have created variables on the first call, so we run the\u001b[0m\u001b[0;34m\u001b[0m\u001b[0;34m\u001b[0m\u001b[0m\n\u001b[1;32m    856\u001b[0m       \u001b[0;31m# defunned version which is guaranteed to never create variables.\u001b[0m\u001b[0;34m\u001b[0m\u001b[0;34m\u001b[0m\u001b[0m\n\u001b[0;32m--> 857\u001b[0;31m       \u001b[0;32mreturn\u001b[0m \u001b[0mself\u001b[0m\u001b[0;34m.\u001b[0m\u001b[0m_no_variable_creation_fn\u001b[0m\u001b[0;34m(\u001b[0m\u001b[0;34m*\u001b[0m\u001b[0margs\u001b[0m\u001b[0;34m,\u001b[0m \u001b[0;34m**\u001b[0m\u001b[0mkwds\u001b[0m\u001b[0;34m)\u001b[0m  \u001b[0;31m# pylint: disable=not-callable\u001b[0m\u001b[0;34m\u001b[0m\u001b[0;34m\u001b[0m\u001b[0m\n\u001b[0m\u001b[1;32m    858\u001b[0m     \u001b[0;32melif\u001b[0m \u001b[0mself\u001b[0m\u001b[0;34m.\u001b[0m\u001b[0m_variable_creation_fn\u001b[0m \u001b[0;32mis\u001b[0m \u001b[0;32mnot\u001b[0m \u001b[0;32mNone\u001b[0m\u001b[0;34m:\u001b[0m\u001b[0;34m\u001b[0m\u001b[0;34m\u001b[0m\u001b[0m\n\u001b[1;32m    859\u001b[0m       \u001b[0;31m# Release the lock early so that multiple threads can perform the call\u001b[0m\u001b[0;34m\u001b[0m\u001b[0;34m\u001b[0m\u001b[0m\n",
            "\u001b[0;32m/usr/local/lib/python3.10/dist-packages/tensorflow/python/eager/polymorphic_function/tracing_compiler.py\u001b[0m in \u001b[0;36m__call__\u001b[0;34m(self, *args, **kwargs)\u001b[0m\n\u001b[1;32m    146\u001b[0m       (concrete_function,\n\u001b[1;32m    147\u001b[0m        filtered_flat_args) = self._maybe_define_function(args, kwargs)\n\u001b[0;32m--> 148\u001b[0;31m     return concrete_function._call_flat(\n\u001b[0m\u001b[1;32m    149\u001b[0m         filtered_flat_args, captured_inputs=concrete_function.captured_inputs)  # pylint: disable=protected-access\n\u001b[1;32m    150\u001b[0m \u001b[0;34m\u001b[0m\u001b[0m\n",
            "\u001b[0;32m/usr/local/lib/python3.10/dist-packages/tensorflow/python/eager/polymorphic_function/monomorphic_function.py\u001b[0m in \u001b[0;36m_call_flat\u001b[0;34m(self, args, captured_inputs)\u001b[0m\n\u001b[1;32m   1347\u001b[0m         and executing_eagerly):\n\u001b[1;32m   1348\u001b[0m       \u001b[0;31m# No tape is watching; skip to running the function.\u001b[0m\u001b[0;34m\u001b[0m\u001b[0;34m\u001b[0m\u001b[0m\n\u001b[0;32m-> 1349\u001b[0;31m       \u001b[0;32mreturn\u001b[0m \u001b[0mself\u001b[0m\u001b[0;34m.\u001b[0m\u001b[0m_build_call_outputs\u001b[0m\u001b[0;34m(\u001b[0m\u001b[0mself\u001b[0m\u001b[0;34m.\u001b[0m\u001b[0m_inference_function\u001b[0m\u001b[0;34m(\u001b[0m\u001b[0;34m*\u001b[0m\u001b[0margs\u001b[0m\u001b[0;34m)\u001b[0m\u001b[0;34m)\u001b[0m\u001b[0;34m\u001b[0m\u001b[0;34m\u001b[0m\u001b[0m\n\u001b[0m\u001b[1;32m   1350\u001b[0m     forward_backward = self._select_forward_and_backward_functions(\n\u001b[1;32m   1351\u001b[0m         \u001b[0margs\u001b[0m\u001b[0;34m,\u001b[0m\u001b[0;34m\u001b[0m\u001b[0;34m\u001b[0m\u001b[0m\n",
            "\u001b[0;32m/usr/local/lib/python3.10/dist-packages/tensorflow/python/eager/polymorphic_function/atomic_function.py\u001b[0m in \u001b[0;36m__call__\u001b[0;34m(self, *args)\u001b[0m\n\u001b[1;32m    194\u001b[0m         \u001b[0;32mwith\u001b[0m \u001b[0mrecord\u001b[0m\u001b[0;34m.\u001b[0m\u001b[0mstop_recording\u001b[0m\u001b[0;34m(\u001b[0m\u001b[0;34m)\u001b[0m\u001b[0;34m:\u001b[0m\u001b[0;34m\u001b[0m\u001b[0;34m\u001b[0m\u001b[0m\n\u001b[1;32m    195\u001b[0m           \u001b[0;32mif\u001b[0m \u001b[0mself\u001b[0m\u001b[0;34m.\u001b[0m\u001b[0m_bound_context\u001b[0m\u001b[0;34m.\u001b[0m\u001b[0mexecuting_eagerly\u001b[0m\u001b[0;34m(\u001b[0m\u001b[0;34m)\u001b[0m\u001b[0;34m:\u001b[0m\u001b[0;34m\u001b[0m\u001b[0;34m\u001b[0m\u001b[0m\n\u001b[0;32m--> 196\u001b[0;31m             outputs = self._bound_context.call_function(\n\u001b[0m\u001b[1;32m    197\u001b[0m                 \u001b[0mself\u001b[0m\u001b[0;34m.\u001b[0m\u001b[0mname\u001b[0m\u001b[0;34m,\u001b[0m\u001b[0;34m\u001b[0m\u001b[0;34m\u001b[0m\u001b[0m\n\u001b[1;32m    198\u001b[0m                 \u001b[0mlist\u001b[0m\u001b[0;34m(\u001b[0m\u001b[0margs\u001b[0m\u001b[0;34m)\u001b[0m\u001b[0;34m,\u001b[0m\u001b[0;34m\u001b[0m\u001b[0;34m\u001b[0m\u001b[0m\n",
            "\u001b[0;32m/usr/local/lib/python3.10/dist-packages/tensorflow/python/eager/context.py\u001b[0m in \u001b[0;36mcall_function\u001b[0;34m(self, name, tensor_inputs, num_outputs)\u001b[0m\n\u001b[1;32m   1455\u001b[0m     \u001b[0mcancellation_context\u001b[0m \u001b[0;34m=\u001b[0m \u001b[0mcancellation\u001b[0m\u001b[0;34m.\u001b[0m\u001b[0mcontext\u001b[0m\u001b[0;34m(\u001b[0m\u001b[0;34m)\u001b[0m\u001b[0;34m\u001b[0m\u001b[0;34m\u001b[0m\u001b[0m\n\u001b[1;32m   1456\u001b[0m     \u001b[0;32mif\u001b[0m \u001b[0mcancellation_context\u001b[0m \u001b[0;32mis\u001b[0m \u001b[0;32mNone\u001b[0m\u001b[0;34m:\u001b[0m\u001b[0;34m\u001b[0m\u001b[0;34m\u001b[0m\u001b[0m\n\u001b[0;32m-> 1457\u001b[0;31m       outputs = execute.execute(\n\u001b[0m\u001b[1;32m   1458\u001b[0m           \u001b[0mname\u001b[0m\u001b[0;34m.\u001b[0m\u001b[0mdecode\u001b[0m\u001b[0;34m(\u001b[0m\u001b[0;34m\"utf-8\"\u001b[0m\u001b[0;34m)\u001b[0m\u001b[0;34m,\u001b[0m\u001b[0;34m\u001b[0m\u001b[0;34m\u001b[0m\u001b[0m\n\u001b[1;32m   1459\u001b[0m           \u001b[0mnum_outputs\u001b[0m\u001b[0;34m=\u001b[0m\u001b[0mnum_outputs\u001b[0m\u001b[0;34m,\u001b[0m\u001b[0;34m\u001b[0m\u001b[0;34m\u001b[0m\u001b[0m\n",
            "\u001b[0;32m/usr/local/lib/python3.10/dist-packages/tensorflow/python/eager/execute.py\u001b[0m in \u001b[0;36mquick_execute\u001b[0;34m(op_name, num_outputs, inputs, attrs, ctx, name)\u001b[0m\n\u001b[1;32m     51\u001b[0m   \u001b[0;32mtry\u001b[0m\u001b[0;34m:\u001b[0m\u001b[0;34m\u001b[0m\u001b[0;34m\u001b[0m\u001b[0m\n\u001b[1;32m     52\u001b[0m     \u001b[0mctx\u001b[0m\u001b[0;34m.\u001b[0m\u001b[0mensure_initialized\u001b[0m\u001b[0;34m(\u001b[0m\u001b[0;34m)\u001b[0m\u001b[0;34m\u001b[0m\u001b[0;34m\u001b[0m\u001b[0m\n\u001b[0;32m---> 53\u001b[0;31m     tensors = pywrap_tfe.TFE_Py_Execute(ctx._handle, device_name, op_name,\n\u001b[0m\u001b[1;32m     54\u001b[0m                                         inputs, attrs, num_outputs)\n\u001b[1;32m     55\u001b[0m   \u001b[0;32mexcept\u001b[0m \u001b[0mcore\u001b[0m\u001b[0;34m.\u001b[0m\u001b[0m_NotOkStatusException\u001b[0m \u001b[0;32mas\u001b[0m \u001b[0me\u001b[0m\u001b[0;34m:\u001b[0m\u001b[0;34m\u001b[0m\u001b[0;34m\u001b[0m\u001b[0m\n",
            "\u001b[0;31mKeyboardInterrupt\u001b[0m: "
          ]
        }
      ]
    },
    {
      "cell_type": "code",
      "source": [
        "model.save('/content/drive/MyDrive/Projects/1/classifier_residual_50.keras')"
      ],
      "metadata": {
        "id": "Y4v-eq2ATLIr"
      },
      "execution_count": null,
      "outputs": []
    },
    {
      "cell_type": "code",
      "source": [
        "history_clf_dict = history_clf.history\n",
        "loss_values = history_clf_dict[\"loss\"]\n",
        "val_loss_values = history_clf_dict[\"val_loss\"]\n",
        "epochs = range(1, len(loss_values) + 1)\n",
        "plt.figure(figsize=(5,2))\n",
        "plt.plot(epochs, loss_values, \"bo\", label=\"Training loss\")\n",
        "plt.plot(epochs, val_loss_values, \"b\", label=\"Validation loss\")\n",
        "plt.title(\"Training and validation loss\")\n",
        "plt.xlabel(\"Epochs\")\n",
        "plt.ylabel(\"Loss\")\n",
        "plt.legend()\n",
        "plt.show()"
      ],
      "metadata": {
        "colab": {
          "base_uri": "https://localhost:8080/",
          "height": 256
        },
        "id": "OfvhXCPCMNUP",
        "outputId": "4cb99d38-08fa-402a-d71d-932f438a003f"
      },
      "execution_count": 21,
      "outputs": [
        {
          "output_type": "display_data",
          "data": {
            "text/plain": [
              "<Figure size 500x200 with 1 Axes>"
            ],
            "image/png": "[encoded data removed]"
          },
          "metadata": {}
        }
      ]
    },
    {
      "cell_type": "code",
      "source": [
        "plt.clf()\n",
        "acc = history_clf_dict[\"accuracy\"]\n",
        "val_acc = history_clf_dict[\"val_accuracy\"]\n",
        "plt.figure(figsize=(5,2))\n",
        "plt.plot(epochs, acc, \"bo\", label=\"Training acc\")\n",
        "plt.plot(epochs, val_acc, \"b\", label=\"Validation acc\")\n",
        "plt.title(\"Training and validation accuracy\")\n",
        "plt.xlabel(\"Epochs\")\n",
        "plt.ylabel(\"Accuracy\")\n",
        "plt.legend()\n",
        "plt.show()"
      ],
      "metadata": {
        "colab": {
          "base_uri": "https://localhost:8080/",
          "height": 274
        },
        "id": "Vx8DOwuFMsPJ",
        "outputId": "3c054e02-33cf-491c-eede-629d28544ecd"
      },
      "execution_count": 22,
      "outputs": [
        {
          "output_type": "display_data",
          "data": {
            "text/plain": [
              "<Figure size 640x480 with 0 Axes>"
            ]
          },
          "metadata": {}
        },
        {
          "output_type": "display_data",
          "data": {
            "text/plain": [
              "<Figure size 500x200 with 1 Axes>"
            ],
            "image/png": "[encoded data removed]"
          },
          "metadata": {}
        }
      ]
    },
    {
      "cell_type": "code",
      "source": [
        "classifier =  tf.keras.saving.load_model('/content/drive/MyDrive/Projects/1/classifier_residual_50.keras')"
      ],
      "metadata": {
        "id": "G-BSZNQJUHWB"
      },
      "execution_count": null,
      "outputs": []
    }
  ],
  "metadata": {
    "accelerator": "GPU",
    "colab": {
      "gpuType": "T4",
      "provenance": []
    },
    "kernelspec": {
      "display_name": "Python 3",
      "name": "python3"
    },
    "language_info": {
      "name": "python"
    }
  },
  "nbformat": 4,
  "nbformat_minor": 0
}