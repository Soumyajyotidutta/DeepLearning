{
  "cells": [
    {
      "cell_type": "markdown",
      "source": [
        "#### Import Libraries | Set the Computation Device as GPU | Connect Google Drive to Load Data"
      ],
      "metadata": {
        "id": "11OHtXqvRo-z"
      }
    },
    {
      "cell_type": "code",
      "execution_count": 1,
      "metadata": {
        "id": "DkyMBa9dCt_n"
      },
      "outputs": [],
      "source": [
        "import numpy as np\n",
        "import matplotlib.pyplot as plt\n",
        "import tensorflow as tf\n",
        "from keras import Sequential\n",
        "from keras.layers import Dense, Conv2D, MaxPooling2D, UpSampling2D\n",
        "from keras.datasets import mnist\n",
        "from sklearn.model_selection import train_test_split\n",
        "from sklearn.utils import shuffle"
      ]
    },
    {
      "cell_type": "code",
      "execution_count": 2,
      "metadata": {
        "colab": {
          "base_uri": "https://localhost:8080/"
        },
        "id": "Qmi3BEomAyFK",
        "outputId": "57856a32-0e74-47af-d03e-7de695955228"
      },
      "outputs": [
        {
          "output_type": "execute_result",
          "data": {
            "text/plain": [
              "[PhysicalDevice(name='/physical_device:GPU:0', device_type='GPU')]"
            ]
          },
          "metadata": {},
          "execution_count": 2
        }
      ],
      "source": [
        "tf.config.list_physical_devices('GPU')"
      ]
    },
    {
      "cell_type": "code",
      "execution_count": 3,
      "metadata": {
        "colab": {
          "base_uri": "https://localhost:8080/"
        },
        "id": "iRDm9PdEQZyL",
        "outputId": "d36a66f9-2381-4e64-87f9-6e4c4b9ef434"
      },
      "outputs": [
        {
          "output_type": "stream",
          "name": "stdout",
          "text": [
            "Mounted at /content/drive\n"
          ]
        }
      ],
      "source": [
        "from google.colab import drive\n",
        "drive.mount('/content/drive')"
      ]
    },
    {
      "cell_type": "markdown",
      "source": [
        "#### Load MNIST, Noisy MNIST and Process the Data to Train Denoiser"
      ],
      "metadata": {
        "id": "3qKUqMSpR4Dk"
      }
    },
    {
      "cell_type": "markdown",
      "source": [
        "##### Load MNIST"
      ],
      "metadata": {
        "id": "Mn_sl69NSzuY"
      }
    },
    {
      "cell_type": "code",
      "execution_count": 4,
      "metadata": {
        "id": "dQNBN2a6A0jg",
        "colab": {
          "base_uri": "https://localhost:8080/"
        },
        "outputId": "abd227c5-e419-4db7-db74-fbd7089daf64"
      },
      "outputs": [
        {
          "output_type": "stream",
          "name": "stdout",
          "text": [
            "Downloading data from https://storage.googleapis.com/tensorflow/tf-keras-datasets/mnist.npz\n",
            "11490434/11490434 [==============================] - 1s 0us/step\n"
          ]
        }
      ],
      "source": [
        "(x_train, y_mnist_train), (x_test, y_mnist_test) = mnist.load_data()"
      ]
    },
    {
      "cell_type": "code",
      "execution_count": 5,
      "metadata": {
        "id": "3YWDNqJ0A6j2"
      },
      "outputs": [],
      "source": [
        "x_train = x_train.astype('float32') / 255\n",
        "x_test = x_test.astype('float32') / 255"
      ]
    },
    {
      "cell_type": "code",
      "execution_count": 6,
      "metadata": {
        "id": "zwyUHEkIA_Ni",
        "colab": {
          "base_uri": "https://localhost:8080/"
        },
        "outputId": "43abb5f4-41a8-45fb-a95b-3f97f997e168"
      },
      "outputs": [
        {
          "output_type": "stream",
          "name": "stdout",
          "text": [
            "(60000, 28, 28, 1)\n"
          ]
        }
      ],
      "source": [
        "x_train = x_train.reshape(len(x_train), 28, 28, 1)\n",
        "x_test = x_test.reshape(len(x_test), 28, 28, 1)\n",
        "print(x_train.shape)"
      ]
    },
    {
      "cell_type": "markdown",
      "source": [
        "##### Dividing MNIST by Labels"
      ],
      "metadata": {
        "id": "1L_DCMxYSAms"
      }
    },
    {
      "cell_type": "code",
      "execution_count": 7,
      "metadata": {
        "id": "S7GOL0Gzv8D7",
        "colab": {
          "base_uri": "https://localhost:8080/"
        },
        "outputId": "dd2d6ca8-b19f-453b-e0c3-3840c916b9be"
      },
      "outputs": [
        {
          "output_type": "stream",
          "name": "stdout",
          "text": [
            "(5923, 28, 28, 1): X Train Label 0, (6742, 28, 28, 1): X Train Label 1\n",
            "(5958, 28, 28, 1): X Train Label 2, (6131, 28, 28, 1): X Train Label 3\n",
            "(5842, 28, 28, 1): X Train Label 4, (5421, 28, 28, 1): X Train Label 5\n",
            "(5918, 28, 28, 1): X Train Label 6, (6265, 28, 28, 1): X Train Label 7\n",
            "(5851, 28, 28, 1): X Train Label 8, (5949, 28, 28, 1): X Train Label 9\n"
          ]
        }
      ],
      "source": [
        "x_train0 = x_train[y_mnist_train == 0]\n",
        "x_train1 = x_train[y_mnist_train == 1]\n",
        "x_train2 = x_train[y_mnist_train == 2]\n",
        "x_train3 = x_train[y_mnist_train == 3]\n",
        "x_train4 = x_train[y_mnist_train == 4]\n",
        "x_train5 = x_train[y_mnist_train == 5]\n",
        "x_train6 = x_train[y_mnist_train == 6]\n",
        "x_train7 = x_train[y_mnist_train == 7]\n",
        "x_train8 = x_train[y_mnist_train == 8]\n",
        "x_train9 = x_train[y_mnist_train == 9]\n",
        "print(f'{x_train0.shape}: X Train Label 0, {x_train1.shape}: X Train Label 1')\n",
        "print(f'{x_train2.shape}: X Train Label 2, {x_train3.shape}: X Train Label 3')\n",
        "print(f'{x_train4.shape}: X Train Label 4, {x_train5.shape}: X Train Label 5')\n",
        "print(f'{x_train6.shape}: X Train Label 6, {x_train7.shape}: X Train Label 7')\n",
        "print(f'{x_train8.shape}: X Train Label 8, {x_train9.shape}: X Train Label 9')"
      ]
    },
    {
      "cell_type": "code",
      "execution_count": 8,
      "metadata": {
        "id": "_tC8GO7K_4qn",
        "colab": {
          "base_uri": "https://localhost:8080/"
        },
        "outputId": "0838abf8-2263-4052-87a4-bf1b926bcce7"
      },
      "outputs": [
        {
          "output_type": "stream",
          "name": "stdout",
          "text": [
            "(5923,): y Train Label 0, (6742,): y Train Label 1\n",
            "(5958,): y Train Label 2, (6131,): y Train Label 3\n",
            "(5842,): y Train Label 4, (5421,): y Train Label 5\n",
            "(5918,): y Train Label 6, (6265,): y Train Label 7\n",
            "(5851,): y Train Label 8, (5949,): y Train Label 9\n"
          ]
        }
      ],
      "source": [
        "y_mnist_train0 = y_mnist_train[y_mnist_train == 0]\n",
        "y_mnist_train1 = y_mnist_train[y_mnist_train == 1]\n",
        "y_mnist_train2 = y_mnist_train[y_mnist_train == 2]\n",
        "y_mnist_train3 = y_mnist_train[y_mnist_train == 3]\n",
        "y_mnist_train4 = y_mnist_train[y_mnist_train == 4]\n",
        "y_mnist_train5 = y_mnist_train[y_mnist_train == 5]\n",
        "y_mnist_train6 = y_mnist_train[y_mnist_train == 6]\n",
        "y_mnist_train7 = y_mnist_train[y_mnist_train == 7]\n",
        "y_mnist_train8 = y_mnist_train[y_mnist_train == 8]\n",
        "y_mnist_train9 = y_mnist_train[y_mnist_train == 9]\n",
        "print(f'{y_mnist_train0.shape}: y Train Label 0, {y_mnist_train1.shape}: y Train Label 1')\n",
        "print(f'{y_mnist_train2.shape}: y Train Label 2, {y_mnist_train3.shape}: y Train Label 3')\n",
        "print(f'{y_mnist_train4.shape}: y Train Label 4, {y_mnist_train5.shape}: y Train Label 5')\n",
        "print(f'{y_mnist_train6.shape}: y Train Label 6, {y_mnist_train7.shape}: y Train Label 7')\n",
        "print(f'{y_mnist_train8.shape}: y Train Label 8, {y_mnist_train9.shape}: y Train Label 9')"
      ]
    },
    {
      "cell_type": "markdown",
      "source": [
        "##### Final MNIST Train Data"
      ],
      "metadata": {
        "id": "Un8Ou6R7SIKD"
      }
    },
    {
      "cell_type": "code",
      "execution_count": 9,
      "metadata": {
        "id": "eI6G4hfxBOQ9"
      },
      "outputs": [],
      "source": [
        "traindata = np.vstack((x_train0, x_train1[:6683], x_train2, x_train3, x_train4[:5818], x_train5[:5403], x_train6[:5894],\n",
        "                       x_train7[:6252], x_train8[:5849], x_train9))"
      ]
    },
    {
      "cell_type": "code",
      "execution_count": 10,
      "metadata": {
        "id": "WvA8HZhuyVJj"
      },
      "outputs": [],
      "source": [
        "traindata_shuffled = shuffle(traindata, random_state=42)"
      ]
    },
    {
      "cell_type": "code",
      "execution_count": 11,
      "metadata": {
        "id": "f4LDKqNDB1U1",
        "colab": {
          "base_uri": "https://localhost:8080/"
        },
        "outputId": "13034eba-a90d-4181-9942-9d9722a7bec0"
      },
      "outputs": [
        {
          "output_type": "stream",
          "name": "stdout",
          "text": [
            "(59860, 28, 28, 1)\n"
          ]
        }
      ],
      "source": [
        "print(traindata_shuffled.shape)"
      ]
    },
    {
      "cell_type": "markdown",
      "source": [
        "##### Load Noisy MNIST and Process the Data"
      ],
      "metadata": {
        "id": "Hjsog6gySQIt"
      }
    },
    {
      "cell_type": "code",
      "execution_count": 12,
      "metadata": {
        "id": "dg0QzTZHBasb"
      },
      "outputs": [],
      "source": [
        "import pickle\n",
        "\n",
        "with open ('/content/drive/MyDrive/DL-Proj-Final/636_project1_train_images', 'rb') as trainfile:\n",
        "  noisyimages = pickle.load(trainfile)\n",
        "\n",
        "with open ('/content/drive/MyDrive/DL-Proj-Final/636_project1_train_labels', 'rb') as labelsfile:\n",
        "  noisylabels = pickle.load(labelsfile)"
      ]
    },
    {
      "cell_type": "code",
      "execution_count": 13,
      "metadata": {
        "id": "8u0z2xnJOM11",
        "colab": {
          "base_uri": "https://localhost:8080/"
        },
        "outputId": "5bcc22d8-341d-4e95-a152-556ad198222e"
      },
      "outputs": [
        {
          "output_type": "stream",
          "name": "stdout",
          "text": [
            "(60000, 28, 28, 1)\n"
          ]
        }
      ],
      "source": [
        "noisyimages = np.array(noisyimages)\n",
        "noisylabels = np.array(noisylabels)\n",
        "\n",
        "noisyimages = noisyimages.astype('float32') / 255\n",
        "noisyimages = noisyimages.reshape(len(noisyimages), 28, 28, 1)\n",
        "print(noisyimages.shape)"
      ]
    },
    {
      "cell_type": "markdown",
      "source": [
        "##### Dividing Noisy MNIST by Labels"
      ],
      "metadata": {
        "id": "f_fZ5XX0SZE7"
      }
    },
    {
      "cell_type": "code",
      "execution_count": 14,
      "metadata": {
        "id": "h9BQnG8QEh6m",
        "colab": {
          "base_uri": "https://localhost:8080/"
        },
        "outputId": "9df714e6-e340-4441-b58a-2e554404dcae"
      },
      "outputs": [
        {
          "output_type": "stream",
          "name": "stdout",
          "text": [
            "(5972, 28, 28, 1): X Train Noisy Label 0, (6683, 28, 28, 1): X Train Noisy Label 1\n",
            "(6010, 28, 28, 1): X Train Noisy Label 2, (6156, 28, 28, 1): X Train Noisy Label 3\n",
            "(5818, 28, 28, 1): X Train Noisy Label 4, (5403, 28, 28, 1): X Train Noisy Label 5\n",
            "(5894, 28, 28, 1): X Train Noisy Label 6, (6252, 28, 28, 1): X Train Noisy Label 7\n",
            "(5849, 28, 28, 1): X Train Noisy Label 8, (5963, 28, 28, 1): X Train Noisy Label 9\n"
          ]
        }
      ],
      "source": [
        "x_train_noisy0 = noisyimages[noisylabels == 0]\n",
        "x_train_noisy1 = noisyimages[noisylabels == 1]\n",
        "x_train_noisy2 = noisyimages[noisylabels == 2]\n",
        "x_train_noisy3 = noisyimages[noisylabels == 3]\n",
        "x_train_noisy4 = noisyimages[noisylabels == 4]\n",
        "x_train_noisy5 = noisyimages[noisylabels == 5]\n",
        "x_train_noisy6 = noisyimages[noisylabels == 6]\n",
        "x_train_noisy7 = noisyimages[noisylabels == 7]\n",
        "x_train_noisy8 = noisyimages[noisylabels == 8]\n",
        "x_train_noisy9 = noisyimages[noisylabels == 9]\n",
        "print(f'{x_train_noisy0.shape}: X Train Noisy Label 0, {x_train_noisy1.shape}: X Train Noisy Label 1')\n",
        "print(f'{x_train_noisy2.shape}: X Train Noisy Label 2, {x_train_noisy3.shape}: X Train Noisy Label 3')\n",
        "print(f'{x_train_noisy4.shape}: X Train Noisy Label 4, {x_train_noisy5.shape}: X Train Noisy Label 5')\n",
        "print(f'{x_train_noisy6.shape}: X Train Noisy Label 6, {x_train_noisy7.shape}: X Train Noisy Label 7')\n",
        "print(f'{x_train_noisy8.shape}: X Train Noisy Label 8, {x_train_noisy9.shape}: X Train Noisy Label 9')"
      ]
    },
    {
      "cell_type": "code",
      "execution_count": 15,
      "metadata": {
        "id": "DI-2FiDDyl4G",
        "colab": {
          "base_uri": "https://localhost:8080/"
        },
        "outputId": "f37283b8-0c40-461c-8331-1057c9db36a5"
      },
      "outputs": [
        {
          "output_type": "stream",
          "name": "stdout",
          "text": [
            "(5972,): y Train Label 0, (6683,): y Train Label 1\n",
            "(6010,): y Train Label 2, (6156,): y Train Label 3\n",
            "(5818,): y Train Label 4, (5403,): y Train Label 5\n",
            "(5894,): y Train Label 6, (6252,): y Train Label 7\n",
            "(5849,): y Train Label 8, (5963,): y Train Label 9\n"
          ]
        }
      ],
      "source": [
        "y_noisy_train0 = noisylabels[noisylabels == 0]\n",
        "y_noisy_train1 = noisylabels[noisylabels == 1]\n",
        "y_noisy_train2 = noisylabels[noisylabels == 2]\n",
        "y_noisy_train3 = noisylabels[noisylabels == 3]\n",
        "y_noisy_train4 = noisylabels[noisylabels == 4]\n",
        "y_noisy_train5 = noisylabels[noisylabels == 5]\n",
        "y_noisy_train6 = noisylabels[noisylabels == 6]\n",
        "y_noisy_train7 = noisylabels[noisylabels == 7]\n",
        "y_noisy_train8 = noisylabels[noisylabels == 8]\n",
        "y_noisy_train9 = noisylabels[noisylabels == 9]\n",
        "print(f'{y_noisy_train0.shape}: y Train Label 0, {y_noisy_train1.shape}: y Train Label 1')\n",
        "print(f'{y_noisy_train2.shape}: y Train Label 2, {y_noisy_train3.shape}: y Train Label 3')\n",
        "print(f'{y_noisy_train4.shape}: y Train Label 4, {y_noisy_train5.shape}: y Train Label 5')\n",
        "print(f'{y_noisy_train6.shape}: y Train Label 6, {y_noisy_train7.shape}: y Train Label 7')\n",
        "print(f'{y_noisy_train8.shape}: y Train Label 8, {y_noisy_train9.shape}: y Train Label 9')"
      ]
    },
    {
      "cell_type": "markdown",
      "source": [
        "##### Final Noisy MNIST Train Data"
      ],
      "metadata": {
        "id": "3oDTjXcISdjo"
      }
    },
    {
      "cell_type": "code",
      "execution_count": 16,
      "metadata": {
        "id": "TVQJzNKFB6IF"
      },
      "outputs": [],
      "source": [
        "traindata_noisy = np.vstack((x_train_noisy0[:5923], x_train_noisy1, x_train_noisy2[:5958], x_train_noisy3[:6131], x_train_noisy4,\n",
        "                             x_train_noisy5, x_train_noisy6, x_train_noisy7, x_train_noisy8, x_train_noisy9[:5949]))"
      ]
    },
    {
      "cell_type": "code",
      "execution_count": 17,
      "metadata": {
        "id": "qf0e3cIEzELY"
      },
      "outputs": [],
      "source": [
        "traindata_noisy_shuffled = shuffle(traindata_noisy, random_state=42)"
      ]
    },
    {
      "cell_type": "code",
      "execution_count": 18,
      "metadata": {
        "id": "C0dAZOP5CD_I",
        "colab": {
          "base_uri": "https://localhost:8080/"
        },
        "outputId": "9c98f586-3d54-4a9d-dd0d-dcf2a89463f0"
      },
      "outputs": [
        {
          "output_type": "stream",
          "name": "stdout",
          "text": [
            "(59860, 28, 28, 1)\n"
          ]
        }
      ],
      "source": [
        "print(traindata_noisy_shuffled.shape)"
      ]
    },
    {
      "cell_type": "markdown",
      "source": [
        "#### AutoEncoder as Denoiser"
      ],
      "metadata": {
        "id": "f77RoqPuS47r"
      }
    },
    {
      "cell_type": "markdown",
      "source": [
        "##### Define Model"
      ],
      "metadata": {
        "id": "WaD88pmzS_vt"
      }
    },
    {
      "cell_type": "code",
      "execution_count": 19,
      "metadata": {
        "id": "ojhMATHICK6p"
      },
      "outputs": [],
      "source": [
        "model = Sequential([\n",
        "                    # encoder network\n",
        "                    Conv2D(256, 3, activation='relu', padding='same', input_shape=(28, 28, 1)),\n",
        "                    Conv2D(128, 3, activation='relu', padding='same'),\n",
        "                    MaxPooling2D(2, padding='same'),\n",
        "                    Conv2D(64, 3, activation='relu', padding='same'),\n",
        "                    MaxPooling2D(2, padding='same'),\n",
        "                    Conv2D(32, 3, activation='relu', padding='same'),\n",
        "                    Conv2D(16, 3, activation='relu', padding='same'),\n",
        "\n",
        "                    # decoder network\n",
        "                    Conv2D(16, 3, activation='relu', padding='same'),\n",
        "                    Conv2D(32, 3, activation='relu', padding='same'),\n",
        "                    Conv2D(64, 3, activation='relu', padding='same'),\n",
        "                    UpSampling2D(2),\n",
        "                    Conv2D(128, 3, activation='relu', padding='same'),\n",
        "                    UpSampling2D(2),\n",
        "                    Conv2D(256, 3, activation='relu', padding='same', input_shape=(28, 28, 1)),\n",
        "\n",
        "                    # output layer\n",
        "                    Conv2D(1, 3, activation='sigmoid', padding='same')\n",
        "])\n",
        "\n",
        "model.compile(optimizer='adam', loss='binary_crossentropy')"
      ]
    },
    {
      "cell_type": "markdown",
      "source": [
        "##### Train | Save | Load the AutoEncoder Model"
      ],
      "metadata": {
        "id": "oWNMRZuATDgj"
      }
    },
    {
      "cell_type": "code",
      "execution_count": null,
      "metadata": {
        "id": "BsJSBoC5CPY4"
      },
      "outputs": [],
      "source": [
        "history = model.fit(traindata_noisy, traindata, epochs=150, batch_size=128)\n",
        "# Did now show the training result because training again for 150 epochs would be really computationally expensive"
      ]
    },
    {
      "cell_type": "code",
      "execution_count": null,
      "metadata": {
        "id": "TsUmru1ngFDr"
      },
      "outputs": [],
      "source": [
        "model.save('/content/drive/MyDrive/DL-Proj-Final/autoencoder_edition2_256_150_notShuffled.keras')"
      ]
    },
    {
      "cell_type": "code",
      "execution_count": 20,
      "metadata": {
        "id": "rY23M1tRk8z9"
      },
      "outputs": [],
      "source": [
        "autoencoder = tf.keras.saving.load_model(\n",
        "    '/content/drive/MyDrive/DL-Proj-Final/autoencoder_edition2_256_150_notShuffled.keras'\n",
        ")"
      ]
    },
    {
      "cell_type": "code",
      "source": [
        "autoencoder.summary()"
      ],
      "metadata": {
        "colab": {
          "base_uri": "https://localhost:8080/"
        },
        "id": "aeRpnu2adp2O",
        "outputId": "0a07de28-a0f3-4ec5-ffd5-7a8e1c1e9ce2"
      },
      "execution_count": 21,
      "outputs": [
        {
          "output_type": "stream",
          "name": "stdout",
          "text": [
            "Model: \"sequential\"\n",
            "_________________________________________________________________\n",
            " Layer (type)                Output Shape              Param #   \n",
            "=================================================================\n",
            " conv2d (Conv2D)             (None, 28, 28, 256)       2560      \n",
            "                                                                 \n",
            " conv2d_1 (Conv2D)           (None, 28, 28, 128)       295040    \n",
            "                                                                 \n",
            " max_pooling2d (MaxPooling2  (None, 14, 14, 128)       0         \n",
            " D)                                                              \n",
            "                                                                 \n",
            " conv2d_2 (Conv2D)           (None, 14, 14, 64)        73792     \n",
            "                                                                 \n",
            " max_pooling2d_1 (MaxPoolin  (None, 7, 7, 64)          0         \n",
            " g2D)                                                            \n",
            "                                                                 \n",
            " conv2d_3 (Conv2D)           (None, 7, 7, 32)          18464     \n",
            "                                                                 \n",
            " conv2d_4 (Conv2D)           (None, 7, 7, 16)          4624      \n",
            "                                                                 \n",
            " conv2d_5 (Conv2D)           (None, 7, 7, 16)          2320      \n",
            "                                                                 \n",
            " conv2d_6 (Conv2D)           (None, 7, 7, 32)          4640      \n",
            "                                                                 \n",
            " conv2d_7 (Conv2D)           (None, 7, 7, 64)          18496     \n",
            "                                                                 \n",
            " up_sampling2d (UpSampling2  (None, 14, 14, 64)        0         \n",
            " D)                                                              \n",
            "                                                                 \n",
            " conv2d_8 (Conv2D)           (None, 14, 14, 128)       73856     \n",
            "                                                                 \n",
            " up_sampling2d_1 (UpSamplin  (None, 28, 28, 128)       0         \n",
            " g2D)                                                            \n",
            "                                                                 \n",
            " conv2d_9 (Conv2D)           (None, 28, 28, 256)       295168    \n",
            "                                                                 \n",
            " conv2d_10 (Conv2D)          (None, 28, 28, 1)         2305      \n",
            "                                                                 \n",
            "=================================================================\n",
            "Total params: 791265 (3.02 MB)\n",
            "Trainable params: 791265 (3.02 MB)\n",
            "Non-trainable params: 0 (0.00 Byte)\n",
            "_________________________________________________________________\n"
          ]
        }
      ]
    },
    {
      "cell_type": "markdown",
      "source": [
        "#### Denoise Noisy MNIST Data"
      ],
      "metadata": {
        "id": "K3fYvzJVTMHp"
      }
    },
    {
      "cell_type": "markdown",
      "source": [
        "##### Entire Denosied Data"
      ],
      "metadata": {
        "id": "4IN1x5VITY2c"
      }
    },
    {
      "cell_type": "code",
      "execution_count": 22,
      "metadata": {
        "colab": {
          "base_uri": "https://localhost:8080/"
        },
        "id": "ohJWW5uTLnYW",
        "outputId": "b06b05f4-2b4d-4310-ae22-ffd5eacbe7ad"
      },
      "outputs": [
        {
          "output_type": "stream",
          "name": "stdout",
          "text": [
            "1875/1875 [==============================] - 15s 3ms/step\n"
          ]
        }
      ],
      "source": [
        "pred = autoencoder.predict(noisyimages)"
      ]
    },
    {
      "cell_type": "markdown",
      "source": [
        "##### Labelwise Denoising"
      ],
      "metadata": {
        "id": "-UIFJI9FTSqo"
      }
    },
    {
      "cell_type": "code",
      "execution_count": 23,
      "metadata": {
        "colab": {
          "base_uri": "https://localhost:8080/"
        },
        "id": "3E1CZ7mk5pQo",
        "outputId": "ab13978e-e34e-4627-d87e-fb2aee0cad18"
      },
      "outputs": [
        {
          "output_type": "stream",
          "name": "stdout",
          "text": [
            "2/2 [==============================] - 0s 206ms/step\n",
            "53/53 [==============================] - 0s 7ms/step\n",
            "2/2 [==============================] - 0s 5ms/step\n",
            "1/1 [==============================] - 0s 215ms/step\n",
            "26/26 [==============================] - 0s 12ms/step\n",
            "13/13 [==============================] - 0s 4ms/step\n",
            "28/28 [==============================] - 0s 11ms/step\n",
            "40/40 [==============================] - 0s 8ms/step\n",
            "27/27 [==============================] - 0s 10ms/step\n",
            "1/1 [==============================] - 0s 148ms/step\n"
          ]
        }
      ],
      "source": [
        "predTest0 = autoencoder.predict(noisyimages[noisylabels==0][5924:])\n",
        "predTest1 = autoencoder.predict(noisyimages[noisylabels==1][5000:])\n",
        "predTest2 = autoencoder.predict(noisyimages[noisylabels==2][5959:])\n",
        "predTest3 = autoencoder.predict(noisyimages[noisylabels==3][6132:])\n",
        "predTest4 = autoencoder.predict(noisyimages[noisylabels==4][5000:])\n",
        "predTest5 = autoencoder.predict(noisyimages[noisylabels==5][5000:])\n",
        "predTest6 = autoencoder.predict(noisyimages[noisylabels==6][5000:])\n",
        "predTest7 = autoencoder.predict(noisyimages[noisylabels==7][5000:])\n",
        "predTest8 = autoencoder.predict(noisyimages[noisylabels==8][5000:])\n",
        "predTest9 = autoencoder.predict(noisyimages[noisylabels==9][5950:])"
      ]
    },
    {
      "cell_type": "markdown",
      "source": [
        "##### Display Function to Plot the Difference b/w Noisy MNIST and the Denoised Version"
      ],
      "metadata": {
        "id": "tRRdDdFNTcE8"
      }
    },
    {
      "cell_type": "code",
      "execution_count": 24,
      "metadata": {
        "id": "EHybfETblHy7"
      },
      "outputs": [],
      "source": [
        "def display(array1, array2, labels):\n",
        "    \"\"\"\n",
        "    Displays ten random images from each one of the supplied arrays.\n",
        "    \"\"\"\n",
        "\n",
        "    n = 10\n",
        "\n",
        "    indices = np.random.randint(len(array1), size=n)\n",
        "    images1 = array1[indices, :]\n",
        "    images2 = array2[indices, :]\n",
        "\n",
        "    plt.figure(figsize=(20, 4))\n",
        "    print(f'Labels provided for the images: {labels[indices]}')\n",
        "\n",
        "    for i, (image1, image2) in enumerate(zip(images1, images2)):\n",
        "\n",
        "        ax = plt.subplot(2, n, i + 1)\n",
        "        plt.imshow(image1.reshape(28, 28))\n",
        "        plt.gray()\n",
        "        ax.get_xaxis().set_visible(False)\n",
        "        ax.get_yaxis().set_visible(False)\n",
        "\n",
        "        ax = plt.subplot(2, n, i + 1 + n)\n",
        "        plt.imshow(image2.reshape(28, 28))\n",
        "        plt.gray()\n",
        "        ax.get_xaxis().set_visible(False)\n",
        "        ax.get_yaxis().set_visible(False)\n",
        "\n",
        "    plt.show()"
      ]
    },
    {
      "cell_type": "code",
      "execution_count": 26,
      "metadata": {
        "colab": {
          "base_uri": "https://localhost:8080/",
          "height": 281
        },
        "id": "FCWGEFbylhHh",
        "outputId": "7286b1bb-b988-49d0-a2dd-d7532df86acb"
      },
      "outputs": [
        {
          "output_type": "stream",
          "name": "stdout",
          "text": [
            "Labels provided for the images: [5 4 7 0 3 0 4 6 4 7]\n"
          ]
        },
        {
          "output_type": "display_data",
          "data": {
            "text/plain": [
              "<Figure size 2000x400 with 20 Axes>"
            ],
            "image/png": "[encoded data removed]"
          },
          "metadata": {}
        }
      ],
      "source": [
        "display(noisyimages, pred, noisylabels)"
      ]
    },
    {
      "cell_type": "markdown",
      "source": [
        "##### Labelwise Plots // Uncomment Single Line and Run Cell if Required"
      ],
      "metadata": {
        "id": "Rit-vvFITpO3"
      }
    },
    {
      "cell_type": "code",
      "execution_count": 27,
      "metadata": {
        "id": "Ws33eJYl512Y",
        "colab": {
          "base_uri": "https://localhost:8080/",
          "height": 36
        },
        "outputId": "aefcb791-7e9a-470b-93ac-da2f5ee4ef19"
      },
      "outputs": [
        {
          "output_type": "execute_result",
          "data": {
            "text/plain": [
              "'\\nDISPLAY RECOVERED IMAGES FOR EACH CLASS\\n'"
            ],
            "application/vnd.google.colaboratory.intrinsic+json": {
              "type": "string"
            }
          },
          "metadata": {},
          "execution_count": 27
        }
      ],
      "source": [
        "'''\n",
        "DISPLAY RECOVERED IMAGES FOR EACH CLASS\n",
        "'''\n",
        "# display(np.array(noisyimages[noisylabels==0][5924:]), predTest0, np.array(noisylabels[noisylabels==0][5924:]))\n",
        "# display(np.array(noisyimages[noisylabels==1][5000:]), predTest1, np.array(noisylabels[noisylabels==1][5000:]))\n",
        "# display(np.array(noisyimages[noisylabels==2][5959:]), predTest2, np.array(noisylabels[noisylabels==2][5959:]))\n",
        "# display(np.array(noisyimages[noisylabels==3][6132:]), predTest3, np.array(noisylabels[noisylabels==3][6132:]))\n",
        "# display(np.array(noisyimages[noisylabels==4][5000:]), predTest4, np.array(noisylabels[noisylabels==4][5000:]))\n",
        "# display(np.array(noisyimages[noisylabels==5][5000:]), predTest5, np.array(noisylabels[noisylabels==5][5000:]))\n",
        "# display(np.array(noisyimages[noisylabels==6][5000:]), predTest6, np.array(noisylabels[noisylabels==6][5000:]))\n",
        "# display(np.array(noisyimages[noisylabels==7][5000:]), predTest7, np.array(noisylabels[noisylabels==7][5000:]))\n",
        "# display(np.array(noisyimages[noisylabels==8][5000:]), predTest8, np.array(noisylabels[noisylabels==8][5000:]))\n",
        "# display(np.array(noisyimages[noisylabels==9][5950:]), predTest9, np.array(noisylabels[noisylabels==9][5950:]))"
      ]
    },
    {
      "cell_type": "markdown",
      "source": [
        "#### Take the Denoised Data and Prepare it for Classifier"
      ],
      "metadata": {
        "id": "6Knu7Ly_UTBC"
      }
    },
    {
      "cell_type": "markdown",
      "source": [
        "##### Train - Validation Split"
      ],
      "metadata": {
        "id": "vZsP4wcrUZ9D"
      }
    },
    {
      "cell_type": "code",
      "source": [
        "from sklearn.model_selection import train_test_split\n",
        "\n",
        "X = pred\n",
        "y = noisylabels\n",
        "\n",
        "X_train_clf, X_val_clf, y_train_clf, y_val_clf = train_test_split(X, y, test_size=0.2, random_state=42)"
      ],
      "metadata": {
        "id": "5iqo2rDU1e9p"
      },
      "execution_count": 28,
      "outputs": []
    },
    {
      "cell_type": "markdown",
      "source": [
        "##### Caategorical Label [With Help of One Hot Encoding]"
      ],
      "metadata": {
        "id": "R0YDOE8tUfID"
      }
    },
    {
      "cell_type": "code",
      "source": [
        "y_train_clf = tf.one_hot(y_train_clf, depth = 10)\n",
        "y_val_clf = tf.one_hot(y_val_clf, depth = 10)\n",
        "\n",
        "# Experimental\n",
        "'''\n",
        "y_test_clf = tf.one_hot(y_test_clf, depth = 10)\n",
        "'''"
      ],
      "metadata": {
        "id": "mxGIr3rX22C1"
      },
      "execution_count": 29,
      "outputs": []
    },
    {
      "cell_type": "code",
      "source": [
        "print(X_train_clf.shape, y_train_clf.shape)\n",
        "print(X_val_clf.shape, y_val_clf.shape)\n",
        "\n",
        "# Experimental\n",
        "'''\n",
        "print(X_test_clf.shape, y_test_clf.shape)\n",
        "'''"
      ],
      "metadata": {
        "colab": {
          "base_uri": "https://localhost:8080/"
        },
        "id": "11qwQUwb24ap",
        "outputId": "333e205b-16d4-4ef4-fbfd-89bb575df919"
      },
      "execution_count": 30,
      "outputs": [
        {
          "output_type": "stream",
          "name": "stdout",
          "text": [
            "(48000, 28, 28, 1) (48000, 10)\n",
            "(12000, 28, 28, 1) (12000, 10)\n"
          ]
        }
      ]
    },
    {
      "cell_type": "markdown",
      "source": [
        "#### Classifier"
      ],
      "metadata": {
        "id": "BMsu0GdCUoCl"
      }
    },
    {
      "cell_type": "markdown",
      "source": [
        "##### Library Imports"
      ],
      "metadata": {
        "id": "rt-PycrXUq0f"
      }
    },
    {
      "cell_type": "code",
      "source": [
        "from keras.callbacks import ModelCheckpoint\n",
        "from keras.callbacks import EarlyStopping\n",
        "from keras.callbacks import LearningRateScheduler\n",
        "from keras.callbacks import ReduceLROnPlateau"
      ],
      "metadata": {
        "id": "Vor7R1-1JuYk"
      },
      "execution_count": 31,
      "outputs": []
    },
    {
      "cell_type": "markdown",
      "source": [
        "##### Define Classifier"
      ],
      "metadata": {
        "id": "_zbCEqN0Utir"
      }
    },
    {
      "cell_type": "code",
      "source": [
        "inputs = tf.keras.Input(shape=(28, 28, 1))\n",
        "x = inputs\n",
        "\n",
        "x = tf.keras.layers.Conv2D(filters=32, kernel_size=5, use_bias=False)(x)\n",
        "\n",
        "for size in [32, 64, 128, 256, 512]:\n",
        "    residual = x\n",
        "\n",
        "    x = tf.keras.layers.BatchNormalization()(x)\n",
        "    x = tf.keras.layers.Activation(\"relu\")(x)\n",
        "    x = tf.keras.layers.SeparableConv2D(size, 3, padding=\"same\", use_bias=False)(x)\n",
        "\n",
        "    x = tf.keras.layers.BatchNormalization()(x)\n",
        "    x = tf.keras.layers.Activation(\"relu\")(x)\n",
        "    x = tf.keras.layers.SeparableConv2D(size, 3, padding=\"same\", use_bias=False)(x)\n",
        "\n",
        "    x = tf.keras.layers.MaxPooling2D(3, strides=2, padding=\"same\")(x)\n",
        "\n",
        "    residual = tf.keras.layers.Conv2D(\n",
        "        size, 1, strides=2, padding=\"same\", use_bias=False)(residual)\n",
        "    x = tf.keras.layers.add([x, residual])\n",
        "\n",
        "x = tf.keras.layers.GlobalAveragePooling2D()(x)\n",
        "x = tf.keras.layers.Dropout(0.5)(x)\n",
        "outputs = tf.keras.layers.Dense(10, activation=\"softmax\")(x)\n",
        "clf1 = tf.keras.Model(inputs=inputs, outputs=outputs)"
      ],
      "metadata": {
        "id": "mRgQ3NoPGtmK"
      },
      "execution_count": 32,
      "outputs": []
    },
    {
      "cell_type": "markdown",
      "source": [
        "##### Add Callbacks"
      ],
      "metadata": {
        "id": "_QGqvRNdUxSy"
      }
    },
    {
      "cell_type": "code",
      "source": [
        "callbacks_list = [\n",
        "    EarlyStopping(\n",
        "        monitor=\"val_accuracy\",\n",
        "        patience=5,\n",
        "    ),\n",
        "    ModelCheckpoint(\n",
        "        filepath=\"/content/drive/MyDrive/DL-Proj-Final/Classifier/classifier_CNN_Xception_25_noisymnist.h5\",\n",
        "        monitor=\"val_accuracy\",\n",
        "        save_best_only=True,\n",
        "    )\n",
        "]"
      ],
      "metadata": {
        "id": "9Wq7AuYze6rl"
      },
      "execution_count": 33,
      "outputs": []
    },
    {
      "cell_type": "markdown",
      "source": [
        "##### Train Classifier"
      ],
      "metadata": {
        "id": "X9gMwxk3U7jA"
      }
    },
    {
      "cell_type": "code",
      "source": [
        "clf1.compile(loss=\"categorical_crossentropy\",\n",
        "              optimizer=\"rmsprop\",\n",
        "              metrics=[\"accuracy\"])\n",
        "history_clf1 = clf1.fit(\n",
        "    X_train_clf,\n",
        "    y_train_clf,\n",
        "    epochs=25,\n",
        "    callbacks=callbacks_list,\n",
        "    validation_data=(X_val_clf, y_val_clf)\n",
        ")"
      ],
      "metadata": {
        "colab": {
          "base_uri": "https://localhost:8080/"
        },
        "id": "cotznMiGHEz3",
        "outputId": "c2aa7a56-cdeb-492b-9dc8-1ae070ae72be"
      },
      "execution_count": 34,
      "outputs": [
        {
          "output_type": "stream",
          "name": "stdout",
          "text": [
            "Epoch 1/25\n",
            "1500/1500 [==============================] - 28s 12ms/step - loss: 0.5773 - accuracy: 0.8165 - val_loss: 0.5185 - val_accuracy: 0.8349\n",
            "Epoch 2/25\n"
          ]
        },
        {
          "output_type": "stream",
          "name": "stderr",
          "text": [
            "/usr/local/lib/python3.10/dist-packages/keras/src/engine/training.py:3000: UserWarning: You are saving your model as an HDF5 file via `model.save()`. This file format is considered legacy. We recommend using instead the native Keras format, e.g. `model.save('my_model.keras')`.\n",
            "  saving_api.save_model(\n"
          ]
        },
        {
          "output_type": "stream",
          "name": "stdout",
          "text": [
            "1500/1500 [==============================] - 22s 15ms/step - loss: 0.5175 - accuracy: 0.8363 - val_loss: 0.5425 - val_accuracy: 0.8388\n",
            "Epoch 3/25\n",
            "1500/1500 [==============================] - 23s 15ms/step - loss: 0.5052 - accuracy: 0.8376 - val_loss: 0.5041 - val_accuracy: 0.8422\n",
            "Epoch 4/25\n",
            "1500/1500 [==============================] - 21s 14ms/step - loss: 0.4942 - accuracy: 0.8398 - val_loss: 0.4811 - val_accuracy: 0.8443\n",
            "Epoch 5/25\n",
            "1500/1500 [==============================] - 23s 15ms/step - loss: 0.4824 - accuracy: 0.8438 - val_loss: 0.6087 - val_accuracy: 0.8091\n",
            "Epoch 6/25\n",
            "1500/1500 [==============================] - 26s 17ms/step - loss: 0.4760 - accuracy: 0.8460 - val_loss: 0.4776 - val_accuracy: 0.8457\n",
            "Epoch 7/25\n",
            "1500/1500 [==============================] - 23s 16ms/step - loss: 0.4725 - accuracy: 0.8475 - val_loss: 0.5120 - val_accuracy: 0.8450\n",
            "Epoch 8/25\n",
            "1500/1500 [==============================] - 22s 15ms/step - loss: 0.4641 - accuracy: 0.8480 - val_loss: 0.5066 - val_accuracy: 0.8410\n",
            "Epoch 9/25\n",
            "1500/1500 [==============================] - 25s 17ms/step - loss: 0.4613 - accuracy: 0.8480 - val_loss: 0.5042 - val_accuracy: 0.8433\n",
            "Epoch 10/25\n",
            "1500/1500 [==============================] - 27s 18ms/step - loss: 0.4551 - accuracy: 0.8506 - val_loss: 0.4894 - val_accuracy: 0.8438\n",
            "Epoch 11/25\n",
            "1500/1500 [==============================] - 25s 17ms/step - loss: 0.4524 - accuracy: 0.8524 - val_loss: 0.5086 - val_accuracy: 0.8416\n"
          ]
        }
      ]
    },
    {
      "cell_type": "code",
      "source": [
        "clf1.summary()"
      ],
      "metadata": {
        "id": "tUuYzU59iVmk",
        "colab": {
          "base_uri": "https://localhost:8080/"
        },
        "outputId": "0def7bb2-8f42-44fe-9b05-042c064dc7e0"
      },
      "execution_count": 35,
      "outputs": [
        {
          "output_type": "stream",
          "name": "stdout",
          "text": [
            "Model: \"model\"\n",
            "__________________________________________________________________________________________________\n",
            " Layer (type)                Output Shape                 Param #   Connected to                  \n",
            "==================================================================================================\n",
            " input_1 (InputLayer)        [(None, 28, 28, 1)]          0         []                            \n",
            "                                                                                                  \n",
            " conv2d_11 (Conv2D)          (None, 24, 24, 32)           800       ['input_1[0][0]']             \n",
            "                                                                                                  \n",
            " batch_normalization (Batch  (None, 24, 24, 32)           128       ['conv2d_11[0][0]']           \n",
            " Normalization)                                                                                   \n",
            "                                                                                                  \n",
            " activation (Activation)     (None, 24, 24, 32)           0         ['batch_normalization[0][0]'] \n",
            "                                                                                                  \n",
            " separable_conv2d (Separabl  (None, 24, 24, 32)           1312      ['activation[0][0]']          \n",
            " eConv2D)                                                                                         \n",
            "                                                                                                  \n",
            " batch_normalization_1 (Bat  (None, 24, 24, 32)           128       ['separable_conv2d[0][0]']    \n",
            " chNormalization)                                                                                 \n",
            "                                                                                                  \n",
            " activation_1 (Activation)   (None, 24, 24, 32)           0         ['batch_normalization_1[0][0]'\n",
            "                                                                    ]                             \n",
            "                                                                                                  \n",
            " separable_conv2d_1 (Separa  (None, 24, 24, 32)           1312      ['activation_1[0][0]']        \n",
            " bleConv2D)                                                                                       \n",
            "                                                                                                  \n",
            " max_pooling2d_2 (MaxPoolin  (None, 12, 12, 32)           0         ['separable_conv2d_1[0][0]']  \n",
            " g2D)                                                                                             \n",
            "                                                                                                  \n",
            " conv2d_12 (Conv2D)          (None, 12, 12, 32)           1024      ['conv2d_11[0][0]']           \n",
            "                                                                                                  \n",
            " add (Add)                   (None, 12, 12, 32)           0         ['max_pooling2d_2[0][0]',     \n",
            "                                                                     'conv2d_12[0][0]']           \n",
            "                                                                                                  \n",
            " batch_normalization_2 (Bat  (None, 12, 12, 32)           128       ['add[0][0]']                 \n",
            " chNormalization)                                                                                 \n",
            "                                                                                                  \n",
            " activation_2 (Activation)   (None, 12, 12, 32)           0         ['batch_normalization_2[0][0]'\n",
            "                                                                    ]                             \n",
            "                                                                                                  \n",
            " separable_conv2d_2 (Separa  (None, 12, 12, 64)           2336      ['activation_2[0][0]']        \n",
            " bleConv2D)                                                                                       \n",
            "                                                                                                  \n",
            " batch_normalization_3 (Bat  (None, 12, 12, 64)           256       ['separable_conv2d_2[0][0]']  \n",
            " chNormalization)                                                                                 \n",
            "                                                                                                  \n",
            " activation_3 (Activation)   (None, 12, 12, 64)           0         ['batch_normalization_3[0][0]'\n",
            "                                                                    ]                             \n",
            "                                                                                                  \n",
            " separable_conv2d_3 (Separa  (None, 12, 12, 64)           4672      ['activation_3[0][0]']        \n",
            " bleConv2D)                                                                                       \n",
            "                                                                                                  \n",
            " max_pooling2d_3 (MaxPoolin  (None, 6, 6, 64)             0         ['separable_conv2d_3[0][0]']  \n",
            " g2D)                                                                                             \n",
            "                                                                                                  \n",
            " conv2d_13 (Conv2D)          (None, 6, 6, 64)             2048      ['add[0][0]']                 \n",
            "                                                                                                  \n",
            " add_1 (Add)                 (None, 6, 6, 64)             0         ['max_pooling2d_3[0][0]',     \n",
            "                                                                     'conv2d_13[0][0]']           \n",
            "                                                                                                  \n",
            " batch_normalization_4 (Bat  (None, 6, 6, 64)             256       ['add_1[0][0]']               \n",
            " chNormalization)                                                                                 \n",
            "                                                                                                  \n",
            " activation_4 (Activation)   (None, 6, 6, 64)             0         ['batch_normalization_4[0][0]'\n",
            "                                                                    ]                             \n",
            "                                                                                                  \n",
            " separable_conv2d_4 (Separa  (None, 6, 6, 128)            8768      ['activation_4[0][0]']        \n",
            " bleConv2D)                                                                                       \n",
            "                                                                                                  \n",
            " batch_normalization_5 (Bat  (None, 6, 6, 128)            512       ['separable_conv2d_4[0][0]']  \n",
            " chNormalization)                                                                                 \n",
            "                                                                                                  \n",
            " activation_5 (Activation)   (None, 6, 6, 128)            0         ['batch_normalization_5[0][0]'\n",
            "                                                                    ]                             \n",
            "                                                                                                  \n",
            " separable_conv2d_5 (Separa  (None, 6, 6, 128)            17536     ['activation_5[0][0]']        \n",
            " bleConv2D)                                                                                       \n",
            "                                                                                                  \n",
            " max_pooling2d_4 (MaxPoolin  (None, 3, 3, 128)            0         ['separable_conv2d_5[0][0]']  \n",
            " g2D)                                                                                             \n",
            "                                                                                                  \n",
            " conv2d_14 (Conv2D)          (None, 3, 3, 128)            8192      ['add_1[0][0]']               \n",
            "                                                                                                  \n",
            " add_2 (Add)                 (None, 3, 3, 128)            0         ['max_pooling2d_4[0][0]',     \n",
            "                                                                     'conv2d_14[0][0]']           \n",
            "                                                                                                  \n",
            " batch_normalization_6 (Bat  (None, 3, 3, 128)            512       ['add_2[0][0]']               \n",
            " chNormalization)                                                                                 \n",
            "                                                                                                  \n",
            " activation_6 (Activation)   (None, 3, 3, 128)            0         ['batch_normalization_6[0][0]'\n",
            "                                                                    ]                             \n",
            "                                                                                                  \n",
            " separable_conv2d_6 (Separa  (None, 3, 3, 256)            33920     ['activation_6[0][0]']        \n",
            " bleConv2D)                                                                                       \n",
            "                                                                                                  \n",
            " batch_normalization_7 (Bat  (None, 3, 3, 256)            1024      ['separable_conv2d_6[0][0]']  \n",
            " chNormalization)                                                                                 \n",
            "                                                                                                  \n",
            " activation_7 (Activation)   (None, 3, 3, 256)            0         ['batch_normalization_7[0][0]'\n",
            "                                                                    ]                             \n",
            "                                                                                                  \n",
            " separable_conv2d_7 (Separa  (None, 3, 3, 256)            67840     ['activation_7[0][0]']        \n",
            " bleConv2D)                                                                                       \n",
            "                                                                                                  \n",
            " max_pooling2d_5 (MaxPoolin  (None, 2, 2, 256)            0         ['separable_conv2d_7[0][0]']  \n",
            " g2D)                                                                                             \n",
            "                                                                                                  \n",
            " conv2d_15 (Conv2D)          (None, 2, 2, 256)            32768     ['add_2[0][0]']               \n",
            "                                                                                                  \n",
            " add_3 (Add)                 (None, 2, 2, 256)            0         ['max_pooling2d_5[0][0]',     \n",
            "                                                                     'conv2d_15[0][0]']           \n",
            "                                                                                                  \n",
            " batch_normalization_8 (Bat  (None, 2, 2, 256)            1024      ['add_3[0][0]']               \n",
            " chNormalization)                                                                                 \n",
            "                                                                                                  \n",
            " activation_8 (Activation)   (None, 2, 2, 256)            0         ['batch_normalization_8[0][0]'\n",
            "                                                                    ]                             \n",
            "                                                                                                  \n",
            " separable_conv2d_8 (Separa  (None, 2, 2, 512)            133376    ['activation_8[0][0]']        \n",
            " bleConv2D)                                                                                       \n",
            "                                                                                                  \n",
            " batch_normalization_9 (Bat  (None, 2, 2, 512)            2048      ['separable_conv2d_8[0][0]']  \n",
            " chNormalization)                                                                                 \n",
            "                                                                                                  \n",
            " activation_9 (Activation)   (None, 2, 2, 512)            0         ['batch_normalization_9[0][0]'\n",
            "                                                                    ]                             \n",
            "                                                                                                  \n",
            " separable_conv2d_9 (Separa  (None, 2, 2, 512)            266752    ['activation_9[0][0]']        \n",
            " bleConv2D)                                                                                       \n",
            "                                                                                                  \n",
            " max_pooling2d_6 (MaxPoolin  (None, 1, 1, 512)            0         ['separable_conv2d_9[0][0]']  \n",
            " g2D)                                                                                             \n",
            "                                                                                                  \n",
            " conv2d_16 (Conv2D)          (None, 1, 1, 512)            131072    ['add_3[0][0]']               \n",
            "                                                                                                  \n",
            " add_4 (Add)                 (None, 1, 1, 512)            0         ['max_pooling2d_6[0][0]',     \n",
            "                                                                     'conv2d_16[0][0]']           \n",
            "                                                                                                  \n",
            " global_average_pooling2d (  (None, 512)                  0         ['add_4[0][0]']               \n",
            " GlobalAveragePooling2D)                                                                          \n",
            "                                                                                                  \n",
            " dropout (Dropout)           (None, 512)                  0         ['global_average_pooling2d[0][\n",
            "                                                                    0]']                          \n",
            "                                                                                                  \n",
            " dense (Dense)               (None, 10)                   5130      ['dropout[0][0]']             \n",
            "                                                                                                  \n",
            "==================================================================================================\n",
            "Total params: 724874 (2.77 MB)\n",
            "Trainable params: 721866 (2.75 MB)\n",
            "Non-trainable params: 3008 (11.75 KB)\n",
            "__________________________________________________________________________________________________\n"
          ]
        }
      ]
    },
    {
      "cell_type": "markdown",
      "source": [
        "##### Save Classifier"
      ],
      "metadata": {
        "id": "Dx9aSz3AVEjj"
      }
    },
    {
      "cell_type": "code",
      "source": [
        "clf1.save('/content/drive/MyDrive/DL-Proj-Final/classifier_CNN_Xception_25_mnist.h5')"
      ],
      "metadata": {
        "id": "6-LJSissiPLr"
      },
      "execution_count": 36,
      "outputs": []
    },
    {
      "cell_type": "markdown",
      "source": [
        "##### Plot Metrics"
      ],
      "metadata": {
        "id": "1vh1tbVUVHr4"
      }
    },
    {
      "cell_type": "code",
      "source": [
        "history_clf_dict = history_clf1.history\n",
        "loss_values = history_clf_dict[\"loss\"]\n",
        "val_loss_values = history_clf_dict[\"val_loss\"]\n",
        "epochs = range(1, len(loss_values) + 1)\n",
        "plt.figure(figsize=(5,2))\n",
        "plt.plot(epochs, loss_values, \"bo\", label=\"Training loss\")\n",
        "plt.plot(epochs, val_loss_values, \"b\", label=\"Validation loss\")\n",
        "plt.title(\"Training and validation loss\")\n",
        "plt.xlabel(\"Epochs\")\n",
        "plt.ylabel(\"Loss\")\n",
        "plt.legend()\n",
        "plt.show()"
      ],
      "metadata": {
        "id": "EQ2QAIPduqK9",
        "colab": {
          "base_uri": "https://localhost:8080/",
          "height": 256
        },
        "outputId": "9ffde112-d56e-43f9-e14c-2c1a37d8d26a"
      },
      "execution_count": 37,
      "outputs": [
        {
          "output_type": "display_data",
          "data": {
            "text/plain": [
              "<Figure size 500x200 with 1 Axes>"
            ],
            "image/png": "[encoded data removed]"
          },
          "metadata": {}
        }
      ]
    },
    {
      "cell_type": "code",
      "source": [
        "acc = history_clf_dict[\"accuracy\"]\n",
        "val_acc = history_clf_dict[\"val_accuracy\"]\n",
        "plt.figure(figsize=(5,2))\n",
        "plt.plot(epochs, acc, \"bo\", label=\"Training acc\")\n",
        "plt.plot(epochs, val_acc, \"b\", label=\"Validation acc\")\n",
        "plt.title(\"Training and validation accuracy\")\n",
        "plt.xlabel(\"Epochs\")\n",
        "plt.ylabel(\"Accuracy\")\n",
        "plt.legend()\n",
        "plt.show()"
      ],
      "metadata": {
        "id": "zdi6J13tvH6z",
        "colab": {
          "base_uri": "https://localhost:8080/",
          "height": 256
        },
        "outputId": "f4470031-bdda-4b37-ea70-b9dfbca63804"
      },
      "execution_count": 38,
      "outputs": [
        {
          "output_type": "display_data",
          "data": {
            "text/plain": [
              "<Figure size 500x200 with 1 Axes>"
            ],
            "image/png": "[encoded data removed]"
          },
          "metadata": {}
        }
      ]
    },
    {
      "cell_type": "markdown",
      "source": [
        "#### **[ TEST PHASE ]**"
      ],
      "metadata": {
        "id": "hp62J5g9VMH9"
      }
    },
    {
      "cell_type": "code",
      "source": [
        "from tensorflow.keras import models\n",
        "import pickle\n",
        "import tensorflow as tf\n",
        "\n",
        "model_eval = models.load_model(\"./classifier_CNN_Xception_25_noisymnist.h5\")\n",
        "test_labels = pickle.load(open(\"./636_project1_test_labels\", 'rb'))\n",
        "test_images = pickle.load(open(\"./636_project1_test_images\", 'rb'))"
      ],
      "metadata": {
        "id": "LvUjUBzr_1FY"
      },
      "execution_count": 64,
      "outputs": []
    },
    {
      "cell_type": "markdown",
      "source": [
        "##### Pre-processing | Data Processing"
      ],
      "metadata": {
        "id": "97Sn6DBVVboI"
      }
    },
    {
      "cell_type": "code",
      "source": [
        "# The Denoiser Network was trained by me | Did not use anyone else's model available on the internet\n",
        "# Refer to the Previous Sections of this Notebook for Detailed Overview of the Denoiser\n",
        "\n",
        "'''\n",
        "wget-ing the denoiser from my repository for this deep learning project to utilize as a filter on noisy image\n",
        "'''\n",
        "\n",
        "# --------------------------------------------------------------------------------------------------------------------------\n",
        "\n",
        "'''Weights and Serialized Network'''\n",
        "# Check https://github.com/Soumyajyotidutta/DeepLearning/tree/main/Projects/Project1/weights-and-serialization-autoencoder\n",
        "\n",
        "'''The .keras File'''\n",
        "# Check https://github.com/Soumyajyotidutta/DeepLearning/tree/main/Projects/Project1/AutoEncoder"
      ],
      "metadata": {
        "id": "UU8hzAyJAGVA"
      },
      "execution_count": null,
      "outputs": []
    },
    {
      "cell_type": "code",
      "source": [
        "!wget https://raw.githubusercontent.com/Soumyajyotidutta/DeepLearning/main/Projects/Project1/AutoEncoder/autoencoder_edition2_256_150_notShuffled.keras"
      ],
      "metadata": {
        "colab": {
          "base_uri": "https://localhost:8080/"
        },
        "id": "uWiyIwV1psVH",
        "outputId": "0bcbca53-840c-4ea4-c8b9-a7ee5cff6662"
      },
      "execution_count": 67,
      "outputs": [
        {
          "output_type": "stream",
          "name": "stdout",
          "text": [
            "--2023-10-11 01:38:48--  https://raw.githubusercontent.com/Soumyajyotidutta/DeepLearning/main/Projects/Project1/AutoEncoder/autoencoder_edition2_256_150_notShuffled.keras\n",
            "Resolving raw.githubusercontent.com (raw.githubusercontent.com)... 185.199.108.133, 185.199.109.133, 185.199.110.133, ...\n",
            "Connecting to raw.githubusercontent.com (raw.githubusercontent.com)|185.199.108.133|:443... connected.\n",
            "HTTP request sent, awaiting response... 200 OK\n",
            "Length: 9567286 (9.1M) [application/octet-stream]\n",
            "Saving to: ‘autoencoder_edition2_256_150_notShuffled.keras’\n",
            "\n",
            "\r          autoencod   0%[                    ]       0  --.-KB/s               \rautoencoder_edition 100%[===================>]   9.12M  --.-KB/s    in 0.05s   \n",
            "\n",
            "2023-10-11 01:38:48 (189 MB/s) - ‘autoencoder_edition2_256_150_notShuffled.keras’ saved [9567286/9567286]\n",
            "\n"
          ]
        }
      ]
    },
    {
      "cell_type": "markdown",
      "source": [
        "##### Function to Pre-process the Images"
      ],
      "metadata": {
        "id": "FjSiB59SXDY9"
      }
    },
    {
      "cell_type": "code",
      "source": [
        "def preprocess(test_images, test_labels):\n",
        "\n",
        "  filter = tf.keras.saving.load_model('./autoencoder_edition2_256_150_notShuffled.keras')\n",
        "\n",
        "  test_images = np.array(test_images)\n",
        "  test_images = test_images.astype('float32') / 255\n",
        "  test_images = test_images.reshape(len(test_images), 28, 28, 1)\n",
        "\n",
        "  test_images_denoised = filter.predict(test_images)\n",
        "\n",
        "  test_labels = np.array(test_labels)\n",
        "  test_labels = tf.one_hot(test_labels, depth=10)\n",
        "\n",
        "  return test_images_denoised, test_labels, filter.summary()"
      ],
      "metadata": {
        "id": "r_GexOn4AMBF"
      },
      "execution_count": 68,
      "outputs": []
    },
    {
      "cell_type": "code",
      "source": [
        "test_images_mod, test_labels_mod, _ = preprocess(test_images, test_labels)"
      ],
      "metadata": {
        "id": "rYZALf0FBFpW"
      },
      "execution_count": null,
      "outputs": []
    },
    {
      "cell_type": "markdown",
      "source": [
        "##### Evaluate the Model"
      ],
      "metadata": {
        "id": "2XveWb99XL9s"
      }
    },
    {
      "cell_type": "code",
      "source": [
        "test_loss, test_acc = model_eval.evaluate(test_images_mod, test_labels_mod)\n",
        "your_score = round(test_acc*1000) / 10\n",
        "print(f\"Your Score: {your_score}\")"
      ],
      "metadata": {
        "id": "ITdyVMVA__Wp",
        "colab": {
          "base_uri": "https://localhost:8080/"
        },
        "outputId": "1e6b01e6-6f12-4465-936b-61fbe48ed6a4"
      },
      "execution_count": 70,
      "outputs": [
        {
          "output_type": "stream",
          "name": "stdout",
          "text": [
            "1875/1875 [==============================] - 7s 4ms/step - loss: 0.4469 - accuracy: 0.8526\n",
            "Your Score: 85.3\n"
          ]
        }
      ]
    }
  ],
  "metadata": {
    "accelerator": "GPU",
    "colab": {
      "provenance": [],
      "gpuType": "V100"
    },
    "kernelspec": {
      "display_name": "Python 3",
      "name": "python3"
    },
    "language_info": {
      "name": "python"
    }
  },
  "nbformat": 4,
  "nbformat_minor": 0
}