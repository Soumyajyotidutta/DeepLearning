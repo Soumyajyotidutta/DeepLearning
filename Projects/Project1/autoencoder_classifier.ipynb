{
  "cells": [
    {
      "cell_type": "code",
      "execution_count": 1,
      "metadata": {
        "id": "DkyMBa9dCt_n"
      },
      "outputs": [],
      "source": [
        "import numpy as np\n",
        "import matplotlib.pyplot as plt\n",
        "import tensorflow as tf\n",
        "from keras import Sequential\n",
        "from keras.layers import Dense, Conv2D, MaxPooling2D, UpSampling2D\n",
        "from keras.datasets import mnist\n",
        "from sklearn.model_selection import train_test_split\n",
        "from sklearn.utils import shuffle"
      ]
    },
    {
      "cell_type": "code",
      "execution_count": 2,
      "metadata": {
        "colab": {
          "base_uri": "https://localhost:8080/"
        },
        "id": "Qmi3BEomAyFK",
        "outputId": "a50aa9fd-3f42-46d0-c98b-5b1eba561e84"
      },
      "outputs": [
        {
          "output_type": "execute_result",
          "data": {
            "text/plain": [
              "[PhysicalDevice(name='/physical_device:GPU:0', device_type='GPU')]"
            ]
          },
          "metadata": {},
          "execution_count": 2
        }
      ],
      "source": [
        "tf.config.list_physical_devices('GPU')"
      ]
    },
    {
      "cell_type": "code",
      "execution_count": 3,
      "metadata": {
        "colab": {
          "base_uri": "https://localhost:8080/"
        },
        "id": "iRDm9PdEQZyL",
        "outputId": "b4af2a70-04c6-471a-d714-fe089f12e22d"
      },
      "outputs": [
        {
          "output_type": "stream",
          "name": "stdout",
          "text": [
            "Drive already mounted at /content/drive; to attempt to forcibly remount, call drive.mount(\"/content/drive\", force_remount=True).\n"
          ]
        }
      ],
      "source": [
        "from google.colab import drive\n",
        "drive.mount('/content/drive')"
      ]
    },
    {
      "cell_type": "code",
      "execution_count": 4,
      "metadata": {
        "id": "dQNBN2a6A0jg"
      },
      "outputs": [],
      "source": [
        "(x_train, y_mnist_train), (x_test, y_mnist_test) = mnist.load_data()"
      ]
    },
    {
      "cell_type": "code",
      "execution_count": 5,
      "metadata": {
        "id": "3YWDNqJ0A6j2"
      },
      "outputs": [],
      "source": [
        "x_train = x_train.astype('float32') / 255\n",
        "x_test = x_test.astype('float32') / 255"
      ]
    },
    {
      "cell_type": "code",
      "execution_count": 6,
      "metadata": {
        "colab": {
          "base_uri": "https://localhost:8080/"
        },
        "id": "zwyUHEkIA_Ni",
        "outputId": "89cd82c0-5180-453d-ddfb-e7cdad064498"
      },
      "outputs": [
        {
          "output_type": "stream",
          "name": "stdout",
          "text": [
            "(60000, 28, 28, 1)\n"
          ]
        }
      ],
      "source": [
        "x_train = x_train.reshape(len(x_train), 28, 28, 1)\n",
        "x_test = x_test.reshape(len(x_test), 28, 28, 1)\n",
        "print(x_train.shape)"
      ]
    },
    {
      "cell_type": "code",
      "execution_count": 7,
      "metadata": {
        "colab": {
          "base_uri": "https://localhost:8080/"
        },
        "id": "S7GOL0Gzv8D7",
        "outputId": "0aee137b-52dd-4253-ab40-a02397e99153"
      },
      "outputs": [
        {
          "output_type": "stream",
          "name": "stdout",
          "text": [
            "(5923, 28, 28, 1): X Train Label 0, (6742, 28, 28, 1): X Train Label 1\n",
            "(5958, 28, 28, 1): X Train Label 2, (6131, 28, 28, 1): X Train Label 3\n",
            "(5842, 28, 28, 1): X Train Label 4, (5421, 28, 28, 1): X Train Label 5\n",
            "(5918, 28, 28, 1): X Train Label 6, (6265, 28, 28, 1): X Train Label 7\n",
            "(5851, 28, 28, 1): X Train Label 8, (5949, 28, 28, 1): X Train Label 9\n"
          ]
        }
      ],
      "source": [
        "x_train0 = x_train[y_mnist_train == 0]\n",
        "x_train1 = x_train[y_mnist_train == 1]\n",
        "x_train2 = x_train[y_mnist_train == 2]\n",
        "x_train3 = x_train[y_mnist_train == 3]\n",
        "x_train4 = x_train[y_mnist_train == 4]\n",
        "x_train5 = x_train[y_mnist_train == 5]\n",
        "x_train6 = x_train[y_mnist_train == 6]\n",
        "x_train7 = x_train[y_mnist_train == 7]\n",
        "x_train8 = x_train[y_mnist_train == 8]\n",
        "x_train9 = x_train[y_mnist_train == 9]\n",
        "print(f'{x_train0.shape}: X Train Label 0, {x_train1.shape}: X Train Label 1')\n",
        "print(f'{x_train2.shape}: X Train Label 2, {x_train3.shape}: X Train Label 3')\n",
        "print(f'{x_train4.shape}: X Train Label 4, {x_train5.shape}: X Train Label 5')\n",
        "print(f'{x_train6.shape}: X Train Label 6, {x_train7.shape}: X Train Label 7')\n",
        "print(f'{x_train8.shape}: X Train Label 8, {x_train9.shape}: X Train Label 9')"
      ]
    },
    {
      "cell_type": "code",
      "execution_count": 8,
      "metadata": {
        "colab": {
          "base_uri": "https://localhost:8080/"
        },
        "id": "_tC8GO7K_4qn",
        "outputId": "e171ce60-c04c-498c-9907-fb35f1837317"
      },
      "outputs": [
        {
          "output_type": "stream",
          "name": "stdout",
          "text": [
            "(5923,): y Train Label 0, (6742,): y Train Label 1\n",
            "(5958,): y Train Label 2, (6131,): y Train Label 3\n",
            "(5842,): y Train Label 4, (5421,): y Train Label 5\n",
            "(5918,): y Train Label 6, (6265,): y Train Label 7\n",
            "(5851,): y Train Label 8, (5949,): y Train Label 9\n"
          ]
        }
      ],
      "source": [
        "y_mnist_train0 = y_mnist_train[y_mnist_train == 0]\n",
        "y_mnist_train1 = y_mnist_train[y_mnist_train == 1]\n",
        "y_mnist_train2 = y_mnist_train[y_mnist_train == 2]\n",
        "y_mnist_train3 = y_mnist_train[y_mnist_train == 3]\n",
        "y_mnist_train4 = y_mnist_train[y_mnist_train == 4]\n",
        "y_mnist_train5 = y_mnist_train[y_mnist_train == 5]\n",
        "y_mnist_train6 = y_mnist_train[y_mnist_train == 6]\n",
        "y_mnist_train7 = y_mnist_train[y_mnist_train == 7]\n",
        "y_mnist_train8 = y_mnist_train[y_mnist_train == 8]\n",
        "y_mnist_train9 = y_mnist_train[y_mnist_train == 9]\n",
        "print(f'{y_mnist_train0.shape}: y Train Label 0, {y_mnist_train1.shape}: y Train Label 1')\n",
        "print(f'{y_mnist_train2.shape}: y Train Label 2, {y_mnist_train3.shape}: y Train Label 3')\n",
        "print(f'{y_mnist_train4.shape}: y Train Label 4, {y_mnist_train5.shape}: y Train Label 5')\n",
        "print(f'{y_mnist_train6.shape}: y Train Label 6, {y_mnist_train7.shape}: y Train Label 7')\n",
        "print(f'{y_mnist_train8.shape}: y Train Label 8, {y_mnist_train9.shape}: y Train Label 9')"
      ]
    },
    {
      "cell_type": "code",
      "execution_count": 9,
      "metadata": {
        "id": "eI6G4hfxBOQ9"
      },
      "outputs": [],
      "source": [
        "traindata = np.vstack((x_train0, x_train1[:6683], x_train2, x_train3, x_train4[:5818], x_train5[:5403], x_train6[:5894],\n",
        "                       x_train7[:6252], x_train8[:5849], x_train9))"
      ]
    },
    {
      "cell_type": "code",
      "execution_count": 10,
      "metadata": {
        "id": "WvA8HZhuyVJj"
      },
      "outputs": [],
      "source": [
        "traindata_shuffled = shuffle(traindata, random_state=42)"
      ]
    },
    {
      "cell_type": "code",
      "execution_count": 11,
      "metadata": {
        "colab": {
          "base_uri": "https://localhost:8080/"
        },
        "id": "f4LDKqNDB1U1",
        "outputId": "83e2b482-77a4-4acc-ebeb-5744ef12cf9e"
      },
      "outputs": [
        {
          "output_type": "stream",
          "name": "stdout",
          "text": [
            "(59860, 28, 28, 1)\n"
          ]
        }
      ],
      "source": [
        "print(traindata_shuffled.shape)"
      ]
    },
    {
      "cell_type": "code",
      "execution_count": 12,
      "metadata": {
        "id": "dg0QzTZHBasb"
      },
      "outputs": [],
      "source": [
        "import pickle\n",
        "\n",
        "with open ('/content/drive/MyDrive/Deep Learning/636_project1_train_images', 'rb') as trainfile:\n",
        "  noisyimages = pickle.load(trainfile)\n",
        "\n",
        "with open ('/content/drive/MyDrive/Deep Learning/636_project1_train_labels', 'rb') as labelsfile:\n",
        "  noisylabels = pickle.load(labelsfile)"
      ]
    },
    {
      "cell_type": "code",
      "execution_count": 13,
      "metadata": {
        "colab": {
          "base_uri": "https://localhost:8080/"
        },
        "id": "8u0z2xnJOM11",
        "outputId": "c6a7b986-e257-4b90-a56e-90f0116edc2c"
      },
      "outputs": [
        {
          "output_type": "stream",
          "name": "stdout",
          "text": [
            "(60000, 28, 28, 1)\n"
          ]
        }
      ],
      "source": [
        "noisyimages = np.array(noisyimages)\n",
        "noisylabels = np.array(noisylabels)\n",
        "\n",
        "noisyimages = noisyimages.astype('float32') / 255\n",
        "noisyimages = noisyimages.reshape(len(noisyimages), 28, 28, 1)\n",
        "print(noisyimages.shape)"
      ]
    },
    {
      "cell_type": "code",
      "execution_count": 14,
      "metadata": {
        "colab": {
          "base_uri": "https://localhost:8080/"
        },
        "id": "h9BQnG8QEh6m",
        "outputId": "66593b84-1192-4029-a56d-5c0a8099cc5d"
      },
      "outputs": [
        {
          "output_type": "stream",
          "name": "stdout",
          "text": [
            "(5972, 28, 28, 1): X Train Noisy Label 0, (6683, 28, 28, 1): X Train Noisy Label 1\n",
            "(6010, 28, 28, 1): X Train Noisy Label 2, (6156, 28, 28, 1): X Train Noisy Label 3\n",
            "(5818, 28, 28, 1): X Train Noisy Label 4, (5403, 28, 28, 1): X Train Noisy Label 5\n",
            "(5894, 28, 28, 1): X Train Noisy Label 6, (6252, 28, 28, 1): X Train Noisy Label 7\n",
            "(5849, 28, 28, 1): X Train Noisy Label 8, (5963, 28, 28, 1): X Train Noisy Label 9\n"
          ]
        }
      ],
      "source": [
        "x_train_noisy0 = noisyimages[noisylabels == 0]\n",
        "x_train_noisy1 = noisyimages[noisylabels == 1]\n",
        "x_train_noisy2 = noisyimages[noisylabels == 2]\n",
        "x_train_noisy3 = noisyimages[noisylabels == 3]\n",
        "x_train_noisy4 = noisyimages[noisylabels == 4]\n",
        "x_train_noisy5 = noisyimages[noisylabels == 5]\n",
        "x_train_noisy6 = noisyimages[noisylabels == 6]\n",
        "x_train_noisy7 = noisyimages[noisylabels == 7]\n",
        "x_train_noisy8 = noisyimages[noisylabels == 8]\n",
        "x_train_noisy9 = noisyimages[noisylabels == 9]\n",
        "print(f'{x_train_noisy0.shape}: X Train Noisy Label 0, {x_train_noisy1.shape}: X Train Noisy Label 1')\n",
        "print(f'{x_train_noisy2.shape}: X Train Noisy Label 2, {x_train_noisy3.shape}: X Train Noisy Label 3')\n",
        "print(f'{x_train_noisy4.shape}: X Train Noisy Label 4, {x_train_noisy5.shape}: X Train Noisy Label 5')\n",
        "print(f'{x_train_noisy6.shape}: X Train Noisy Label 6, {x_train_noisy7.shape}: X Train Noisy Label 7')\n",
        "print(f'{x_train_noisy8.shape}: X Train Noisy Label 8, {x_train_noisy9.shape}: X Train Noisy Label 9')"
      ]
    },
    {
      "cell_type": "code",
      "execution_count": 15,
      "metadata": {
        "colab": {
          "base_uri": "https://localhost:8080/"
        },
        "id": "DI-2FiDDyl4G",
        "outputId": "6e9032b8-b988-43a0-cfaf-8437e6705415"
      },
      "outputs": [
        {
          "output_type": "stream",
          "name": "stdout",
          "text": [
            "(5972,): y Train Label 0, (6683,): y Train Label 1\n",
            "(6010,): y Train Label 2, (6156,): y Train Label 3\n",
            "(5818,): y Train Label 4, (5403,): y Train Label 5\n",
            "(5894,): y Train Label 6, (6252,): y Train Label 7\n",
            "(5849,): y Train Label 8, (5963,): y Train Label 9\n"
          ]
        }
      ],
      "source": [
        "y_noisy_train0 = noisylabels[noisylabels == 0]\n",
        "y_noisy_train1 = noisylabels[noisylabels == 1]\n",
        "y_noisy_train2 = noisylabels[noisylabels == 2]\n",
        "y_noisy_train3 = noisylabels[noisylabels == 3]\n",
        "y_noisy_train4 = noisylabels[noisylabels == 4]\n",
        "y_noisy_train5 = noisylabels[noisylabels == 5]\n",
        "y_noisy_train6 = noisylabels[noisylabels == 6]\n",
        "y_noisy_train7 = noisylabels[noisylabels == 7]\n",
        "y_noisy_train8 = noisylabels[noisylabels == 8]\n",
        "y_noisy_train9 = noisylabels[noisylabels == 9]\n",
        "print(f'{y_noisy_train0.shape}: y Train Label 0, {y_noisy_train1.shape}: y Train Label 1')\n",
        "print(f'{y_noisy_train2.shape}: y Train Label 2, {y_noisy_train3.shape}: y Train Label 3')\n",
        "print(f'{y_noisy_train4.shape}: y Train Label 4, {y_noisy_train5.shape}: y Train Label 5')\n",
        "print(f'{y_noisy_train6.shape}: y Train Label 6, {y_noisy_train7.shape}: y Train Label 7')\n",
        "print(f'{y_noisy_train8.shape}: y Train Label 8, {y_noisy_train9.shape}: y Train Label 9')"
      ]
    },
    {
      "cell_type": "code",
      "execution_count": 16,
      "metadata": {
        "id": "TVQJzNKFB6IF"
      },
      "outputs": [],
      "source": [
        "traindata_noisy = np.vstack((x_train_noisy0[:5923], x_train_noisy1, x_train_noisy2[:5958], x_train_noisy3[:6131], x_train_noisy4,\n",
        "                             x_train_noisy5, x_train_noisy6, x_train_noisy7, x_train_noisy8, x_train_noisy9[:5949]))"
      ]
    },
    {
      "cell_type": "code",
      "execution_count": 17,
      "metadata": {
        "id": "qf0e3cIEzELY"
      },
      "outputs": [],
      "source": [
        "traindata_noisy_shuffled = shuffle(traindata_noisy, random_state=42)"
      ]
    },
    {
      "cell_type": "code",
      "execution_count": 18,
      "metadata": {
        "colab": {
          "base_uri": "https://localhost:8080/"
        },
        "id": "C0dAZOP5CD_I",
        "outputId": "e1187419-e9e5-4844-c299-6b4b34429aec"
      },
      "outputs": [
        {
          "output_type": "stream",
          "name": "stdout",
          "text": [
            "(59860, 28, 28, 1)\n"
          ]
        }
      ],
      "source": [
        "print(traindata_noisy_shuffled.shape)"
      ]
    },
    {
      "cell_type": "code",
      "execution_count": 19,
      "metadata": {
        "colab": {
          "base_uri": "https://localhost:8080/"
        },
        "id": "ojhMATHICK6p",
        "outputId": "901b44a1-77c4-406b-dd50-2ab292abbf76"
      },
      "outputs": [
        {
          "output_type": "stream",
          "name": "stdout",
          "text": [
            "Model: \"sequential\"\n",
            "_________________________________________________________________\n",
            " Layer (type)                Output Shape              Param #   \n",
            "=================================================================\n",
            " conv2d (Conv2D)             (None, 28, 28, 256)       2560      \n",
            "                                                                 \n",
            " max_pooling2d (MaxPooling2  (None, 14, 14, 256)       0         \n",
            " D)                                                              \n",
            "                                                                 \n",
            " conv2d_1 (Conv2D)           (None, 14, 14, 128)       295040    \n",
            "                                                                 \n",
            " max_pooling2d_1 (MaxPoolin  (None, 7, 7, 128)         0         \n",
            " g2D)                                                            \n",
            "                                                                 \n",
            " conv2d_2 (Conv2D)           (None, 7, 7, 64)          73792     \n",
            "                                                                 \n",
            " conv2d_3 (Conv2D)           (None, 7, 7, 32)          18464     \n",
            "                                                                 \n",
            " conv2d_4 (Conv2D)           (None, 7, 7, 16)          4624      \n",
            "                                                                 \n",
            " conv2d_5 (Conv2D)           (None, 7, 7, 16)          2320      \n",
            "                                                                 \n",
            " conv2d_6 (Conv2D)           (None, 7, 7, 32)          4640      \n",
            "                                                                 \n",
            " conv2d_7 (Conv2D)           (None, 7, 7, 64)          18496     \n",
            "                                                                 \n",
            " up_sampling2d (UpSampling2  (None, 14, 14, 64)        0         \n",
            " D)                                                              \n",
            "                                                                 \n",
            " conv2d_8 (Conv2D)           (None, 14, 14, 128)       73856     \n",
            "                                                                 \n",
            " up_sampling2d_1 (UpSamplin  (None, 28, 28, 128)       0         \n",
            " g2D)                                                            \n",
            "                                                                 \n",
            " conv2d_9 (Conv2D)           (None, 28, 28, 256)       295168    \n",
            "                                                                 \n",
            " conv2d_10 (Conv2D)          (None, 28, 28, 1)         2305      \n",
            "                                                                 \n",
            "=================================================================\n",
            "Total params: 791265 (3.02 MB)\n",
            "Trainable params: 791265 (3.02 MB)\n",
            "Non-trainable params: 0 (0.00 Byte)\n",
            "_________________________________________________________________\n"
          ]
        }
      ],
      "source": [
        "model = Sequential([\n",
        "                    # encoder network\n",
        "                    Conv2D(256, 3, activation='relu', padding='same', input_shape=(28, 28, 1)),\n",
        "                    tf.keras.layers.MaxPooling2D(2, padding='same'),\n",
        "                    Conv2D(128, 3, activation='relu', padding='same'),\n",
        "                    tf.keras.layers.MaxPooling2D(2, padding='same'),\n",
        "                    Conv2D(64, 3, activation='relu', padding='same'),\n",
        "                    Conv2D(32, 3, activation='relu', padding='same'),\n",
        "                    Conv2D(16, 3, activation='relu', padding='same'),\n",
        "                    # decoder network\n",
        "                    Conv2D(16, 3, activation='relu', padding='same'),\n",
        "                    Conv2D(32, 3, activation='relu', padding='same'),\n",
        "                    Conv2D(64, 3, activation='relu', padding='same'),\n",
        "                    UpSampling2D(2),\n",
        "                    Conv2D(128, 3, activation='relu', padding='same'),\n",
        "                    UpSampling2D(2),\n",
        "                    Conv2D(256, 3, activation='relu', padding='same', input_shape=(28, 28, 1)),\n",
        "                    # output layer\n",
        "                    Conv2D(1, 3, activation='sigmoid', padding='same')\n",
        "])\n",
        "\n",
        "model.compile(optimizer='adam', loss='binary_crossentropy')\n",
        "model.summary()\n"
      ]
    },
    {
      "cell_type": "code",
      "execution_count": 20,
      "metadata": {
        "colab": {
          "base_uri": "https://localhost:8080/"
        },
        "id": "BsJSBoC5CPY4",
        "outputId": "e87aaa8b-3d2b-436b-e9ad-9f746e876e61"
      },
      "outputs": [
        {
          "output_type": "stream",
          "name": "stdout",
          "text": [
            "Epoch 1/16\n",
            "468/468 [==============================] - 35s 49ms/step - loss: 0.2703\n",
            "Epoch 2/16\n",
            "468/468 [==============================] - 22s 47ms/step - loss: 0.2585\n",
            "Epoch 3/16\n",
            "468/468 [==============================] - 22s 48ms/step - loss: 0.2507\n",
            "Epoch 4/16\n",
            "468/468 [==============================] - 23s 49ms/step - loss: 0.2479\n",
            "Epoch 5/16\n",
            "468/468 [==============================] - 22s 47ms/step - loss: 0.2459\n",
            "Epoch 6/16\n",
            "468/468 [==============================] - 22s 47ms/step - loss: 0.2446\n",
            "Epoch 7/16\n",
            "468/468 [==============================] - 22s 47ms/step - loss: 0.2434\n",
            "Epoch 8/16\n",
            "468/468 [==============================] - 22s 47ms/step - loss: 0.2422\n",
            "Epoch 9/16\n",
            "468/468 [==============================] - 22s 47ms/step - loss: 0.2415\n",
            "Epoch 10/16\n",
            "468/468 [==============================] - 22s 47ms/step - loss: 0.2405\n",
            "Epoch 11/16\n",
            "468/468 [==============================] - 22s 47ms/step - loss: 0.2395\n",
            "Epoch 12/16\n",
            "468/468 [==============================] - 22s 47ms/step - loss: 0.2387\n",
            "Epoch 13/16\n",
            "468/468 [==============================] - 22s 47ms/step - loss: 0.2378\n",
            "Epoch 14/16\n",
            "468/468 [==============================] - 22s 47ms/step - loss: 0.2369\n",
            "Epoch 15/16\n",
            "468/468 [==============================] - 22s 47ms/step - loss: 0.2359\n",
            "Epoch 16/16\n",
            "468/468 [==============================] - 22s 47ms/step - loss: 0.2350\n"
          ]
        }
      ],
      "source": [
        "history = model.fit(traindata_noisy, traindata, epochs=16, batch_size=128)"
      ]
    },
    {
      "cell_type": "code",
      "execution_count": 21,
      "metadata": {
        "id": "TsUmru1ngFDr"
      },
      "outputs": [],
      "source": [
        "model.save('/content/drive/MyDrive/Deep Learning/autoencoder_edition3_256_16_maxPooling_notShuffled.keras')"
      ]
    },
    {
      "cell_type": "code",
      "execution_count": 20,
      "metadata": {
        "id": "rY23M1tRk8z9"
      },
      "outputs": [],
      "source": [
        "autoencoder = tf.keras.saving.load_model(\n",
        "    '/content/drive/MyDrive/Deep Learning/autoencoder_edition3_256_16_maxPooling_notShuffled.keras'\n",
        ")"
      ]
    },
    {
      "cell_type": "code",
      "execution_count": 21,
      "metadata": {
        "colab": {
          "base_uri": "https://localhost:8080/"
        },
        "id": "ohJWW5uTLnYW",
        "outputId": "8b324af3-f3e0-4287-efd1-b2a39f9cadeb"
      },
      "outputs": [
        {
          "output_type": "stream",
          "name": "stdout",
          "text": [
            "1875/1875 [==============================] - 10s 5ms/step\n"
          ]
        }
      ],
      "source": [
        "pred = autoencoder.predict(noisyimages)"
      ]
    },
    {
      "cell_type": "code",
      "execution_count": 22,
      "metadata": {
        "colab": {
          "base_uri": "https://localhost:8080/"
        },
        "id": "3E1CZ7mk5pQo",
        "outputId": "326fd975-a6fe-403c-edb7-1a4a845be101"
      },
      "outputs": [
        {
          "output_type": "stream",
          "name": "stdout",
          "text": [
            "2/2 [==============================] - 1s 459ms/step\n",
            "53/53 [==============================] - 1s 14ms/step\n",
            "2/2 [==============================] - 0s 7ms/step\n",
            "1/1 [==============================] - 1s 504ms/step\n",
            "26/26 [==============================] - 1s 20ms/step\n",
            "13/13 [==============================] - 0s 6ms/step\n",
            "28/28 [==============================] - 1s 25ms/step\n",
            "40/40 [==============================] - 0s 11ms/step\n",
            "27/27 [==============================] - 0s 15ms/step\n",
            "1/1 [==============================] - 0s 266ms/step\n"
          ]
        }
      ],
      "source": [
        "predTest0 = autoencoder.predict(noisyimages[noisylabels==0][5924:])\n",
        "predTest1 = autoencoder.predict(noisyimages[noisylabels==1][5000:])\n",
        "predTest2 = autoencoder.predict(noisyimages[noisylabels==2][5959:])\n",
        "predTest3 = autoencoder.predict(noisyimages[noisylabels==3][6132:])\n",
        "predTest4 = autoencoder.predict(noisyimages[noisylabels==4][5000:])\n",
        "predTest5 = autoencoder.predict(noisyimages[noisylabels==5][5000:])\n",
        "predTest6 = autoencoder.predict(noisyimages[noisylabels==6][5000:])\n",
        "predTest7 = autoencoder.predict(noisyimages[noisylabels==7][5000:])\n",
        "predTest8 = autoencoder.predict(noisyimages[noisylabels==8][5000:])\n",
        "predTest9 = autoencoder.predict(noisyimages[noisylabels==9][5950:])"
      ]
    },
    {
      "cell_type": "code",
      "execution_count": 23,
      "metadata": {
        "id": "EHybfETblHy7"
      },
      "outputs": [],
      "source": [
        "def display(array1, array2, labels):\n",
        "    \"\"\"\n",
        "    Displays ten random images from each one of the supplied arrays.\n",
        "    \"\"\"\n",
        "\n",
        "    n = 10\n",
        "\n",
        "    indices = np.random.randint(len(array1), size=n)\n",
        "    images1 = array1[indices, :]\n",
        "    images2 = array2[indices, :]\n",
        "\n",
        "    plt.figure(figsize=(20, 4))\n",
        "    print(f'Labels provided for the images: {labels[indices]}')\n",
        "\n",
        "    for i, (image1, image2) in enumerate(zip(images1, images2)):\n",
        "\n",
        "        ax = plt.subplot(2, n, i + 1)\n",
        "        plt.imshow(image1.reshape(28, 28))\n",
        "        plt.gray()\n",
        "        ax.get_xaxis().set_visible(False)\n",
        "        ax.get_yaxis().set_visible(False)\n",
        "\n",
        "        ax = plt.subplot(2, n, i + 1 + n)\n",
        "        plt.imshow(image2.reshape(28, 28))\n",
        "        plt.gray()\n",
        "        ax.get_xaxis().set_visible(False)\n",
        "        ax.get_yaxis().set_visible(False)\n",
        "\n",
        "    plt.show()"
      ]
    },
    {
      "cell_type": "code",
      "execution_count": 25,
      "metadata": {
        "colab": {
          "base_uri": "https://localhost:8080/",
          "height": 228
        },
        "id": "FCWGEFbylhHh",
        "outputId": "56f340ab-3227-4e6b-d353-03d5287a5762"
      },
      "outputs": [
        {
          "output_type": "stream",
          "name": "stdout",
          "text": [
            "Labels provided for the images: [7 1 1 7 9 3 7 7 9 5]\n"
          ]
        },
        {
          "output_type": "display_data",
          "data": {
            "text/plain": [
              "<Figure size 2000x400 with 20 Axes>"
            ],
            "image/png": "[encoded data removed]"
          },
          "metadata": {}
        }
      ],
      "source": [
        "display(noisyimages, pred, noisylabels)"
      ]
    },
    {
      "cell_type": "code",
      "execution_count": null,
      "metadata": {
        "id": "Ws33eJYl512Y"
      },
      "outputs": [],
      "source": [
        "display(np.array(noisyimages[noisylabels==0][5924:]), predTest0, np.array(noisylabels[noisylabels==0][5924:]))"
      ]
    },
    {
      "cell_type": "code",
      "source": [
        "display(np.array(noisyimages[noisylabels==1][5000:]), predTest1, np.array(noisylabels[noisylabels==1][5000:]))"
      ],
      "metadata": {
        "id": "qCUm9CkiuSSX"
      },
      "execution_count": null,
      "outputs": []
    },
    {
      "cell_type": "code",
      "execution_count": null,
      "metadata": {
        "id": "LToX66NGHTyC"
      },
      "outputs": [],
      "source": [
        "display(np.array(noisyimages[noisylabels==2][5959:]), predTest2, np.array(noisylabels[noisylabels==2][5959:]))"
      ]
    },
    {
      "cell_type": "code",
      "execution_count": null,
      "metadata": {
        "id": "oYXFtN2zHxcs"
      },
      "outputs": [],
      "source": [
        "display(np.array(noisyimages[noisylabels==3][6132:]), predTest3, np.array(noisylabels[noisylabels==3][6132:]))"
      ]
    },
    {
      "cell_type": "code",
      "source": [
        "display(np.array(noisyimages[noisylabels==4][5000:]), predTest4, np.array(noisylabels[noisylabels==4][5000:]))"
      ],
      "metadata": {
        "id": "2hmZ2JS7ubRX"
      },
      "execution_count": null,
      "outputs": []
    },
    {
      "cell_type": "code",
      "source": [
        "display(np.array(noisyimages[noisylabels==5][5000:]), predTest5, np.array(noisylabels[noisylabels==5][5000:]))"
      ],
      "metadata": {
        "id": "uoq9mABIug0E"
      },
      "execution_count": null,
      "outputs": []
    },
    {
      "cell_type": "code",
      "source": [
        "display(np.array(noisyimages[noisylabels==6][5000:]), predTest6, np.array(noisylabels[noisylabels==6][5000:]))"
      ],
      "metadata": {
        "id": "5AUCIFUQukM_"
      },
      "execution_count": null,
      "outputs": []
    },
    {
      "cell_type": "code",
      "source": [
        "display(np.array(noisyimages[noisylabels==7][5000:]), predTest7, np.array(noisylabels[noisylabels==7][5000:]))"
      ],
      "metadata": {
        "id": "m27HNbgHunHs"
      },
      "execution_count": null,
      "outputs": []
    },
    {
      "cell_type": "code",
      "source": [
        "display(np.array(noisyimages[noisylabels==8][5000:]), predTest8, np.array(noisylabels[noisylabels==8][5000:]))"
      ],
      "metadata": {
        "id": "VkjFhCLfup_0"
      },
      "execution_count": null,
      "outputs": []
    },
    {
      "cell_type": "code",
      "execution_count": null,
      "metadata": {
        "id": "FbySzG2dHx9S"
      },
      "outputs": [],
      "source": [
        "display(np.array(noisyimages[noisylabels==9][5950:]), predTest9, np.array(noisylabels[noisylabels==9][5950:]))"
      ]
    },
    {
      "cell_type": "code",
      "source": [
        "from sklearn.model_selection import train_test_split\n",
        "\n",
        "X = pred\n",
        "y = noisylabels\n",
        "\n",
        "X_train_clf, X_val_clf, y_train_clf, y_val_clf = train_test_split(X, y, test_size=0.2, random_state=42)"
      ],
      "metadata": {
        "id": "5iqo2rDU1e9p"
      },
      "execution_count": 26,
      "outputs": []
    },
    {
      "cell_type": "code",
      "source": [
        "X_train_clf = np.vstack((X_train_clf, x_train, x_test))"
      ],
      "metadata": {
        "id": "HdQPDQBw9LuM"
      },
      "execution_count": 27,
      "outputs": []
    },
    {
      "cell_type": "code",
      "source": [
        "y_train_clf = np.hstack((y_train_clf, y_mnist_train, y_mnist_test))"
      ],
      "metadata": {
        "id": "rPjnVCDR9aQo"
      },
      "execution_count": 28,
      "outputs": []
    },
    {
      "cell_type": "code",
      "source": [
        "y_train_clf = tf.one_hot(y_train_clf, depth = 10)\n",
        "y_val_clf = tf.one_hot(y_val_clf, depth = 10)"
      ],
      "metadata": {
        "id": "mxGIr3rX22C1"
      },
      "execution_count": 29,
      "outputs": []
    },
    {
      "cell_type": "code",
      "source": [
        "print(X_train_clf.shape, y_train_clf.shape)\n",
        "print(X_val_clf.shape, y_val_clf.shape)"
      ],
      "metadata": {
        "colab": {
          "base_uri": "https://localhost:8080/"
        },
        "id": "11qwQUwb24ap",
        "outputId": "b9fc14f3-239e-42b2-c771-16aa24e483ba"
      },
      "execution_count": 30,
      "outputs": [
        {
          "output_type": "stream",
          "name": "stdout",
          "text": [
            "(118000, 28, 28, 1) (118000, 10)\n",
            "(12000, 28, 28, 1) (12000, 10)\n"
          ]
        }
      ]
    },
    {
      "cell_type": "code",
      "source": [
        "from keras import layers\n",
        "\n",
        "clf2=Sequential()\n",
        "\n",
        "#clf2.add(Lambda(standardize,input_shape=(28,28,1)))\n",
        "clf2.add(Conv2D(filters=64, kernel_size = (3,3), activation=\"relu\", input_shape=(28,28,1)))\n",
        "clf2.add(Conv2D(filters=64, kernel_size = (3,3), activation=\"relu\"))\n",
        "clf2.add(MaxPooling2D(pool_size=(2,2)))\n",
        "clf2.add(layers.BatchNormalization())\n",
        "\n",
        "clf2.add(Conv2D(filters=128, kernel_size = (3,3), activation=\"relu\"))\n",
        "clf2.add(Conv2D(filters=128, kernel_size = (3,3), activation=\"relu\"))\n",
        "clf2.add(MaxPooling2D(pool_size=(2,2)))\n",
        "clf2.add(layers.BatchNormalization())\n",
        "\n",
        "clf2.add(Conv2D(filters=256, kernel_size = (3,3), activation=\"relu\"))\n",
        "clf2.add(MaxPooling2D(pool_size=(2,2)))\n",
        "clf2.add(layers.BatchNormalization())\n",
        "\n",
        "clf2.add(layers.Flatten())\n",
        "clf2.add(Dense(512,activation=\"relu\"))\n",
        "\n",
        "clf2.add(Dense(10,activation=\"softmax\"))\n",
        "\n",
        "clf2.compile(loss=\"categorical_crossentropy\", optimizer=\"adam\", metrics=[\"accuracy\"])"
      ],
      "metadata": {
        "id": "2lM5CNJk1zCO"
      },
      "execution_count": 31,
      "outputs": []
    },
    {
      "cell_type": "code",
      "source": [
        "clf2.summary()"
      ],
      "metadata": {
        "colab": {
          "base_uri": "https://localhost:8080/"
        },
        "id": "UL87GF3HqMjx",
        "outputId": "2edfb9e7-d7ba-470c-e7c6-41ba7dd7fca7"
      },
      "execution_count": 32,
      "outputs": [
        {
          "output_type": "stream",
          "name": "stdout",
          "text": [
            "Model: \"sequential_1\"\n",
            "_________________________________________________________________\n",
            " Layer (type)                Output Shape              Param #   \n",
            "=================================================================\n",
            " conv2d_11 (Conv2D)          (None, 26, 26, 64)        640       \n",
            "                                                                 \n",
            " conv2d_12 (Conv2D)          (None, 24, 24, 64)        36928     \n",
            "                                                                 \n",
            " max_pooling2d_2 (MaxPoolin  (None, 12, 12, 64)        0         \n",
            " g2D)                                                            \n",
            "                                                                 \n",
            " batch_normalization (Batch  (None, 12, 12, 64)        256       \n",
            " Normalization)                                                  \n",
            "                                                                 \n",
            " conv2d_13 (Conv2D)          (None, 10, 10, 128)       73856     \n",
            "                                                                 \n",
            " conv2d_14 (Conv2D)          (None, 8, 8, 128)         147584    \n",
            "                                                                 \n",
            " max_pooling2d_3 (MaxPoolin  (None, 4, 4, 128)         0         \n",
            " g2D)                                                            \n",
            "                                                                 \n",
            " batch_normalization_1 (Bat  (None, 4, 4, 128)         512       \n",
            " chNormalization)                                                \n",
            "                                                                 \n",
            " conv2d_15 (Conv2D)          (None, 2, 2, 256)         295168    \n",
            "                                                                 \n",
            " max_pooling2d_4 (MaxPoolin  (None, 1, 1, 256)         0         \n",
            " g2D)                                                            \n",
            "                                                                 \n",
            " batch_normalization_2 (Bat  (None, 1, 1, 256)         1024      \n",
            " chNormalization)                                                \n",
            "                                                                 \n",
            " flatten (Flatten)           (None, 256)               0         \n",
            "                                                                 \n",
            " dense (Dense)               (None, 512)               131584    \n",
            "                                                                 \n",
            " dense_1 (Dense)             (None, 10)                5130      \n",
            "                                                                 \n",
            "=================================================================\n",
            "Total params: 692682 (2.64 MB)\n",
            "Trainable params: 691786 (2.64 MB)\n",
            "Non-trainable params: 896 (3.50 KB)\n",
            "_________________________________________________________________\n"
          ]
        }
      ]
    },
    {
      "cell_type": "code",
      "source": [
        "from keras.preprocessing.image import ImageDataGenerator\n",
        "\n",
        "datagen = ImageDataGenerator(\n",
        "        featurewise_center=False,  # set input mean to 0 over the dataset\n",
        "        samplewise_center=False,  # set each sample mean to 0\n",
        "        featurewise_std_normalization=False,  # divide inputs by std of the dataset\n",
        "        samplewise_std_normalization=False,  # divide each input by its std\n",
        "        zca_whitening=False,  # apply ZCA whitening\n",
        "        rotation_range=15,  # randomly rotate images in the range (degrees, 0 to 180)\n",
        "        zoom_range = 0.01, # Randomly zoom image\n",
        "        width_shift_range=0.1,  # randomly shift images horizontally (fraction of total width)\n",
        "        height_shift_range=0.1,  # randomly shift images vertically (fraction of total height)\n",
        "        horizontal_flip=False,  # randomly flip images\n",
        "        vertical_flip=False)  # randomly flip images\n"
      ],
      "metadata": {
        "id": "8OwN1pq-19nK"
      },
      "execution_count": 33,
      "outputs": []
    },
    {
      "cell_type": "code",
      "source": [
        "train_gen = datagen.flow(X_train_clf, y_train_clf, batch_size=128)\n",
        "test_gen = datagen.flow(X_val_clf, y_val_clf, batch_size=128)"
      ],
      "metadata": {
        "id": "R_GX_vxN2SBM"
      },
      "execution_count": 34,
      "outputs": []
    },
    {
      "cell_type": "code",
      "source": [
        "from keras.callbacks import ModelCheckpoint\n",
        "from keras.callbacks import EarlyStopping\n",
        "from keras.callbacks import LearningRateScheduler\n",
        "from keras.callbacks import ReduceLROnPlateau"
      ],
      "metadata": {
        "id": "Vor7R1-1JuYk"
      },
      "execution_count": 35,
      "outputs": []
    },
    {
      "cell_type": "code",
      "source": [
        "epochs = 50\n",
        "batch_size = 128\n",
        "train_steps = X_train_clf.shape[0] // batch_size\n",
        "valid_steps = X_val_clf.shape[0] // batch_size\n",
        "\n",
        "es = EarlyStopping(\n",
        "        monitor=\"val_acc\", # metrics to monitor\n",
        "        patience=5, # how many epochs before stop\n",
        "        verbose=1,\n",
        "        mode=\"max\", # we need the maximum accuracy.\n",
        "        restore_best_weights=True, #\n",
        "     )\n",
        "\n",
        "rp = ReduceLROnPlateau(\n",
        "        monitor=\"val_acc\",\n",
        "        factor=0.2,\n",
        "        patience=3,\n",
        "        verbose=1,\n",
        "        mode=\"max\",\n",
        "        min_lr=0.00001,\n",
        "     )"
      ],
      "metadata": {
        "id": "-xLHff1n24_A"
      },
      "execution_count": 36,
      "outputs": []
    },
    {
      "cell_type": "code",
      "source": [
        "history_clf2 = clf2.fit_generator(train_gen,\n",
        "                              epochs = epochs,\n",
        "                              steps_per_epoch = train_steps,\n",
        "                              validation_data = test_gen,\n",
        "                              validation_steps = valid_steps,\n",
        "                              callbacks=[es, rp])"
      ],
      "metadata": {
        "colab": {
          "base_uri": "https://localhost:8080/"
        },
        "id": "LBkf7swt3dAL",
        "outputId": "7bb595a5-093a-450a-b9d4-8c9d9aee570a"
      },
      "execution_count": null,
      "outputs": [
        {
          "output_type": "stream",
          "name": "stdout",
          "text": [
            "Epoch 1/50\n"
          ]
        },
        {
          "output_type": "stream",
          "name": "stderr",
          "text": [
            "<ipython-input-37-f345d4a9fbd1>:1: UserWarning: `Model.fit_generator` is deprecated and will be removed in a future version. Please use `Model.fit`, which supports generators.\n",
            "  history_clf2 = clf2.fit_generator(train_gen,\n"
          ]
        },
        {
          "output_type": "stream",
          "name": "stdout",
          "text": [
            "921/921 [==============================] - ETA: 0s - loss: 0.5067 - accuracy: 0.8385"
          ]
        },
        {
          "output_type": "stream",
          "name": "stderr",
          "text": [
            "WARNING:tensorflow:Early stopping conditioned on metric `val_acc` which is not available. Available metrics are: loss,accuracy,val_loss,val_accuracy\n",
            "WARNING:tensorflow:Learning rate reduction is conditioned on metric `val_acc` which is not available. Available metrics are: loss,accuracy,val_loss,val_accuracy,lr\n"
          ]
        },
        {
          "output_type": "stream",
          "name": "stdout",
          "text": [
            "\b\b\b\b\b\b\b\b\b\b\b\b\b\b\b\b\b\b\b\b\b\b\b\b\b\b\b\b\b\b\b\b\b\b\b\b\b\b\b\b\b\b\b\b\b\b\b\b\b\b\b\b\b\b\b\b\b\b\b\b\b\b\b\b\b\b\b\b\b\b\b\b\b\b\b\b\b\b\b\b\b\b\b\b\r921/921 [==============================] - 54s 53ms/step - loss: 0.5067 - accuracy: 0.8385 - val_loss: 1.0760 - val_accuracy: 0.6672 - lr: 0.0010\n",
            "Epoch 2/50\n",
            "921/921 [==============================] - ETA: 0s - loss: 0.4520 - accuracy: 0.8550"
          ]
        },
        {
          "output_type": "stream",
          "name": "stderr",
          "text": [
            "WARNING:tensorflow:Early stopping conditioned on metric `val_acc` which is not available. Available metrics are: loss,accuracy,val_loss,val_accuracy\n",
            "WARNING:tensorflow:Learning rate reduction is conditioned on metric `val_acc` which is not available. Available metrics are: loss,accuracy,val_loss,val_accuracy,lr\n"
          ]
        },
        {
          "output_type": "stream",
          "name": "stdout",
          "text": [
            "\b\b\b\b\b\b\b\b\b\b\b\b\b\b\b\b\b\b\b\b\b\b\b\b\b\b\b\b\b\b\b\b\b\b\b\b\b\b\b\b\b\b\b\b\b\b\b\b\b\b\b\b\b\b\b\b\b\b\b\b\b\b\b\b\b\b\b\b\b\b\b\b\b\b\b\b\b\b\b\b\b\b\b\b\r921/921 [==============================] - 49s 53ms/step - loss: 0.4520 - accuracy: 0.8550 - val_loss: 1.0921 - val_accuracy: 0.6702 - lr: 0.0010\n",
            "Epoch 3/50\n",
            "920/921 [============================>.] - ETA: 0s - loss: 0.4418 - accuracy: 0.8583"
          ]
        },
        {
          "output_type": "stream",
          "name": "stderr",
          "text": [
            "WARNING:tensorflow:Early stopping conditioned on metric `val_acc` which is not available. Available metrics are: loss,accuracy,val_loss,val_accuracy\n",
            "WARNING:tensorflow:Learning rate reduction is conditioned on metric `val_acc` which is not available. Available metrics are: loss,accuracy,val_loss,val_accuracy,lr\n"
          ]
        },
        {
          "output_type": "stream",
          "name": "stdout",
          "text": [
            "\b\b\b\b\b\b\b\b\b\b\b\b\b\b\b\b\b\b\b\b\b\b\b\b\b\b\b\b\b\b\b\b\b\b\b\b\b\b\b\b\b\b\b\b\b\b\b\b\b\b\b\b\b\b\b\b\b\b\b\b\b\b\b\b\b\b\b\b\b\b\b\b\b\b\b\b\b\b\b\b\b\b\b\b\r921/921 [==============================] - 46s 50ms/step - loss: 0.4417 - accuracy: 0.8583 - val_loss: 1.0179 - val_accuracy: 0.6784 - lr: 0.0010\n",
            "Epoch 4/50\n",
            "921/921 [==============================] - ETA: 0s - loss: 0.4356 - accuracy: 0.8596"
          ]
        },
        {
          "output_type": "stream",
          "name": "stderr",
          "text": [
            "WARNING:tensorflow:Early stopping conditioned on metric `val_acc` which is not available. Available metrics are: loss,accuracy,val_loss,val_accuracy\n",
            "WARNING:tensorflow:Learning rate reduction is conditioned on metric `val_acc` which is not available. Available metrics are: loss,accuracy,val_loss,val_accuracy,lr\n"
          ]
        },
        {
          "output_type": "stream",
          "name": "stdout",
          "text": [
            "\b\b\b\b\b\b\b\b\b\b\b\b\b\b\b\b\b\b\b\b\b\b\b\b\b\b\b\b\b\b\b\b\b\b\b\b\b\b\b\b\b\b\b\b\b\b\b\b\b\b\b\b\b\b\b\b\b\b\b\b\b\b\b\b\b\b\b\b\b\b\b\b\b\b\b\b\b\b\b\b\b\b\b\b\r921/921 [==============================] - 45s 49ms/step - loss: 0.4356 - accuracy: 0.8596 - val_loss: 1.0087 - val_accuracy: 0.6715 - lr: 0.0010\n"
          ]
        }
      ]
    },
    {
      "cell_type": "code",
      "source": [
        "clf2.save('/content/drive/MyDrive/Deep Learning/classifier_CNN_BatchNorm_50_augmented.keras')"
      ],
      "metadata": {
        "id": "ayYIHl-vmIVa"
      },
      "execution_count": null,
      "outputs": []
    },
    {
      "cell_type": "code",
      "source": [
        "history_clf_dict = history_clf2.history\n",
        "loss_values = history_clf_dict[\"loss\"]\n",
        "val_loss_values = history_clf_dict[\"val_loss\"]\n",
        "epochs = range(1, len(loss_values) + 1)\n",
        "plt.figure(figsize=(5,2))\n",
        "plt.plot(epochs, loss_values, \"bo\", label=\"Training loss\")\n",
        "plt.plot(epochs, val_loss_values, \"b\", label=\"Validation loss\")\n",
        "plt.title(\"Training and validation loss\")\n",
        "plt.xlabel(\"Epochs\")\n",
        "plt.ylabel(\"Loss\")\n",
        "plt.legend()\n",
        "plt.show()"
      ],
      "metadata": {
        "id": "EQ2QAIPduqK9"
      },
      "execution_count": null,
      "outputs": []
    },
    {
      "cell_type": "code",
      "source": [
        "acc = history_clf_dict[\"accuracy\"]\n",
        "val_acc = history_clf_dict[\"val_accuracy\"]\n",
        "plt.figure(figsize=(5,2))\n",
        "plt.plot(epochs, acc, \"bo\", label=\"Training acc\")\n",
        "plt.plot(epochs, val_acc, \"b\", label=\"Validation acc\")\n",
        "plt.title(\"Training and validation accuracy\")\n",
        "plt.xlabel(\"Epochs\")\n",
        "plt.ylabel(\"Accuracy\")\n",
        "plt.legend()\n",
        "plt.show()"
      ],
      "metadata": {
        "id": "zdi6J13tvH6z"
      },
      "execution_count": null,
      "outputs": []
    }
  ],
  "metadata": {
    "accelerator": "GPU",
    "colab": {
      "provenance": []
    },
    "kernelspec": {
      "display_name": "Python 3",
      "name": "python3"
    },
    "language_info": {
      "name": "python"
    }
  },
  "nbformat": 4,
  "nbformat_minor": 0
}