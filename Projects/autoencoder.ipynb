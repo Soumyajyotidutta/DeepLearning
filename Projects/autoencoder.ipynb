{
  "cells": [
    {
      "cell_type": "code",
      "execution_count": 1,
      "metadata": {
        "id": "ilKOHRaHAje-"
      },
      "outputs": [],
      "source": [
        "import numpy as np\n",
        "import matplotlib.pyplot as plt\n",
        "import tensorflow as tf\n",
        "from keras import Sequential\n",
        "from keras.layers import Dense, Conv2D, MaxPooling2D, UpSampling2D\n",
        "from keras.datasets import mnist\n",
        "from sklearn.model_selection import train_test_split\n",
        "from sklearn.utils import shuffle"
      ]
    },
    {
      "cell_type": "code",
      "execution_count": 3,
      "metadata": {
        "colab": {
          "base_uri": "https://localhost:8080/"
        },
        "id": "Qmi3BEomAyFK",
        "outputId": "75b0ac0f-7cc5-4880-f6ba-f9b297ff606f"
      },
      "outputs": [
        {
          "data": {
            "text/plain": [
              "[PhysicalDevice(name='/physical_device:GPU:0', device_type='GPU')]"
            ]
          },
          "execution_count": 3,
          "metadata": {},
          "output_type": "execute_result"
        }
      ],
      "source": [
        "tf.config.list_physical_devices('GPU')"
      ]
    },
    {
      "cell_type": "code",
      "execution_count": 4,
      "metadata": {
        "colab": {
          "base_uri": "https://localhost:8080/"
        },
        "id": "dQNBN2a6A0jg",
        "outputId": "5ab5b03c-7798-40a1-a36b-d1d71d264109"
      },
      "outputs": [
        {
          "name": "stdout",
          "output_type": "stream",
          "text": [
            "Downloading data from https://storage.googleapis.com/tensorflow/tf-keras-datasets/mnist.npz\n",
            "11490434/11490434 [==============================] - 0s 0us/step\n"
          ]
        }
      ],
      "source": [
        "(x_train, y_mnist_train), (x_test, y_mnist_test) = mnist.load_data()"
      ]
    },
    {
      "cell_type": "code",
      "execution_count": 5,
      "metadata": {
        "id": "3YWDNqJ0A6j2"
      },
      "outputs": [],
      "source": [
        "x_train = x_train.astype('float32') / 255\n",
        "x_test = x_test.astype('float32') / 255"
      ]
    },
    {
      "cell_type": "code",
      "execution_count": 6,
      "metadata": {
        "colab": {
          "base_uri": "https://localhost:8080/"
        },
        "id": "zwyUHEkIA_Ni",
        "outputId": "9a9dab96-eaeb-4984-f848-0ddcac1f630b"
      },
      "outputs": [
        {
          "data": {
            "text/plain": [
              "(60000, 28, 28, 1)"
            ]
          },
          "execution_count": 6,
          "metadata": {},
          "output_type": "execute_result"
        }
      ],
      "source": [
        "x_train = x_train.reshape(len(x_train), 28, 28, 1)\n",
        "x_test = x_test.reshape(len(x_test), 28, 28, 1)\n",
        "print(x_train.shape)"
      ]
    },
    {
      "cell_type": "markdown",
      "metadata": {
        "id": "R6ba6U8-xz0y"
      },
      "source": [
        "##### MNIST Divided by Class"
      ]
    },
    {
      "cell_type": "code",
      "execution_count": 7,
      "metadata": {
        "colab": {
          "base_uri": "https://localhost:8080/"
        },
        "id": "S7GOL0Gzv8D7",
        "outputId": "d319d5f2-6939-4aaf-912e-6369515fb6f6"
      },
      "outputs": [
        {
          "name": "stdout",
          "output_type": "stream",
          "text": [
            "(5923, 28, 28, 1): X Train Label 0, (6742, 28, 28, 1): X Train Label 1\n",
            "(5958, 28, 28, 1): X Train Label 2, (6131, 28, 28, 1): X Train Label 3\n",
            "(5842, 28, 28, 1): X Train Label 4, (5421, 28, 28, 1): X Train Label 5\n",
            "(5918, 28, 28, 1): X Train Label 6, (6265, 28, 28, 1): X Train Label 7\n",
            "(5851, 28, 28, 1): X Train Label 8, (5949, 28, 28, 1): X Train Label 9\n"
          ]
        }
      ],
      "source": [
        "x_train0 = x_train[y_mnist_train == 0]\n",
        "x_train1 = x_train[y_mnist_train == 1]\n",
        "x_train2 = x_train[y_mnist_train == 2]\n",
        "x_train3 = x_train[y_mnist_train == 3]\n",
        "x_train4 = x_train[y_mnist_train == 4]\n",
        "x_train5 = x_train[y_mnist_train == 5]\n",
        "x_train6 = x_train[y_mnist_train == 6]\n",
        "x_train7 = x_train[y_mnist_train == 7]\n",
        "x_train8 = x_train[y_mnist_train == 8]\n",
        "x_train9 = x_train[y_mnist_train == 9]\n",
        "print(f'{x_train0.shape}: X Train Label 0, {x_train1.shape}: X Train Label 1')\n",
        "print(f'{x_train2.shape}: X Train Label 2, {x_train3.shape}: X Train Label 3')\n",
        "print(f'{x_train4.shape}: X Train Label 4, {x_train5.shape}: X Train Label 5')\n",
        "print(f'{x_train6.shape}: X Train Label 6, {x_train7.shape}: X Train Label 7')\n",
        "print(f'{x_train8.shape}: X Train Label 8, {x_train9.shape}: X Train Label 9')"
      ]
    },
    {
      "cell_type": "code",
      "execution_count": 8,
      "metadata": {
        "colab": {
          "base_uri": "https://localhost:8080/"
        },
        "id": "_tC8GO7K_4qn",
        "outputId": "bd47385f-c94c-435e-a92f-c7a14e39ad16"
      },
      "outputs": [
        {
          "name": "stdout",
          "output_type": "stream",
          "text": [
            "(5923,): y Train Label 0, (6742,): y Train Label 1\n",
            "(5958,): y Train Label 2, (6131,): y Train Label 3\n",
            "(5842,): y Train Label 4, (5421,): y Train Label 5\n",
            "(5918,): y Train Label 6, (6265,): y Train Label 7\n",
            "(5851,): y Train Label 8, (5949,): y Train Label 9\n"
          ]
        }
      ],
      "source": [
        "y_mnist_train0 = y_mnist_train[y_mnist_train == 0]\n",
        "y_mnist_train1 = y_mnist_train[y_mnist_train == 1]\n",
        "y_mnist_train2 = y_mnist_train[y_mnist_train == 2]\n",
        "y_mnist_train3 = y_mnist_train[y_mnist_train == 3]\n",
        "y_mnist_train4 = y_mnist_train[y_mnist_train == 4]\n",
        "y_mnist_train5 = y_mnist_train[y_mnist_train == 5]\n",
        "y_mnist_train6 = y_mnist_train[y_mnist_train == 6]\n",
        "y_mnist_train7 = y_mnist_train[y_mnist_train == 7]\n",
        "y_mnist_train8 = y_mnist_train[y_mnist_train == 8]\n",
        "y_mnist_train9 = y_mnist_train[y_mnist_train == 9]\n",
        "print(f'{y_mnist_train0.shape}: y Train Label 0, {y_mnist_train1.shape}: y Train Label 1')\n",
        "print(f'{y_mnist_train2.shape}: y Train Label 2, {y_mnist_train3.shape}: y Train Label 3')\n",
        "print(f'{y_mnist_train4.shape}: y Train Label 4, {y_mnist_train5.shape}: y Train Label 5')\n",
        "print(f'{y_mnist_train6.shape}: y Train Label 6, {y_mnist_train7.shape}: y Train Label 7')\n",
        "print(f'{y_mnist_train8.shape}: y Train Label 8, {y_mnist_train9.shape}: y Train Label 9')"
      ]
    },
    {
      "cell_type": "code",
      "execution_count": 9,
      "metadata": {
        "id": "eI6G4hfxBOQ9"
      },
      "outputs": [],
      "source": [
        "traindata = np.vstack((x_train0, x_train1[:6683], x_train2, x_train3, x_train4[:5818], x_train5[:5403], x_train6[:5894],\n",
        "                       x_train7[:6252], x_train8[:5849], x_train9))"
      ]
    },
    {
      "cell_type": "code",
      "execution_count": 10,
      "metadata": {
        "id": "WvA8HZhuyVJj"
      },
      "outputs": [],
      "source": [
        "traindata_shuffled = shuffle(traindata, random_state=42)"
      ]
    },
    {
      "cell_type": "code",
      "execution_count": 11,
      "metadata": {
        "colab": {
          "base_uri": "https://localhost:8080/"
        },
        "id": "f4LDKqNDB1U1",
        "outputId": "cd1f4614-d041-4376-8ad0-6671512e087f"
      },
      "outputs": [
        {
          "data": {
            "text/plain": [
              "(59860, 28, 28, 1)"
            ]
          },
          "execution_count": 11,
          "metadata": {},
          "output_type": "execute_result"
        }
      ],
      "source": [
        "print(traindata_shuffled.shape)"
      ]
    },
    {
      "cell_type": "code",
      "execution_count": 12,
      "metadata": {
        "id": "dg0QzTZHBasb"
      },
      "outputs": [],
      "source": [
        "import pickle\n",
        "\n",
        "with open ('636_project1_train_images', 'rb') as trainfile:\n",
        "  noisyimages = pickle.load(trainfile)\n",
        "\n",
        "with open ('636_project1_train_labels', 'rb') as labelsfile:\n",
        "  noisylabels = pickle.load(labelsfile)"
      ]
    },
    {
      "cell_type": "code",
      "execution_count": 13,
      "metadata": {
        "colab": {
          "base_uri": "https://localhost:8080/"
        },
        "id": "8u0z2xnJOM11",
        "outputId": "0e58aefc-6e9f-41c1-81ba-d62820c62014"
      },
      "outputs": [
        {
          "data": {
            "text/plain": [
              "(60000, 28, 28, 1)"
            ]
          },
          "execution_count": 13,
          "metadata": {},
          "output_type": "execute_result"
        }
      ],
      "source": [
        "noisyimages = np.array(noisyimages)\n",
        "noisylabels = np.array(noisylabels)\n",
        "\n",
        "noisyimages = noisyimages.astype('float32') / 255\n",
        "noisyimages = noisyimages.reshape(len(noisyimages), 28, 28, 1)\n",
        "print(noisyimages.shape)"
      ]
    },
    {
      "cell_type": "code",
      "execution_count": 14,
      "metadata": {
        "colab": {
          "base_uri": "https://localhost:8080/"
        },
        "id": "h9BQnG8QEh6m",
        "outputId": "a8c6f18f-5ce5-44aa-cbb3-8c1f6914c832"
      },
      "outputs": [
        {
          "name": "stdout",
          "output_type": "stream",
          "text": [
            "(5972, 28, 28, 1): X Train Noisy Label 0, (6683, 28, 28, 1): X Train Noisy Label 1\n",
            "(6010, 28, 28, 1): X Train Noisy Label 2, (6156, 28, 28, 1): X Train Noisy Label 3\n",
            "(5818, 28, 28, 1): X Train Noisy Label 4, (5403, 28, 28, 1): X Train Noisy Label 5\n",
            "(5894, 28, 28, 1): X Train Noisy Label 6, (6252, 28, 28, 1): X Train Noisy Label 7\n",
            "(5849, 28, 28, 1): X Train Noisy Label 8, (5963, 28, 28, 1): X Train Noisy Label 9\n"
          ]
        }
      ],
      "source": [
        "x_train_noisy0 = noisyimages[noisylabels == 0]\n",
        "x_train_noisy1 = noisyimages[noisylabels == 1]\n",
        "x_train_noisy2 = noisyimages[noisylabels == 2]\n",
        "x_train_noisy3 = noisyimages[noisylabels == 3]\n",
        "x_train_noisy4 = noisyimages[noisylabels == 4]\n",
        "x_train_noisy5 = noisyimages[noisylabels == 5]\n",
        "x_train_noisy6 = noisyimages[noisylabels == 6]\n",
        "x_train_noisy7 = noisyimages[noisylabels == 7]\n",
        "x_train_noisy8 = noisyimages[noisylabels == 8]\n",
        "x_train_noisy9 = noisyimages[noisylabels == 9]\n",
        "print(f'{x_train_noisy0.shape}: X Train Noisy Label 0, {x_train_noisy1.shape}: X Train Noisy Label 1')\n",
        "print(f'{x_train_noisy2.shape}: X Train Noisy Label 2, {x_train_noisy3.shape}: X Train Noisy Label 3')\n",
        "print(f'{x_train_noisy4.shape}: X Train Noisy Label 4, {x_train_noisy5.shape}: X Train Noisy Label 5')\n",
        "print(f'{x_train_noisy6.shape}: X Train Noisy Label 6, {x_train_noisy7.shape}: X Train Noisy Label 7')\n",
        "print(f'{x_train_noisy8.shape}: X Train Noisy Label 8, {x_train_noisy9.shape}: X Train Noisy Label 9')"
      ]
    },
    {
      "cell_type": "code",
      "execution_count": 15,
      "metadata": {
        "colab": {
          "base_uri": "https://localhost:8080/"
        },
        "id": "DI-2FiDDyl4G",
        "outputId": "d1da83c3-a752-4184-9143-4d5ffecb1d6b"
      },
      "outputs": [
        {
          "name": "stdout",
          "output_type": "stream",
          "text": [
            "(5972,): y Train Label 0, (6683,): y Train Label 1\n",
            "(6010,): y Train Label 2, (6156,): y Train Label 3\n",
            "(5818,): y Train Label 4, (5403,): y Train Label 5\n",
            "(5894,): y Train Label 6, (6252,): y Train Label 7\n",
            "(5849,): y Train Label 8, (5963,): y Train Label 9\n"
          ]
        }
      ],
      "source": [
        "y_noisy_train0 = noisylabels[noisylabels == 0]\n",
        "y_noisy_train1 = noisylabels[noisylabels == 1]\n",
        "y_noisy_train2 = noisylabels[noisylabels == 2]\n",
        "y_noisy_train3 = noisylabels[noisylabels == 3]\n",
        "y_noisy_train4 = noisylabels[noisylabels == 4]\n",
        "y_noisy_train5 = noisylabels[noisylabels == 5]\n",
        "y_noisy_train6 = noisylabels[noisylabels == 6]\n",
        "y_noisy_train7 = noisylabels[noisylabels == 7]\n",
        "y_noisy_train8 = noisylabels[noisylabels == 8]\n",
        "y_noisy_train9 = noisylabels[noisylabels == 9]\n",
        "print(f'{y_noisy_train0.shape}: y Train Label 0, {y_noisy_train1.shape}: y Train Label 1')\n",
        "print(f'{y_noisy_train2.shape}: y Train Label 2, {y_noisy_train3.shape}: y Train Label 3')\n",
        "print(f'{y_noisy_train4.shape}: y Train Label 4, {y_noisy_train5.shape}: y Train Label 5')\n",
        "print(f'{y_noisy_train6.shape}: y Train Label 6, {y_noisy_train7.shape}: y Train Label 7')\n",
        "print(f'{y_noisy_train8.shape}: y Train Label 8, {y_noisy_train9.shape}: y Train Label 9')"
      ]
    },
    {
      "cell_type": "code",
      "execution_count": 16,
      "metadata": {
        "id": "TVQJzNKFB6IF"
      },
      "outputs": [],
      "source": [
        "traindata_noisy = np.vstack((x_train_noisy0[:5923], x_train_noisy1, x_train_noisy2[:5958], x_train_noisy3[:6131], x_train_noisy4,\n",
        "                             x_train_noisy5, x_train_noisy6, x_train_noisy7, x_train_noisy8, x_train_noisy9[:5949]))"
      ]
    },
    {
      "cell_type": "code",
      "execution_count": 17,
      "metadata": {
        "id": "qf0e3cIEzELY"
      },
      "outputs": [],
      "source": [
        "traindata_noisy_shuffled = shuffle(traindata_noisy, random_state=42)"
      ]
    },
    {
      "cell_type": "code",
      "execution_count": 18,
      "metadata": {
        "colab": {
          "base_uri": "https://localhost:8080/"
        },
        "id": "C0dAZOP5CD_I",
        "outputId": "f2b8e05a-5116-4e40-9346-49d226609747"
      },
      "outputs": [
        {
          "data": {
            "text/plain": [
              "(59860, 28, 28, 1)"
            ]
          },
          "execution_count": 18,
          "metadata": {},
          "output_type": "execute_result"
        }
      ],
      "source": [
        "print(traindata_noisy_shuffled.shape)"
      ]
    },
    {
      "cell_type": "markdown",
      "metadata": {
        "id": "QJec5VZNx3A9"
      },
      "source": [
        "##### Model"
      ]
    },
    {
      "cell_type": "code",
      "execution_count": 19,
      "metadata": {
        "colab": {
          "base_uri": "https://localhost:8080/"
        },
        "id": "ojhMATHICK6p",
        "outputId": "30e1de9c-a618-450d-8c39-d95fd56c044c"
      },
      "outputs": [
        {
          "name": "stdout",
          "output_type": "stream",
          "text": [
            "Model: \"sequential\"\n",
            "_________________________________________________________________\n",
            " Layer (type)                Output Shape              Param #   \n",
            "=================================================================\n",
            " conv2d (Conv2D)             (None, 28, 28, 512)       5120      \n",
            "                                                                 \n",
            " conv2d_1 (Conv2D)           (None, 28, 28, 256)       1179904   \n",
            "                                                                 \n",
            " conv2d_2 (Conv2D)           (None, 28, 28, 128)       295040    \n",
            "                                                                 \n",
            " max_pooling2d (MaxPooling2  (None, 14, 14, 128)       0         \n",
            " D)                                                              \n",
            "                                                                 \n",
            " conv2d_3 (Conv2D)           (None, 14, 14, 64)        73792     \n",
            "                                                                 \n",
            " max_pooling2d_1 (MaxPoolin  (None, 7, 7, 64)          0         \n",
            " g2D)                                                            \n",
            "                                                                 \n",
            " conv2d_4 (Conv2D)           (None, 7, 7, 32)          18464     \n",
            "                                                                 \n",
            " conv2d_5 (Conv2D)           (None, 7, 7, 16)          4624      \n",
            "                                                                 \n",
            " conv2d_6 (Conv2D)           (None, 7, 7, 16)          2320      \n",
            "                                                                 \n",
            " conv2d_7 (Conv2D)           (None, 7, 7, 32)          4640      \n",
            "                                                                 \n",
            " conv2d_8 (Conv2D)           (None, 7, 7, 64)          18496     \n",
            "                                                                 \n",
            " up_sampling2d (UpSampling2  (None, 14, 14, 64)        0         \n",
            " D)                                                              \n",
            "                                                                 \n",
            " conv2d_9 (Conv2D)           (None, 14, 14, 128)       73856     \n",
            "                                                                 \n",
            " up_sampling2d_1 (UpSamplin  (None, 28, 28, 128)       0         \n",
            " g2D)                                                            \n",
            "                                                                 \n",
            " conv2d_10 (Conv2D)          (None, 28, 28, 256)       295168    \n",
            "                                                                 \n",
            " conv2d_11 (Conv2D)          (None, 28, 28, 512)       1180160   \n",
            "                                                                 \n",
            " conv2d_12 (Conv2D)          (None, 28, 28, 1)         4609      \n",
            "                                                                 \n",
            "=================================================================\n",
            "Total params: 3156193 (12.04 MB)\n",
            "Trainable params: 3156193 (12.04 MB)\n",
            "Non-trainable params: 0 (0.00 Byte)\n",
            "_________________________________________________________________\n"
          ]
        }
      ],
      "source": [
        "model = Sequential([\n",
        "                    # encoder network\n",
        "                    Conv2D(512, 3, activation='relu', padding='same', input_shape=(28, 28, 1)),\n",
        "                    Conv2D(256, 3, activation='relu', padding='same'),\n",
        "                    Conv2D(128, 3, activation='relu', padding='same'),\n",
        "                    MaxPooling2D(2, padding='same'),\n",
        "                    Conv2D(64, 3, activation='relu', padding='same'),\n",
        "                    MaxPooling2D(2, padding='same'),\n",
        "                    Conv2D(32, 3, activation='relu', padding='same'),\n",
        "                    Conv2D(16, 3, activation='relu', padding='same'),\n",
        "                    # decoder network\n",
        "                    Conv2D(16, 3, activation='relu', padding='same'),\n",
        "                    Conv2D(32, 3, activation='relu', padding='same'),\n",
        "                    Conv2D(64, 3, activation='relu', padding='same'),\n",
        "                    UpSampling2D(2),\n",
        "                    Conv2D(128, 3, activation='relu', padding='same'),\n",
        "                    UpSampling2D(2),\n",
        "                    Conv2D(256, 3, activation='relu', padding='same'),\n",
        "                    Conv2D(512, 3, activation='relu', padding='same', input_shape=(28, 28, 1)),\n",
        "                    # output layer\n",
        "                    Conv2D(1, 3, activation='sigmoid', padding='same')\n",
        "])\n",
        "\n",
        "model.compile(optimizer='adam', loss='binary_crossentropy')\n",
        "# model.summary()\n"
      ]
    },
    {
      "cell_type": "code",
      "execution_count": null,
      "metadata": {
        "colab": {
          "base_uri": "https://localhost:8080/"
        },
        "id": "BsJSBoC5CPY4",
        "outputId": "c6355a3d-b0e7-4d7b-b317-1dc61f8836bc"
      },
      "outputs": [
        {
          "name": "stdout",
          "output_type": "stream",
          "text": [
            "Epoch 1/250\n",
            "468/468 [==============================] - 118s 202ms/step - loss: 0.2725\n",
            "Epoch 2/250\n",
            "468/468 [==============================] - 91s 195ms/step - loss: 0.2577\n",
            "Epoch 3/250\n",
            "468/468 [==============================] - 91s 194ms/step - loss: 0.2511\n",
            "Epoch 4/250\n",
            "468/468 [==============================] - 90s 193ms/step - loss: 0.2483\n",
            "Epoch 5/250\n",
            "468/468 [==============================] - 90s 193ms/step - loss: 0.2462\n",
            "Epoch 6/250\n",
            "468/468 [==============================] - 90s 193ms/step - loss: 0.2447\n",
            "Epoch 7/250\n",
            "468/468 [==============================] - 90s 192ms/step - loss: 0.2436\n",
            "Epoch 8/250\n",
            "468/468 [==============================] - 90s 192ms/step - loss: 0.2427\n",
            "Epoch 9/250\n",
            "468/468 [==============================] - 90s 192ms/step - loss: 0.2423\n",
            "Epoch 10/250\n",
            "468/468 [==============================] - 90s 191ms/step - loss: 0.2415\n",
            "Epoch 11/250\n",
            "468/468 [==============================] - 89s 191ms/step - loss: 0.2409\n",
            "Epoch 12/250\n",
            "468/468 [==============================] - 89s 191ms/step - loss: 0.2406\n",
            "Epoch 13/250\n",
            "468/468 [==============================] - 89s 191ms/step - loss: 0.2400\n",
            "Epoch 14/250\n",
            "468/468 [==============================] - 89s 190ms/step - loss: 0.2394\n",
            "Epoch 15/250\n",
            "468/468 [==============================] - 89s 190ms/step - loss: 0.2389\n",
            "Epoch 16/250\n",
            "468/468 [==============================] - 89s 190ms/step - loss: 0.2383\n",
            "Epoch 17/250\n",
            "468/468 [==============================] - 89s 190ms/step - loss: 0.2379\n",
            "Epoch 18/250\n",
            "468/468 [==============================] - 89s 190ms/step - loss: 0.2372\n",
            "Epoch 19/250\n",
            "468/468 [==============================] - 89s 189ms/step - loss: 0.2366\n",
            "Epoch 20/250\n",
            "468/468 [==============================] - 89s 190ms/step - loss: 0.2359\n",
            "Epoch 21/250\n",
            "468/468 [==============================] - 89s 189ms/step - loss: 0.2351\n",
            "Epoch 22/250\n",
            "468/468 [==============================] - 89s 189ms/step - loss: 0.2343\n",
            "Epoch 23/250\n",
            "468/468 [==============================] - 88s 189ms/step - loss: 0.2335\n",
            "Epoch 24/250\n",
            "468/468 [==============================] - 88s 189ms/step - loss: 0.2326\n",
            "Epoch 25/250\n",
            "468/468 [==============================] - 88s 189ms/step - loss: 0.2318\n",
            "Epoch 26/250\n",
            "468/468 [==============================] - 88s 189ms/step - loss: 0.2310\n",
            "Epoch 27/250\n",
            "468/468 [==============================] - 88s 189ms/step - loss: 0.2301\n",
            "Epoch 28/250\n",
            "468/468 [==============================] - 88s 189ms/step - loss: 0.2291\n",
            "Epoch 29/250\n",
            "468/468 [==============================] - 88s 189ms/step - loss: 0.2282\n",
            "Epoch 30/250\n",
            "468/468 [==============================] - 88s 189ms/step - loss: 0.2272\n",
            "Epoch 31/250\n",
            "468/468 [==============================] - 88s 189ms/step - loss: 0.2264\n",
            "Epoch 32/250\n",
            "468/468 [==============================] - 88s 189ms/step - loss: 0.2256\n",
            "Epoch 33/250\n",
            "468/468 [==============================] - 88s 189ms/step - loss: 0.2248\n",
            "Epoch 34/250\n",
            "468/468 [==============================] - 88s 189ms/step - loss: 0.2239\n",
            "Epoch 35/250\n",
            "468/468 [==============================] - 88s 189ms/step - loss: 0.2230\n",
            "Epoch 36/250\n",
            "468/468 [==============================] - 88s 189ms/step - loss: 0.2222\n",
            "Epoch 37/250\n",
            "468/468 [==============================] - 88s 189ms/step - loss: 0.2213\n",
            "Epoch 38/250\n",
            "468/468 [==============================] - 88s 189ms/step - loss: 0.2205\n",
            "Epoch 39/250\n",
            "468/468 [==============================] - 88s 189ms/step - loss: 0.2195\n",
            "Epoch 40/250\n",
            "468/468 [==============================] - 88s 189ms/step - loss: 0.2187\n",
            "Epoch 41/250\n",
            "468/468 [==============================] - 88s 189ms/step - loss: 0.2178\n",
            "Epoch 42/250\n",
            "468/468 [==============================] - 88s 189ms/step - loss: 0.2169\n",
            "Epoch 43/250\n",
            "468/468 [==============================] - 88s 189ms/step - loss: 0.2160\n",
            "Epoch 44/250\n",
            "468/468 [==============================] - 89s 189ms/step - loss: 0.2149\n",
            "Epoch 45/250\n",
            "468/468 [==============================] - 89s 189ms/step - loss: 0.2142\n",
            "Epoch 46/250\n",
            "468/468 [==============================] - 89s 189ms/step - loss: 0.2132\n",
            "Epoch 47/250\n",
            "468/468 [==============================] - 89s 189ms/step - loss: 0.2121\n",
            "Epoch 48/250\n",
            "468/468 [==============================] - 89s 189ms/step - loss: 0.2111\n",
            "Epoch 49/250\n",
            "468/468 [==============================] - 89s 189ms/step - loss: 0.2102\n",
            "Epoch 50/250\n",
            "468/468 [==============================] - 88s 189ms/step - loss: 0.2092\n",
            "Epoch 51/250\n",
            "468/468 [==============================] - 89s 189ms/step - loss: 0.2084\n",
            "Epoch 52/250\n",
            "468/468 [==============================] - 89s 189ms/step - loss: 0.2072\n",
            "Epoch 53/250\n",
            "468/468 [==============================] - 89s 189ms/step - loss: 0.2063\n",
            "Epoch 54/250\n",
            "468/468 [==============================] - 89s 189ms/step - loss: 0.2054\n",
            "Epoch 55/250\n",
            "468/468 [==============================] - 89s 189ms/step - loss: 0.2042\n",
            "Epoch 56/250\n",
            " 40/468 [=>............................] - ETA: 1:21 - loss: 0.2010"
          ]
        }
      ],
      "source": [
        "history = model.fit(traindata_noisy, traindata, epochs=250, batch_size=128)"
      ]
    },
    {
      "cell_type": "code",
      "execution_count": null,
      "metadata": {
        "id": "TsUmru1ngFDr"
      },
      "outputs": [],
      "source": [
        "model.save('autoencoder_edition2_512_3.1M_shuffled_250.keras')"
      ]
    },
    {
      "cell_type": "code",
      "execution_count": null,
      "metadata": {
        "id": "rY23M1tRk8z9"
      },
      "outputs": [],
      "source": [
        "autoencoder = tf.keras.saving.load_model(\n",
        "    'autoencoder_edition2_512_3.1M_shuffled_250.keras'\n",
        ")"
      ]
    },
    {
      "cell_type": "code",
      "execution_count": 31,
      "metadata": {
        "colab": {
          "base_uri": "https://localhost:8080/"
        },
        "id": "ohJWW5uTLnYW",
        "outputId": "dc6ebf2f-331e-41b5-8e2a-1fcac2490da6"
      },
      "outputs": [
        {
          "name": "stdout",
          "output_type": "stream",
          "text": [
            "469/469 [==============================] - 3s 6ms/step\n"
          ]
        }
      ],
      "source": [
        "pred = autoencoder.predict(noisyimages)"
      ]
    },
    {
      "cell_type": "code",
      "execution_count": 26,
      "metadata": {
        "id": "lKA0c_7n4ihv"
      },
      "outputs": [],
      "source": [
        "def display(array1, array2, labels):\n",
        "    \"\"\"\n",
        "    Displays ten random images from each one of the supplied arrays.\n",
        "    \"\"\"\n",
        "\n",
        "    n = 10\n",
        "\n",
        "    indices = np.random.randint(len(array1), size=n)\n",
        "    images1 = array1[indices, :]\n",
        "    images2 = array2[indices, :]\n",
        "\n",
        "    plt.figure(figsize=(20, 4))\n",
        "    print(labels[indices])\n",
        "\n",
        "    for i, (image1, image2) in enumerate(zip(images1, images2)):\n",
        "\n",
        "        ax = plt.subplot(2, n, i + 1)\n",
        "        plt.imshow(image1.reshape(28, 28))\n",
        "        plt.gray()\n",
        "        ax.get_xaxis().set_visible(False)\n",
        "        ax.get_yaxis().set_visible(False)\n",
        "\n",
        "        ax = plt.subplot(2, n, i + 1 + n)\n",
        "        plt.imshow(image2.reshape(28, 28))\n",
        "        plt.gray()\n",
        "        ax.get_xaxis().set_visible(False)\n",
        "        ax.get_yaxis().set_visible(False)\n",
        "\n",
        "    plt.show()"
      ]
    },
    {
      "cell_type": "code",
      "execution_count": 47,
      "metadata": {
        "colab": {
          "base_uri": "https://localhost:8080/",
          "height": 242
        },
        "id": "KePXjSN74nPx",
        "outputId": "8c52e19e-be73-4946-a15c-73381928c8de"
      },
      "outputs": [
        {
          "name": "stdout",
          "output_type": "stream",
          "text": [
            "[3 6 3 1 1 0 9 2 8 0]\n"
          ]
        },
        {
          "data": {
            "image/png": "[encoded data removed]",
            "text/plain": [
              "<Figure size 2000x400 with 20 Axes>"
            ]
          },
          "metadata": {},
          "output_type": "display_data"
        }
      ],
      "source": [
        "display(noisyimages, pred, noisylabels)"
      ]
    }
  ],
  "metadata": {
    "accelerator": "GPU",
    "colab": {
      "gpuType": "T4",
      "provenance": []
    },
    "kernelspec": {
      "display_name": "Python 3",
      "name": "python3"
    },
    "language_info": {
      "name": "python"
    }
  },
  "nbformat": 4,
  "nbformat_minor": 0
}
