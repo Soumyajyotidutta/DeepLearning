{
  "nbformat": 4,
  "nbformat_minor": 0,
  "metadata": {
    "colab": {
      "provenance": []
    },
    "kernelspec": {
      "name": "python3",
      "display_name": "Python 3"
    },
    "language_info": {
      "name": "python"
    }
  },
  "cells": [
    {
      "cell_type": "markdown",
      "source": [
        "##### Answer the question: what regularization techniques were mentioned in that Jupyter notebook? { Jupyter notebook for Chapter 5 at https://github.com/fchollet/deep-learning-with-python-notebooks/blob/master/chapter05_fundamentals-of-ml.ipynb }\n",
        "\n",
        "Answer: _L1 Weight Regularization, L2 Weight Regularization, L1_L2 Weight Regularization and Dropout_"
      ],
      "metadata": {
        "id": "xISIiqsv8_C4"
      }
    },
    {
      "cell_type": "markdown",
      "source": [
        "##### Import Required Libraries"
      ],
      "metadata": {
        "id": "rVJxj_sfsWIY"
      }
    },
    {
      "cell_type": "code",
      "execution_count": 1,
      "metadata": {
        "id": "TxzIJtv986XK"
      },
      "outputs": [],
      "source": [
        "import numpy as np\n",
        "import pandas as pd\n",
        "import matplotlib.pyplot as plt\n",
        "import seaborn as sns\n",
        "import tensorflow as tf\n",
        "import keras\n",
        "from keras.utils import to_categorical, plot_model\n",
        "from tensorflow import keras\n",
        "from tensorflow.keras import layers\n",
        "from tensorflow.keras import regularizers"
      ]
    },
    {
      "cell_type": "markdown",
      "source": [
        "##### Load MNIST Dataset"
      ],
      "metadata": {
        "id": "XjuYwzXGrGTp"
      }
    },
    {
      "cell_type": "code",
      "source": [
        "(x_train, y_train), (x_test, y_test) = keras.datasets.mnist.load_data()"
      ],
      "metadata": {
        "id": "-mOIvnI9FlPL",
        "colab": {
          "base_uri": "https://localhost:8080/"
        },
        "outputId": "2e4187c8-d4c2-45b9-c230-0ba0df4b9fc9"
      },
      "execution_count": 2,
      "outputs": [
        {
          "output_type": "stream",
          "name": "stdout",
          "text": [
            "Downloading data from https://storage.googleapis.com/tensorflow/tf-keras-datasets/mnist.npz\n",
            "11490434/11490434 [==============================] - 1s 0us/step\n"
          ]
        }
      ]
    },
    {
      "cell_type": "code",
      "source": [
        "assert x_train.shape == (60000, 28, 28)\n",
        "assert x_test.shape == (10000, 28, 28)\n",
        "assert y_train.shape == (60000,)\n",
        "assert y_test.shape == (10000,)"
      ],
      "metadata": {
        "id": "7BV-HIoUFqOM"
      },
      "execution_count": 3,
      "outputs": []
    },
    {
      "cell_type": "markdown",
      "source": [
        "##### Generate Dataset Arrays w.r.t Labels and club them according to the question"
      ],
      "metadata": {
        "id": "DjDIzDRqrOvU"
      }
    },
    {
      "cell_type": "code",
      "source": [
        "train_dict = {\n",
        "    'club0': (x_train[y_train == 0], x_train[y_train == 1]),\n",
        "    'club1': (x_train[y_train == 2], x_train[y_train == 3]),\n",
        "    'club2': (x_train[y_train == 4], x_train[y_train == 5]),\n",
        "    'club3': (x_train[y_train == 6], x_train[y_train == 7]),\n",
        "    'club4': (x_train[y_train == 8], x_train[y_train == 9]),\n",
        "}\n",
        "test_dict = {\n",
        "    'club0': (x_test[y_test == 0], x_test[y_test == 1]),\n",
        "    'club1': (x_test[y_test == 2], x_test[y_test == 3]),\n",
        "    'club2': (x_test[y_test == 4], x_test[y_test == 5]),\n",
        "    'club3': (x_test[y_test == 6], x_test[y_test == 7]),\n",
        "    'club4': (x_test[y_test == 8], x_test[y_test == 9]),\n",
        "}\n",
        "keymap = {\n",
        "    0: 'club0',\n",
        "    1: 'club1',\n",
        "    2: 'club2',\n",
        "    3: 'club3',\n",
        "    4: 'club4',\n",
        "}"
      ],
      "metadata": {
        "id": "4h-KE_F7ggtB"
      },
      "execution_count": 4,
      "outputs": []
    },
    {
      "cell_type": "markdown",
      "source": [
        "##### Custom *Dataset* Builder"
      ],
      "metadata": {
        "id": "wDeVZfE3rbMp"
      }
    },
    {
      "cell_type": "code",
      "source": [
        "'''\n",
        "HELPER FUNCTIONS\n",
        "'''\n",
        "# Average Arrays\n",
        "def averageArray(array1, array2):\n",
        "\n",
        "  shape_array1 = array1.shape\n",
        "  shape_array2 = array2.shape\n",
        "\n",
        "  decided_shape = np.minimum(shape_array1[0], shape_array2[0]) # shape check\n",
        "\n",
        "\n",
        "  reshapedArray1 = array1[:decided_shape] # reshape arrays\n",
        "  reshapedArray2 = array2[:decided_shape] # reshape arrays\n",
        "\n",
        "  averagedArray = (reshapedArray1 + reshapedArray2) / 2\n",
        "\n",
        "  return averagedArray, decided_shape\n",
        "\n",
        "\n",
        "# Array Decider\n",
        "def grabArrays(dict_of_arrays: dict, idx):\n",
        "\n",
        "  return dict_of_arrays[idx][0], dict_of_arrays[idx][1]\n",
        "\n",
        "\n",
        "# Dataset Creator\n",
        "def datasetCreator(dict_of_arrays: dict, keymap: dict):\n",
        "\n",
        "  varnameReq = 'dataset_dictValues'\n",
        "  dataset = {}\n",
        "  labels = [0, 1, 2, 3, 4]\n",
        "  shapes = []\n",
        "  keymap_keys = list(keymap.keys())\n",
        "\n",
        "  for i in keymap_keys:\n",
        "\n",
        "    temp1, temp2 = grabArrays(dict_of_arrays, keymap[i])\n",
        "    print(f'Grabbed {keymap[i]} ----- Mixing Values for {keymap[i]}')\n",
        "    print('----------------------------------')\n",
        "\n",
        "    avged_array, shapevalue = averageArray(temp1, temp2)\n",
        "    print(f'Got averaged array for {keymap[i]}')\n",
        "    print('----------------------------------')\n",
        "\n",
        "    shapes.append(shapevalue)\n",
        "    dataset.update({f'club {i} avg': avged_array})\n",
        "\n",
        "  mappedLabels_withCount = dict(zip(labels, shapes))\n",
        "\n",
        "  print(\"Done\")\n",
        "\n",
        "  return dataset, mappedLabels_withCount\n",
        "\n",
        "\n",
        "# Label Generator\n",
        "def labelGenerator (shapesval_dataset: dict):\n",
        "\n",
        "  yvals = []\n",
        "\n",
        "  for index, (key, value) in enumerate(shapesval_dataset.items()):\n",
        "\n",
        "    count = (value, )\n",
        "    vals = np.full(count, key)\n",
        "\n",
        "    yvals.append(vals)\n",
        "\n",
        "  labelsarray = np.hstack((yvals[0], yvals[1], yvals[2], yvals[3], yvals[4]))\n",
        "\n",
        "  return labelsarray"
      ],
      "metadata": {
        "id": "S-UtRcxaeiQc"
      },
      "execution_count": 7,
      "outputs": []
    },
    {
      "cell_type": "markdown",
      "source": [
        "##### Custom Dataset _[Train and Test Data | Train and Test Labels]_"
      ],
      "metadata": {
        "id": "s0CF3aFNrgiQ"
      }
    },
    {
      "cell_type": "code",
      "source": [
        "trainDatasetDictX, shapes_trainDataset = datasetCreator(train_dict, keymap)\n",
        "testDatasetDictX, shapes_testDataset = datasetCreator(test_dict, keymap)\n",
        "labels_trainDataset = np.array(labelGenerator(shapes_trainDataset))\n",
        "labels_testDataset = np.array(labelGenerator(shapes_testDataset))"
      ],
      "metadata": {
        "colab": {
          "base_uri": "https://localhost:8080/"
        },
        "id": "YRQX2gytRS_3",
        "outputId": "d09c01a2-5e3f-4cc3-ab9b-e16e0ada5b18"
      },
      "execution_count": 8,
      "outputs": [
        {
          "output_type": "stream",
          "name": "stdout",
          "text": [
            "Grabbed club0 ----- Mixing Values for club0\n",
            "----------------------------------\n",
            "Got averaged array for club0\n",
            "----------------------------------\n",
            "Grabbed club1 ----- Mixing Values for club1\n",
            "----------------------------------\n",
            "Got averaged array for club1\n",
            "----------------------------------\n",
            "Grabbed club2 ----- Mixing Values for club2\n",
            "----------------------------------\n",
            "Got averaged array for club2\n",
            "----------------------------------\n",
            "Grabbed club3 ----- Mixing Values for club3\n",
            "----------------------------------\n",
            "Got averaged array for club3\n",
            "----------------------------------\n",
            "Grabbed club4 ----- Mixing Values for club4\n",
            "----------------------------------\n",
            "Got averaged array for club4\n",
            "----------------------------------\n",
            "Done\n",
            "Grabbed club0 ----- Mixing Values for club0\n",
            "----------------------------------\n",
            "Got averaged array for club0\n",
            "----------------------------------\n",
            "Grabbed club1 ----- Mixing Values for club1\n",
            "----------------------------------\n",
            "Got averaged array for club1\n",
            "----------------------------------\n",
            "Grabbed club2 ----- Mixing Values for club2\n",
            "----------------------------------\n",
            "Got averaged array for club2\n",
            "----------------------------------\n",
            "Grabbed club3 ----- Mixing Values for club3\n",
            "----------------------------------\n",
            "Got averaged array for club3\n",
            "----------------------------------\n",
            "Grabbed club4 ----- Mixing Values for club4\n",
            "----------------------------------\n",
            "Got averaged array for club4\n",
            "----------------------------------\n",
            "Done\n"
          ]
        }
      ]
    },
    {
      "cell_type": "code",
      "source": [
        "# Train\n",
        "Xtrain_final = np.vstack((trainDatasetDictX['club 0 avg'], trainDatasetDictX['club 1 avg'],\n",
        "                          trainDatasetDictX['club 2 avg'], trainDatasetDictX['club 3 avg'], trainDatasetDictX['club 4 avg']))\n",
        "\n",
        "# Test\n",
        "Xtest_final = np.vstack((testDatasetDictX['club 0 avg'], testDatasetDictX['club 1 avg'],\n",
        "                          testDatasetDictX['club 2 avg'], testDatasetDictX['club 3 avg'], testDatasetDictX['club 4 avg']))"
      ],
      "metadata": {
        "id": "ShcO_QFxpbRR"
      },
      "execution_count": 9,
      "outputs": []
    },
    {
      "cell_type": "code",
      "source": [
        "# verify counts\n",
        "print(f' LENGTHS \\n ------------- \\n Xtrain_Final length: {len(Xtrain_final)} \\n Xtest_final length: {len(Xtest_final)}')\n",
        "print(f' \\n labels_trainDataset length: {len(labels_trainDataset)} \\n labels_testDataset length: {len(labels_testDataset)}')"
      ],
      "metadata": {
        "colab": {
          "base_uri": "https://localhost:8080/"
        },
        "id": "7zVrGns-lwD-",
        "outputId": "772f8a0d-7da3-480b-a330-19399107aee7"
      },
      "execution_count": 10,
      "outputs": [
        {
          "output_type": "stream",
          "name": "stdout",
          "text": [
            " LENGTHS \n",
            " ------------- \n",
            " Xtrain_Final length: 29071 \n",
            " Xtest_final length: 4814\n",
            " \n",
            " labels_trainDataset length: 29071 \n",
            " labels_testDataset length: 4814\n"
          ]
        }
      ]
    },
    {
      "cell_type": "markdown",
      "source": [
        "##### MODEL BUILD | TRAIN | VALIDATE | TEST"
      ],
      "metadata": {
        "id": "g3s1KaM4XJVl"
      }
    },
    {
      "cell_type": "code",
      "source": [
        "from tensorflow import keras\n",
        "from tensorflow.keras import layers\n",
        "from tensorflow.keras import regularizers\n",
        "\n",
        "model = keras.Sequential([\n",
        "    layers.Dense(512, activation=\"relu\", kernel_regularizer=regularizers.l2(0.0005)),\n",
        "    layers.Dropout(0.5),\n",
        "    layers.Dense(256, activation=\"relu\"),\n",
        "    layers.Dropout(0.5),\n",
        "    layers.Dense(5, activation=\"sigmoid\")\n",
        "])"
      ],
      "metadata": {
        "id": "831dGjeuXQsL"
      },
      "execution_count": 11,
      "outputs": []
    },
    {
      "cell_type": "code",
      "source": [
        "optimizer = tf.keras.optimizers.AdamW(\n",
        "    learning_rate=0.0005,\n",
        "    weight_decay=0.004,\n",
        "    beta_1=0.9,\n",
        "    beta_2=0.999,\n",
        "    epsilon=1e-08,\n",
        "    amsgrad=False,\n",
        "    clipnorm=None,\n",
        "    clipvalue=None,\n",
        "    global_clipnorm=None,\n",
        "    use_ema=False,\n",
        "    ema_momentum=0.99,\n",
        "    ema_overwrite_frequency=None,\n",
        "    jit_compile=True,\n",
        "    name=\"AdamW\",\n",
        ")"
      ],
      "metadata": {
        "id": "jW2X0QchXegK"
      },
      "execution_count": 12,
      "outputs": []
    },
    {
      "cell_type": "code",
      "source": [
        "model.compile(optimizer=optimizer,\n",
        "              loss=\"categorical_crossentropy\",\n",
        "              metrics=[\"accuracy\"])"
      ],
      "metadata": {
        "id": "DhRSMeBaXhcw"
      },
      "execution_count": 13,
      "outputs": []
    },
    {
      "cell_type": "code",
      "source": [
        "# training set | validation set >> Random Selection\n",
        "from sklearn.model_selection import train_test_split\n",
        "\n",
        "X, y = Xtrain_final, labels_trainDataset\n",
        "validation_split = 0.2\n",
        "X_train_model, X_val_model, y_train_model, y_val_model = train_test_split(X, y, test_size=validation_split, random_state=42)"
      ],
      "metadata": {
        "id": "JDFG-YDHX1CR"
      },
      "execution_count": 14,
      "outputs": []
    },
    {
      "cell_type": "code",
      "source": [
        "# reshape images to 1D arrays\n",
        "\n",
        "image_size = X_train_model.shape[1]\n",
        "input_size = image_size * image_size\n",
        "print(input_size)\n",
        "\n",
        "X_train_model = np.reshape(X_train_model, [-1, input_size])\n",
        "X_train_model = X_train_model.astype('float32') / 255\n",
        "\n",
        "X_val_model = np.reshape(X_val_model, [-1, input_size])\n",
        "X_val_model = X_val_model.astype('float32') / 255\n",
        "\n",
        "X_test_model = np.reshape(Xtest_final, [-1, input_size])\n",
        "X_test_model = X_test_model.astype('float32') / 255"
      ],
      "metadata": {
        "colab": {
          "base_uri": "https://localhost:8080/"
        },
        "id": "Cs_vvZndaAZ3",
        "outputId": "137898ad-39f9-49a5-db9b-60ba9dbb5c64"
      },
      "execution_count": 15,
      "outputs": [
        {
          "output_type": "stream",
          "name": "stdout",
          "text": [
            "784\n"
          ]
        }
      ]
    },
    {
      "cell_type": "code",
      "source": [
        "X_train_model.shape"
      ],
      "metadata": {
        "colab": {
          "base_uri": "https://localhost:8080/"
        },
        "id": "YbyzAyK9ZcVq",
        "outputId": "0baff8ad-c4b8-4d61-b6cc-1ae84966518a"
      },
      "execution_count": 16,
      "outputs": [
        {
          "output_type": "execute_result",
          "data": {
            "text/plain": [
              "(23256, 784)"
            ]
          },
          "metadata": {},
          "execution_count": 16
        }
      ]
    },
    {
      "cell_type": "code",
      "source": [
        "y_train_model = tf.one_hot(y_train_model, depth=5)\n",
        "y_val_model = tf.one_hot(y_val_model, depth=5)\n",
        "y_test_model = tf.one_hot(labels_testDataset, depth=5)"
      ],
      "metadata": {
        "id": "hX5zR5xzcDpz"
      },
      "execution_count": 17,
      "outputs": []
    },
    {
      "cell_type": "code",
      "source": [
        "y_train_model.shape"
      ],
      "metadata": {
        "colab": {
          "base_uri": "https://localhost:8080/"
        },
        "id": "09wdQKnSZlS3",
        "outputId": "1798c666-3d01-40c3-b946-3c88bd3b0f4c"
      },
      "execution_count": 18,
      "outputs": [
        {
          "output_type": "execute_result",
          "data": {
            "text/plain": [
              "TensorShape([23256, 5])"
            ]
          },
          "metadata": {},
          "execution_count": 18
        }
      ]
    },
    {
      "cell_type": "code",
      "source": [
        "history = model.fit(X_train_model,\n",
        "                    y_train_model,\n",
        "                    epochs=17,\n",
        "                    batch_size=256,\n",
        "                    validation_data=(X_val_model, y_val_model))"
      ],
      "metadata": {
        "colab": {
          "base_uri": "https://localhost:8080/"
        },
        "id": "ruwEZDmuYdyu",
        "outputId": "7523d150-eeec-4626-8f08-1b83ca9e95b4"
      },
      "execution_count": 19,
      "outputs": [
        {
          "output_type": "stream",
          "name": "stdout",
          "text": [
            "Epoch 1/17\n",
            "91/91 [==============================] - 13s 75ms/step - loss: 0.8862 - accuracy: 0.7676 - val_loss: 0.4406 - val_accuracy: 0.9157\n",
            "Epoch 2/17\n",
            "91/91 [==============================] - 7s 78ms/step - loss: 0.4420 - accuracy: 0.9088 - val_loss: 0.3723 - val_accuracy: 0.9309\n",
            "Epoch 3/17\n",
            "91/91 [==============================] - 6s 64ms/step - loss: 0.3685 - accuracy: 0.9267 - val_loss: 0.3323 - val_accuracy: 0.9377\n",
            "Epoch 4/17\n",
            "91/91 [==============================] - 6s 64ms/step - loss: 0.3245 - accuracy: 0.9379 - val_loss: 0.3049 - val_accuracy: 0.9433\n",
            "Epoch 5/17\n",
            "91/91 [==============================] - 4s 41ms/step - loss: 0.2927 - accuracy: 0.9456 - val_loss: 0.2811 - val_accuracy: 0.9474\n",
            "Epoch 6/17\n",
            "91/91 [==============================] - 2s 25ms/step - loss: 0.2678 - accuracy: 0.9497 - val_loss: 0.2621 - val_accuracy: 0.9525\n",
            "Epoch 7/17\n",
            "91/91 [==============================] - 2s 27ms/step - loss: 0.2478 - accuracy: 0.9552 - val_loss: 0.2493 - val_accuracy: 0.9513\n",
            "Epoch 8/17\n",
            "91/91 [==============================] - 3s 37ms/step - loss: 0.2311 - accuracy: 0.9579 - val_loss: 0.2390 - val_accuracy: 0.9537\n",
            "Epoch 9/17\n",
            "91/91 [==============================] - 2s 25ms/step - loss: 0.2171 - accuracy: 0.9621 - val_loss: 0.2283 - val_accuracy: 0.9580\n",
            "Epoch 10/17\n",
            "91/91 [==============================] - 2s 25ms/step - loss: 0.2043 - accuracy: 0.9650 - val_loss: 0.2299 - val_accuracy: 0.9546\n",
            "Epoch 11/17\n",
            "91/91 [==============================] - 2s 25ms/step - loss: 0.1880 - accuracy: 0.9679 - val_loss: 0.2127 - val_accuracy: 0.9592\n",
            "Epoch 12/17\n",
            "91/91 [==============================] - 2s 27ms/step - loss: 0.1779 - accuracy: 0.9697 - val_loss: 0.2132 - val_accuracy: 0.9582\n",
            "Epoch 13/17\n",
            "91/91 [==============================] - 4s 39ms/step - loss: 0.1683 - accuracy: 0.9719 - val_loss: 0.2056 - val_accuracy: 0.9618\n",
            "Epoch 14/17\n",
            "91/91 [==============================] - 2s 27ms/step - loss: 0.1581 - accuracy: 0.9755 - val_loss: 0.1940 - val_accuracy: 0.9618\n",
            "Epoch 15/17\n",
            "91/91 [==============================] - 2s 26ms/step - loss: 0.1472 - accuracy: 0.9770 - val_loss: 0.1937 - val_accuracy: 0.9625\n",
            "Epoch 16/17\n",
            "91/91 [==============================] - 2s 27ms/step - loss: 0.1429 - accuracy: 0.9779 - val_loss: 0.2086 - val_accuracy: 0.9568\n",
            "Epoch 17/17\n",
            "91/91 [==============================] - 2s 25ms/step - loss: 0.1385 - accuracy: 0.9789 - val_loss: 0.1834 - val_accuracy: 0.9639\n"
          ]
        }
      ]
    },
    {
      "cell_type": "code",
      "source": [
        "model.summary()"
      ],
      "metadata": {
        "colab": {
          "base_uri": "https://localhost:8080/"
        },
        "id": "LjElONi_lL2C",
        "outputId": "89a17926-80e3-4e6b-d0e8-a2b642dee2e2"
      },
      "execution_count": 20,
      "outputs": [
        {
          "output_type": "stream",
          "name": "stdout",
          "text": [
            "Model: \"sequential\"\n",
            "_________________________________________________________________\n",
            " Layer (type)                Output Shape              Param #   \n",
            "=================================================================\n",
            " dense (Dense)               (None, 512)               401920    \n",
            "                                                                 \n",
            " dropout (Dropout)           (None, 512)               0         \n",
            "                                                                 \n",
            " dense_1 (Dense)             (None, 256)               131328    \n",
            "                                                                 \n",
            " dropout_1 (Dropout)         (None, 256)               0         \n",
            "                                                                 \n",
            " dense_2 (Dense)             (None, 5)                 1285      \n",
            "                                                                 \n",
            "=================================================================\n",
            "Total params: 534533 (2.04 MB)\n",
            "Trainable params: 534533 (2.04 MB)\n",
            "Non-trainable params: 0 (0.00 Byte)\n",
            "_________________________________________________________________\n"
          ]
        }
      ]
    },
    {
      "cell_type": "code",
      "source": [
        "plot_model(model, to_file='mnist-customData.png', show_shapes=True)"
      ],
      "metadata": {
        "colab": {
          "base_uri": "https://localhost:8080/",
          "height": 644
        },
        "id": "tkwZ7e_UlMUu",
        "outputId": "3a72e1c6-891e-4ec3-dd84-5d88da9a96f2"
      },
      "execution_count": 21,
      "outputs": [
        {
          "output_type": "execute_result",
          "data": {
            "image/png": "[encoded data removed]",
            "text/plain": [
              "<IPython.core.display.Image object>"
            ]
          },
          "metadata": {},
          "execution_count": 21
        }
      ]
    },
    {
      "cell_type": "code",
      "execution_count": 22,
      "metadata": {
        "id": "ndXwbFuS7NoP",
        "colab": {
          "base_uri": "https://localhost:8080/"
        },
        "outputId": "f8e92310-a3f5-40e0-8f95-ce145afcbe7d"
      },
      "outputs": [
        {
          "output_type": "execute_result",
          "data": {
            "text/plain": [
              "dict_keys(['loss', 'accuracy', 'val_loss', 'val_accuracy'])"
            ]
          },
          "metadata": {},
          "execution_count": 22
        }
      ],
      "source": [
        "history_dict = history.history\n",
        "history_dict.keys()"
      ]
    },
    {
      "cell_type": "code",
      "execution_count": 23,
      "metadata": {
        "colab": {
          "base_uri": "https://localhost:8080/",
          "height": 472
        },
        "id": "P7e72d1C7NoP",
        "outputId": "bee920f3-6f0d-470f-e785-afd129539737"
      },
      "outputs": [
        {
          "output_type": "display_data",
          "data": {
            "text/plain": [
              "<Figure size 640x480 with 1 Axes>"
            ],
            "image/png": "[encoded data removed]"
          },
          "metadata": {}
        }
      ],
      "source": [
        "history_dict = history.history\n",
        "loss_values = history_dict[\"loss\"]\n",
        "val_loss_values = history_dict[\"val_loss\"]\n",
        "epochs = range(1, len(loss_values) + 1)\n",
        "plt.plot(epochs, loss_values, \"bo\", label=\"Training loss\")\n",
        "plt.plot(epochs, val_loss_values, \"b\", label=\"Validation loss\")\n",
        "plt.title(\"Training and validation loss\")\n",
        "plt.xlabel(\"Epochs\")\n",
        "plt.ylabel(\"Loss\")\n",
        "plt.legend()\n",
        "plt.show()"
      ]
    },
    {
      "cell_type": "code",
      "execution_count": 24,
      "metadata": {
        "scrolled": true,
        "colab": {
          "base_uri": "https://localhost:8080/",
          "height": 472
        },
        "id": "Gt-1Xbpt7NoP",
        "outputId": "efe4b3e2-c483-4f1d-c1d2-287c377548f1"
      },
      "outputs": [
        {
          "output_type": "display_data",
          "data": {
            "text/plain": [
              "<Figure size 640x480 with 1 Axes>"
            ],
            "image/png": "[encoded data removed]"
          },
          "metadata": {}
        }
      ],
      "source": [
        "plt.clf()\n",
        "acc = history_dict[\"accuracy\"]\n",
        "val_acc = history_dict[\"val_accuracy\"]\n",
        "plt.plot(epochs, acc, \"bo\", label=\"Training acc\")\n",
        "plt.plot(epochs, val_acc, \"b\", label=\"Validation acc\")\n",
        "plt.title(\"Training and validation accuracy\")\n",
        "plt.xlabel(\"Epochs\")\n",
        "plt.ylabel(\"Accuracy\")\n",
        "plt.legend()\n",
        "plt.show()"
      ]
    },
    {
      "cell_type": "code",
      "source": [
        "test_loss, test_acc = model.evaluate(X_test_model, y_test_model)\n",
        "print(f\"test accuracy: {test_acc} \\ntest loss: {test_loss}\")"
      ],
      "metadata": {
        "colab": {
          "base_uri": "https://localhost:8080/"
        },
        "id": "kMUBkEYRmLLY",
        "outputId": "cbe8702f-d3a7-4b23-eb4d-da5b9a25a7f9"
      },
      "execution_count": 28,
      "outputs": [
        {
          "output_type": "stream",
          "name": "stdout",
          "text": [
            "151/151 [==============================] - 1s 9ms/step - loss: 0.1712 - accuracy: 0.9670\n",
            "test accuracy: 0.9669713377952576 \n",
            "test loss: 0.171188622713089\n"
          ]
        }
      ]
    },
    {
      "cell_type": "markdown",
      "source": [
        "QUESTION: For your final (namely, optimized) neural network model, submit its code, and show the model's performance (including loss value and accuracy) for training, validation and testing. (For training performance and validation performance, illustrate them using figures, where the x-axis is the number of training epochs, and the y-axis is the loss or accuracy. For testing performance, just show the values of loss and accuracy.) Also, answer the questions: in this process of optimizing your model, did you observe underfitting? Did you observe overfitting? Did you try the reguliazation techniques? Did they help?"
      ],
      "metadata": {
        "id": "qaWL2mugtmFG"
      }
    },
    {
      "cell_type": "markdown",
      "source": [
        "*ANSWER: Indeed I observed both underfitting and overfitting {Overfitting when I didn't use any droput layer or regularization techniques | Underfitting when I put regularizers (L2) for all of my layers}*\n",
        "\n",
        "*Interestingly for one iteration of this experiment I got the best results of 98.XY% train accuracy and ~98% (97.XY) test accuracy and I didn't use the anything except for dropout layers. But I was unable to replicate that performance again (I wonder if this is because of the sklearn random train-test split.)*\n",
        "\n",
        "*Although the code I presented here is the one consistently gives 96.5 - 97% test accuracy. So I think this is a good optimal choice. To summarize L2 regularization helped a little bit but for my experiment I can say dropout was important {else overfit}*\n",
        "\n",
        "**[ I would appreciate if you had any suggestions to increase the accuracy or what you think an optimal architecture for reproducable nn ]**"
      ],
      "metadata": {
        "id": "4ttDltdst2_w"
      }
    }
  ]
}