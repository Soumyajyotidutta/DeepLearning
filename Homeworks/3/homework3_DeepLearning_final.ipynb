{
  "nbformat": 4,
  "nbformat_minor": 0,
  "metadata": {
    "colab": {
      "provenance": []
    },
    "kernelspec": {
      "name": "python3",
      "display_name": "Python 3"
    },
    "language_info": {
      "name": "python"
    }
  },
  "cells": [
    {
      "cell_type": "markdown",
      "source": [
        "##### Answer the question: what regularization techniques were mentioned in that Jupyter notebook? { Jupyter notebook for Chapter 5 at https://github.com/fchollet/deep-learning-with-python-notebooks/blob/master/chapter05_fundamentals-of-ml.ipynb }\n",
        "\n",
        "Answer: _L1 Weight Regularization, L2 Weight Regularization, L1_L2 Weight Regularization and Dropout_"
      ],
      "metadata": {
        "id": "xISIiqsv8_C4"
      }
    },
    {
      "cell_type": "markdown",
      "source": [
        "##### Import Required Libraries"
      ],
      "metadata": {
        "id": "rVJxj_sfsWIY"
      }
    },
    {
      "cell_type": "code",
      "execution_count": 2,
      "metadata": {
        "id": "TxzIJtv986XK"
      },
      "outputs": [],
      "source": [
        "import numpy as np\n",
        "import pandas as pd\n",
        "import matplotlib.pyplot as plt\n",
        "import seaborn as sns\n",
        "import tensorflow as tf\n",
        "import keras\n",
        "from keras.utils import to_categorical, plot_model\n",
        "from tensorflow import keras\n",
        "from tensorflow.keras import layers\n",
        "from tensorflow.keras import regularizers"
      ]
    },
    {
      "cell_type": "markdown",
      "source": [
        "##### Load MNIST Dataset"
      ],
      "metadata": {
        "id": "XjuYwzXGrGTp"
      }
    },
    {
      "cell_type": "code",
      "source": [
        "(x_train, y_train), (x_test, y_test) = keras.datasets.mnist.load_data()"
      ],
      "metadata": {
        "id": "-mOIvnI9FlPL",
        "colab": {
          "base_uri": "https://localhost:8080/"
        },
        "outputId": "bcb16d2c-f5d6-4034-ffdc-3037aa951ec2"
      },
      "execution_count": 3,
      "outputs": [
        {
          "output_type": "stream",
          "name": "stdout",
          "text": [
            "Downloading data from https://storage.googleapis.com/tensorflow/tf-keras-datasets/mnist.npz\n",
            "11490434/11490434 [==============================] - 0s 0us/step\n"
          ]
        }
      ]
    },
    {
      "cell_type": "code",
      "source": [
        "assert x_train.shape == (60000, 28, 28)\n",
        "assert x_test.shape == (10000, 28, 28)\n",
        "assert y_train.shape == (60000,)\n",
        "assert y_test.shape == (10000,)"
      ],
      "metadata": {
        "id": "7BV-HIoUFqOM"
      },
      "execution_count": 4,
      "outputs": []
    },
    {
      "cell_type": "markdown",
      "source": [
        "##### Generate Dataset Arrays w.r.t Labels and club them according to the question"
      ],
      "metadata": {
        "id": "DjDIzDRqrOvU"
      }
    },
    {
      "cell_type": "code",
      "source": [
        "train_dict = {\n",
        "    'club0': (x_train[y_train == 0], x_train[y_train == 1]),\n",
        "    'club1': (x_train[y_train == 2], x_train[y_train == 3]),\n",
        "    'club2': (x_train[y_train == 4], x_train[y_train == 5]),\n",
        "    'club3': (x_train[y_train == 6], x_train[y_train == 7]),\n",
        "    'club4': (x_train[y_train == 8], x_train[y_train == 9]),\n",
        "}\n",
        "test_dict = {\n",
        "    'club0': (x_test[y_test == 0], x_test[y_test == 1]),\n",
        "    'club1': (x_test[y_test == 2], x_test[y_test == 3]),\n",
        "    'club2': (x_test[y_test == 4], x_test[y_test == 5]),\n",
        "    'club3': (x_test[y_test == 6], x_test[y_test == 7]),\n",
        "    'club4': (x_test[y_test == 8], x_test[y_test == 9]),\n",
        "}\n",
        "keymap = {\n",
        "    0: 'club0',\n",
        "    1: 'club1',\n",
        "    2: 'club2',\n",
        "    3: 'club3',\n",
        "    4: 'club4',\n",
        "}"
      ],
      "metadata": {
        "id": "4h-KE_F7ggtB"
      },
      "execution_count": 5,
      "outputs": []
    },
    {
      "cell_type": "markdown",
      "source": [
        "##### Custom *Dataset* Builder"
      ],
      "metadata": {
        "id": "wDeVZfE3rbMp"
      }
    },
    {
      "cell_type": "code",
      "source": [
        "'''\n",
        "HELPER FUNCTIONS\n",
        "'''\n",
        "# Average Arrays\n",
        "def averageArray(array1, array2):\n",
        "\n",
        "  shape_array1 = array1.shape\n",
        "  shape_array2 = array2.shape\n",
        "\n",
        "  decided_shape = np.minimum(shape_array1[0], shape_array2[0]) # shape check\n",
        "\n",
        "\n",
        "  reshapedArray1 = array1[:decided_shape] # reshape arrays\n",
        "  reshapedArray2 = array2[:decided_shape] # reshape arrays\n",
        "\n",
        "  averagedArray = (reshapedArray1 + reshapedArray2) / 2\n",
        "\n",
        "  return averagedArray, decided_shape\n",
        "\n",
        "\n",
        "# Array Decider\n",
        "def grabArrays(dict_of_arrays: dict, idx):\n",
        "\n",
        "  return dict_of_arrays[idx][0], dict_of_arrays[idx][1]\n",
        "\n",
        "\n",
        "# Dataset Creator\n",
        "def datasetCreator(dict_of_arrays: dict, keymap: dict):\n",
        "\n",
        "  varnameReq = 'dataset_dictValues'\n",
        "  dataset = {}\n",
        "  labels = [0, 1, 2, 3, 4]\n",
        "  shapes = []\n",
        "  keymap_keys = list(keymap.keys())\n",
        "\n",
        "  for i in keymap_keys:\n",
        "\n",
        "    temp1, temp2 = grabArrays(dict_of_arrays, keymap[i])\n",
        "    print(f'Grabbed {keymap[i]} ----- Mixing Values for {keymap[i]}')\n",
        "    print('----------------------------------')\n",
        "\n",
        "    avged_array, shapevalue = averageArray(temp1, temp2)\n",
        "    print(f'Got averaged array for {keymap[i]}')\n",
        "    print('----------------------------------')\n",
        "\n",
        "    shapes.append(shapevalue)\n",
        "    dataset.update({f'club {i} avg': avged_array})\n",
        "\n",
        "  mappedLabels_withCount = dict(zip(labels, shapes))\n",
        "\n",
        "  print(\"Done\")\n",
        "\n",
        "  return dataset, mappedLabels_withCount\n",
        "\n",
        "\n",
        "# Label Generator\n",
        "def labelGenerator (shapesval_dataset: dict):\n",
        "\n",
        "  yvals = []\n",
        "\n",
        "  for index, (key, value) in enumerate(shapesval_dataset.items()):\n",
        "\n",
        "    count = (value, )\n",
        "    vals = np.full(count, key)\n",
        "\n",
        "    yvals.append(vals)\n",
        "\n",
        "  labelsarray = np.hstack((yvals[0], yvals[1], yvals[2], yvals[3], yvals[4]))\n",
        "\n",
        "  return labelsarray"
      ],
      "metadata": {
        "id": "S-UtRcxaeiQc"
      },
      "execution_count": 6,
      "outputs": []
    },
    {
      "cell_type": "markdown",
      "source": [
        "##### Custom Dataset _[Train and Test Data | Train and Test Labels]_"
      ],
      "metadata": {
        "id": "s0CF3aFNrgiQ"
      }
    },
    {
      "cell_type": "code",
      "source": [
        "trainDatasetDictX, shapes_trainDataset = datasetCreator(train_dict, keymap)\n",
        "testDatasetDictX, shapes_testDataset = datasetCreator(test_dict, keymap)\n",
        "labels_trainDataset = np.array(labelGenerator(shapes_trainDataset))\n",
        "labels_testDataset = np.array(labelGenerator(shapes_testDataset))"
      ],
      "metadata": {
        "colab": {
          "base_uri": "https://localhost:8080/"
        },
        "id": "YRQX2gytRS_3",
        "outputId": "1e15cf3e-8039-40b6-daf8-534c90d61e7e"
      },
      "execution_count": 7,
      "outputs": [
        {
          "output_type": "stream",
          "name": "stdout",
          "text": [
            "Grabbed club0 ----- Mixing Values for club0\n",
            "----------------------------------\n",
            "Got averaged array for club0\n",
            "----------------------------------\n",
            "Grabbed club1 ----- Mixing Values for club1\n",
            "----------------------------------\n",
            "Got averaged array for club1\n",
            "----------------------------------\n",
            "Grabbed club2 ----- Mixing Values for club2\n",
            "----------------------------------\n",
            "Got averaged array for club2\n",
            "----------------------------------\n",
            "Grabbed club3 ----- Mixing Values for club3\n",
            "----------------------------------\n",
            "Got averaged array for club3\n",
            "----------------------------------\n",
            "Grabbed club4 ----- Mixing Values for club4\n",
            "----------------------------------\n",
            "Got averaged array for club4\n",
            "----------------------------------\n",
            "Done\n",
            "Grabbed club0 ----- Mixing Values for club0\n",
            "----------------------------------\n",
            "Got averaged array for club0\n",
            "----------------------------------\n",
            "Grabbed club1 ----- Mixing Values for club1\n",
            "----------------------------------\n",
            "Got averaged array for club1\n",
            "----------------------------------\n",
            "Grabbed club2 ----- Mixing Values for club2\n",
            "----------------------------------\n",
            "Got averaged array for club2\n",
            "----------------------------------\n",
            "Grabbed club3 ----- Mixing Values for club3\n",
            "----------------------------------\n",
            "Got averaged array for club3\n",
            "----------------------------------\n",
            "Grabbed club4 ----- Mixing Values for club4\n",
            "----------------------------------\n",
            "Got averaged array for club4\n",
            "----------------------------------\n",
            "Done\n"
          ]
        }
      ]
    },
    {
      "cell_type": "code",
      "source": [
        "# Train\n",
        "Xtrain_final = np.vstack((trainDatasetDictX['club 0 avg'], trainDatasetDictX['club 1 avg'],\n",
        "                          trainDatasetDictX['club 2 avg'], trainDatasetDictX['club 3 avg'], trainDatasetDictX['club 4 avg']))\n",
        "\n",
        "# Test\n",
        "Xtest_final = np.vstack((testDatasetDictX['club 0 avg'], testDatasetDictX['club 1 avg'],\n",
        "                          testDatasetDictX['club 2 avg'], testDatasetDictX['club 3 avg'], testDatasetDictX['club 4 avg']))"
      ],
      "metadata": {
        "id": "ShcO_QFxpbRR"
      },
      "execution_count": 8,
      "outputs": []
    },
    {
      "cell_type": "code",
      "source": [
        "print('Combination of 0 and 1')\n",
        "plt.imshow(trainDatasetDictX['club 0 avg'][0])"
      ],
      "metadata": {
        "colab": {
          "base_uri": "https://localhost:8080/",
          "height": 466
        },
        "id": "xtSnqe3RSsWz",
        "outputId": "e431cb5d-601c-4397-bccd-e72df513d715"
      },
      "execution_count": 30,
      "outputs": [
        {
          "output_type": "stream",
          "name": "stdout",
          "text": [
            "Combination of 0 and 1\n"
          ]
        },
        {
          "output_type": "execute_result",
          "data": {
            "text/plain": [
              "<matplotlib.image.AxesImage at 0x7b5a0a062aa0>"
            ]
          },
          "metadata": {},
          "execution_count": 30
        },
        {
          "output_type": "display_data",
          "data": {
            "text/plain": [
              "<Figure size 640x480 with 1 Axes>"
            ],
            "image/png": "[encoded data removed]"
          },
          "metadata": {}
        }
      ]
    },
    {
      "cell_type": "code",
      "source": [
        "print('Combination of 2 and 3')\n",
        "plt.imshow(trainDatasetDictX['club 1 avg'][0])"
      ],
      "metadata": {
        "colab": {
          "base_uri": "https://localhost:8080/",
          "height": 466
        },
        "id": "A9fktP7M5f2L",
        "outputId": "79e0a93e-4418-4b07-f108-1f9e2f4493b4"
      },
      "execution_count": 10,
      "outputs": [
        {
          "output_type": "stream",
          "name": "stdout",
          "text": [
            "Combination of 2 and 3\n"
          ]
        },
        {
          "output_type": "execute_result",
          "data": {
            "text/plain": [
              "<matplotlib.image.AxesImage at 0x7b5a28728970>"
            ]
          },
          "metadata": {},
          "execution_count": 10
        },
        {
          "output_type": "display_data",
          "data": {
            "text/plain": [
              "<Figure size 640x480 with 1 Axes>"
            ],
            "image/png": "[encoded data removed]"
          },
          "metadata": {}
        }
      ]
    },
    {
      "cell_type": "code",
      "source": [
        "print('Combination of 4 and 5')\n",
        "plt.imshow(trainDatasetDictX['club 2 avg'][0])"
      ],
      "metadata": {
        "colab": {
          "base_uri": "https://localhost:8080/",
          "height": 466
        },
        "id": "BE3H9IXR57Bw",
        "outputId": "e5990e8f-6397-47e5-af50-08b169d89986"
      },
      "execution_count": 11,
      "outputs": [
        {
          "output_type": "stream",
          "name": "stdout",
          "text": [
            "Combination of 4 and 5\n"
          ]
        },
        {
          "output_type": "execute_result",
          "data": {
            "text/plain": [
              "<matplotlib.image.AxesImage at 0x7b5a28795b40>"
            ]
          },
          "metadata": {},
          "execution_count": 11
        },
        {
          "output_type": "display_data",
          "data": {
            "text/plain": [
              "<Figure size 640x480 with 1 Axes>"
            ],
            "image/png": "[encoded data removed]"
          },
          "metadata": {}
        }
      ]
    },
    {
      "cell_type": "code",
      "source": [
        "print('Combination of 6 and 7')\n",
        "plt.imshow(trainDatasetDictX['club 3 avg'][0])"
      ],
      "metadata": {
        "colab": {
          "base_uri": "https://localhost:8080/",
          "height": 466
        },
        "id": "kDhpJTWn6BQt",
        "outputId": "8bfee53f-172b-4353-8035-c49e81165375"
      },
      "execution_count": 12,
      "outputs": [
        {
          "output_type": "stream",
          "name": "stdout",
          "text": [
            "Combination of 6 and 7\n"
          ]
        },
        {
          "output_type": "execute_result",
          "data": {
            "text/plain": [
              "<matplotlib.image.AxesImage at 0x7b5a28612b30>"
            ]
          },
          "metadata": {},
          "execution_count": 12
        },
        {
          "output_type": "display_data",
          "data": {
            "text/plain": [
              "<Figure size 640x480 with 1 Axes>"
            ],
            "image/png": "[encoded data removed]"
          },
          "metadata": {}
        }
      ]
    },
    {
      "cell_type": "code",
      "source": [
        "print('Combination of 8 and 9')\n",
        "plt.imshow(trainDatasetDictX['club 4 avg'][0])"
      ],
      "metadata": {
        "colab": {
          "base_uri": "https://localhost:8080/",
          "height": 466
        },
        "id": "1rdCPM6h6Jja",
        "outputId": "06048516-79fa-45c1-de25-f1a83e4294c4"
      },
      "execution_count": 13,
      "outputs": [
        {
          "output_type": "stream",
          "name": "stdout",
          "text": [
            "Combination of 8 and 9\n"
          ]
        },
        {
          "output_type": "execute_result",
          "data": {
            "text/plain": [
              "<matplotlib.image.AxesImage at 0x7b5a28679f90>"
            ]
          },
          "metadata": {},
          "execution_count": 13
        },
        {
          "output_type": "display_data",
          "data": {
            "text/plain": [
              "<Figure size 640x480 with 1 Axes>"
            ],
            "image/png": "[encoded data removed]"
          },
          "metadata": {}
        }
      ]
    },
    {
      "cell_type": "code",
      "source": [
        "# verify counts\n",
        "print(f' LENGTHS \\n ------------- \\n Xtrain_Final length: {len(Xtrain_final)} \\n Xtest_final length: {len(Xtest_final)}')\n",
        "print(f' \\n labels_trainDataset length: {len(labels_trainDataset)} \\n labels_testDataset length: {len(labels_testDataset)}')"
      ],
      "metadata": {
        "colab": {
          "base_uri": "https://localhost:8080/"
        },
        "id": "7zVrGns-lwD-",
        "outputId": "41c177ad-2e64-4a6f-8dbf-431d3bc0d5d7"
      },
      "execution_count": 14,
      "outputs": [
        {
          "output_type": "stream",
          "name": "stdout",
          "text": [
            " LENGTHS \n",
            " ------------- \n",
            " Xtrain_Final length: 29071 \n",
            " Xtest_final length: 4814\n",
            " \n",
            " labels_trainDataset length: 29071 \n",
            " labels_testDataset length: 4814\n"
          ]
        }
      ]
    },
    {
      "cell_type": "markdown",
      "source": [
        "##### MODEL BUILD | TRAIN | VALIDATE | TEST"
      ],
      "metadata": {
        "id": "g3s1KaM4XJVl"
      }
    },
    {
      "cell_type": "code",
      "source": [
        "from tensorflow import keras\n",
        "from tensorflow.keras import layers\n",
        "from tensorflow.keras import regularizers\n",
        "\n",
        "model = keras.Sequential([\n",
        "    layers.Dense(512, activation=\"relu\", kernel_regularizer=regularizers.l2(0.0005)),\n",
        "    layers.Dropout(0.5),\n",
        "    layers.Dense(256, activation=\"relu\"),\n",
        "    layers.Dropout(0.5),\n",
        "    layers.Dense(5, activation=\"sigmoid\")\n",
        "])"
      ],
      "metadata": {
        "id": "831dGjeuXQsL"
      },
      "execution_count": 15,
      "outputs": []
    },
    {
      "cell_type": "code",
      "source": [
        "optimizer = tf.keras.optimizers.AdamW(\n",
        "    learning_rate=0.0005,\n",
        "    weight_decay=0.004,\n",
        "    beta_1=0.9,\n",
        "    beta_2=0.999,\n",
        "    epsilon=1e-08,\n",
        "    amsgrad=False,\n",
        "    clipnorm=None,\n",
        "    clipvalue=None,\n",
        "    global_clipnorm=None,\n",
        "    use_ema=False,\n",
        "    ema_momentum=0.99,\n",
        "    ema_overwrite_frequency=None,\n",
        "    jit_compile=True,\n",
        "    name=\"AdamW\",\n",
        ")"
      ],
      "metadata": {
        "id": "jW2X0QchXegK"
      },
      "execution_count": 16,
      "outputs": []
    },
    {
      "cell_type": "code",
      "source": [
        "model.compile(optimizer=optimizer,\n",
        "              loss=\"categorical_crossentropy\",\n",
        "              metrics=[\"accuracy\"])"
      ],
      "metadata": {
        "id": "DhRSMeBaXhcw"
      },
      "execution_count": 17,
      "outputs": []
    },
    {
      "cell_type": "code",
      "source": [
        "# training set | validation set >> Random Selection\n",
        "from sklearn.model_selection import train_test_split\n",
        "\n",
        "X, y = Xtrain_final, labels_trainDataset\n",
        "validation_split = 0.2\n",
        "X_train_model, X_val_model, y_train_model, y_val_model = train_test_split(X, y, test_size=validation_split, random_state=42)"
      ],
      "metadata": {
        "id": "JDFG-YDHX1CR"
      },
      "execution_count": 18,
      "outputs": []
    },
    {
      "cell_type": "code",
      "source": [
        "# reshape images to 1D arrays\n",
        "\n",
        "image_size = X_train_model.shape[1]\n",
        "input_size = image_size * image_size\n",
        "print(input_size)\n",
        "\n",
        "X_train_model = np.reshape(X_train_model, [-1, input_size])\n",
        "X_train_model = X_train_model.astype('float32') / 255\n",
        "\n",
        "X_val_model = np.reshape(X_val_model, [-1, input_size])\n",
        "X_val_model = X_val_model.astype('float32') / 255\n",
        "\n",
        "X_test_model = np.reshape(Xtest_final, [-1, input_size])\n",
        "X_test_model = X_test_model.astype('float32') / 255"
      ],
      "metadata": {
        "colab": {
          "base_uri": "https://localhost:8080/"
        },
        "id": "Cs_vvZndaAZ3",
        "outputId": "42d22e43-c575-4137-9575-54e3f288a39b"
      },
      "execution_count": 19,
      "outputs": [
        {
          "output_type": "stream",
          "name": "stdout",
          "text": [
            "784\n"
          ]
        }
      ]
    },
    {
      "cell_type": "code",
      "source": [
        "X_train_model.shape"
      ],
      "metadata": {
        "colab": {
          "base_uri": "https://localhost:8080/"
        },
        "id": "YbyzAyK9ZcVq",
        "outputId": "d9a9b377-fd64-413b-cb68-a9cad3b2f200"
      },
      "execution_count": 20,
      "outputs": [
        {
          "output_type": "execute_result",
          "data": {
            "text/plain": [
              "(23256, 784)"
            ]
          },
          "metadata": {},
          "execution_count": 20
        }
      ]
    },
    {
      "cell_type": "code",
      "source": [
        "y_train_model = tf.one_hot(y_train_model, depth=5)\n",
        "y_val_model = tf.one_hot(y_val_model, depth=5)\n",
        "y_test_model = tf.one_hot(labels_testDataset, depth=5)"
      ],
      "metadata": {
        "id": "hX5zR5xzcDpz"
      },
      "execution_count": 21,
      "outputs": []
    },
    {
      "cell_type": "code",
      "source": [
        "y_train_model.shape"
      ],
      "metadata": {
        "colab": {
          "base_uri": "https://localhost:8080/"
        },
        "id": "09wdQKnSZlS3",
        "outputId": "4869ec1a-a5e0-451d-d7c7-e338c9142402"
      },
      "execution_count": 22,
      "outputs": [
        {
          "output_type": "execute_result",
          "data": {
            "text/plain": [
              "TensorShape([23256, 5])"
            ]
          },
          "metadata": {},
          "execution_count": 22
        }
      ]
    },
    {
      "cell_type": "code",
      "source": [
        "history = model.fit(X_train_model,\n",
        "                    y_train_model,\n",
        "                    epochs=17,\n",
        "                    batch_size=256,\n",
        "                    validation_data=(X_val_model, y_val_model))"
      ],
      "metadata": {
        "colab": {
          "base_uri": "https://localhost:8080/"
        },
        "id": "ruwEZDmuYdyu",
        "outputId": "a90310a8-2735-41b1-8a37-2fccc17d5f38"
      },
      "execution_count": 23,
      "outputs": [
        {
          "output_type": "stream",
          "name": "stdout",
          "text": [
            "Epoch 1/17\n",
            "91/91 [==============================] - 3s 22ms/step - loss: 0.8860 - accuracy: 0.7693 - val_loss: 0.4455 - val_accuracy: 0.9145\n",
            "Epoch 2/17\n",
            "91/91 [==============================] - 2s 19ms/step - loss: 0.4442 - accuracy: 0.9100 - val_loss: 0.3719 - val_accuracy: 0.9319\n",
            "Epoch 3/17\n",
            "91/91 [==============================] - 1s 16ms/step - loss: 0.3713 - accuracy: 0.9264 - val_loss: 0.3392 - val_accuracy: 0.9360\n",
            "Epoch 4/17\n",
            "91/91 [==============================] - 1s 16ms/step - loss: 0.3272 - accuracy: 0.9378 - val_loss: 0.3055 - val_accuracy: 0.9426\n",
            "Epoch 5/17\n",
            "91/91 [==============================] - 2s 24ms/step - loss: 0.2959 - accuracy: 0.9449 - val_loss: 0.2833 - val_accuracy: 0.9460\n",
            "Epoch 6/17\n",
            "91/91 [==============================] - 2s 19ms/step - loss: 0.2740 - accuracy: 0.9487 - val_loss: 0.2642 - val_accuracy: 0.9498\n",
            "Epoch 7/17\n",
            "91/91 [==============================] - 1s 16ms/step - loss: 0.2483 - accuracy: 0.9549 - val_loss: 0.2482 - val_accuracy: 0.9534\n",
            "Epoch 8/17\n",
            "91/91 [==============================] - 2s 18ms/step - loss: 0.2307 - accuracy: 0.9585 - val_loss: 0.2413 - val_accuracy: 0.9544\n",
            "Epoch 9/17\n",
            "91/91 [==============================] - 2s 19ms/step - loss: 0.2152 - accuracy: 0.9627 - val_loss: 0.2275 - val_accuracy: 0.9560\n",
            "Epoch 10/17\n",
            "91/91 [==============================] - 1s 16ms/step - loss: 0.1998 - accuracy: 0.9638 - val_loss: 0.2141 - val_accuracy: 0.9606\n",
            "Epoch 11/17\n",
            "91/91 [==============================] - 1s 16ms/step - loss: 0.1875 - accuracy: 0.9681 - val_loss: 0.2091 - val_accuracy: 0.9601\n",
            "Epoch 12/17\n",
            "91/91 [==============================] - 1s 16ms/step - loss: 0.1788 - accuracy: 0.9694 - val_loss: 0.2044 - val_accuracy: 0.9629\n",
            "Epoch 13/17\n",
            "91/91 [==============================] - 1s 16ms/step - loss: 0.1693 - accuracy: 0.9727 - val_loss: 0.1964 - val_accuracy: 0.9632\n",
            "Epoch 14/17\n",
            "91/91 [==============================] - 2s 20ms/step - loss: 0.1563 - accuracy: 0.9752 - val_loss: 0.1941 - val_accuracy: 0.9627\n",
            "Epoch 15/17\n",
            "91/91 [==============================] - 1s 16ms/step - loss: 0.1507 - accuracy: 0.9764 - val_loss: 0.1922 - val_accuracy: 0.9613\n",
            "Epoch 16/17\n",
            "91/91 [==============================] - 2s 20ms/step - loss: 0.1428 - accuracy: 0.9775 - val_loss: 0.2054 - val_accuracy: 0.9584\n",
            "Epoch 17/17\n",
            "91/91 [==============================] - 2s 17ms/step - loss: 0.1379 - accuracy: 0.9797 - val_loss: 0.1801 - val_accuracy: 0.9656\n"
          ]
        }
      ]
    },
    {
      "cell_type": "code",
      "source": [
        "model.summary()"
      ],
      "metadata": {
        "colab": {
          "base_uri": "https://localhost:8080/"
        },
        "id": "LjElONi_lL2C",
        "outputId": "093f9d13-34d6-4f4f-814b-f8913c4ad012"
      },
      "execution_count": 24,
      "outputs": [
        {
          "output_type": "stream",
          "name": "stdout",
          "text": [
            "Model: \"sequential\"\n",
            "_________________________________________________________________\n",
            " Layer (type)                Output Shape              Param #   \n",
            "=================================================================\n",
            " dense (Dense)               (None, 512)               401920    \n",
            "                                                                 \n",
            " dropout (Dropout)           (None, 512)               0         \n",
            "                                                                 \n",
            " dense_1 (Dense)             (None, 256)               131328    \n",
            "                                                                 \n",
            " dropout_1 (Dropout)         (None, 256)               0         \n",
            "                                                                 \n",
            " dense_2 (Dense)             (None, 5)                 1285      \n",
            "                                                                 \n",
            "=================================================================\n",
            "Total params: 534533 (2.04 MB)\n",
            "Trainable params: 534533 (2.04 MB)\n",
            "Non-trainable params: 0 (0.00 Byte)\n",
            "_________________________________________________________________\n"
          ]
        }
      ]
    },
    {
      "cell_type": "code",
      "source": [
        "plot_model(model, to_file='mnist-customData.png', show_shapes=True)"
      ],
      "metadata": {
        "colab": {
          "base_uri": "https://localhost:8080/",
          "height": 644
        },
        "id": "tkwZ7e_UlMUu",
        "outputId": "92848be6-e483-40cd-ab67-7b03649bea59"
      },
      "execution_count": 25,
      "outputs": [
        {
          "output_type": "execute_result",
          "data": {
            "image/png": "[encoded data removed]",
            "text/plain": [
              "<IPython.core.display.Image object>"
            ]
          },
          "metadata": {},
          "execution_count": 25
        }
      ]
    },
    {
      "cell_type": "code",
      "execution_count": 26,
      "metadata": {
        "id": "ndXwbFuS7NoP",
        "colab": {
          "base_uri": "https://localhost:8080/"
        },
        "outputId": "a42ac561-e770-404b-e7a0-f98aae5b88da"
      },
      "outputs": [
        {
          "output_type": "execute_result",
          "data": {
            "text/plain": [
              "dict_keys(['loss', 'accuracy', 'val_loss', 'val_accuracy'])"
            ]
          },
          "metadata": {},
          "execution_count": 26
        }
      ],
      "source": [
        "history_dict = history.history\n",
        "history_dict.keys()"
      ]
    },
    {
      "cell_type": "code",
      "execution_count": 27,
      "metadata": {
        "colab": {
          "base_uri": "https://localhost:8080/",
          "height": 472
        },
        "id": "P7e72d1C7NoP",
        "outputId": "e58e8753-830b-4c96-d7ba-7b8dd7d41fdc"
      },
      "outputs": [
        {
          "output_type": "display_data",
          "data": {
            "text/plain": [
              "<Figure size 640x480 with 1 Axes>"
            ],
            "image/png": "[encoded data removed]"
          },
          "metadata": {}
        }
      ],
      "source": [
        "history_dict = history.history\n",
        "loss_values = history_dict[\"loss\"]\n",
        "val_loss_values = history_dict[\"val_loss\"]\n",
        "epochs = range(1, len(loss_values) + 1)\n",
        "plt.plot(epochs, loss_values, \"bo\", label=\"Training loss\")\n",
        "plt.plot(epochs, val_loss_values, \"b\", label=\"Validation loss\")\n",
        "plt.title(\"Training and validation loss\")\n",
        "plt.xlabel(\"Epochs\")\n",
        "plt.ylabel(\"Loss\")\n",
        "plt.legend()\n",
        "plt.show()"
      ]
    },
    {
      "cell_type": "code",
      "execution_count": 28,
      "metadata": {
        "scrolled": true,
        "colab": {
          "base_uri": "https://localhost:8080/",
          "height": 472
        },
        "id": "Gt-1Xbpt7NoP",
        "outputId": "cd6fe25c-cdfa-474e-820a-4c4c0772586e"
      },
      "outputs": [
        {
          "output_type": "display_data",
          "data": {
            "text/plain": [
              "<Figure size 640x480 with 1 Axes>"
            ],
            "image/png": "[encoded data removed]"
          },
          "metadata": {}
        }
      ],
      "source": [
        "plt.clf()\n",
        "acc = history_dict[\"accuracy\"]\n",
        "val_acc = history_dict[\"val_accuracy\"]\n",
        "plt.plot(epochs, acc, \"bo\", label=\"Training acc\")\n",
        "plt.plot(epochs, val_acc, \"b\", label=\"Validation acc\")\n",
        "plt.title(\"Training and validation accuracy\")\n",
        "plt.xlabel(\"Epochs\")\n",
        "plt.ylabel(\"Accuracy\")\n",
        "plt.legend()\n",
        "plt.show()"
      ]
    },
    {
      "cell_type": "code",
      "source": [
        "test_loss, test_acc = model.evaluate(X_test_model, y_test_model)\n",
        "print(f\"test accuracy: {test_acc} \\ntest loss: {test_loss}\")"
      ],
      "metadata": {
        "colab": {
          "base_uri": "https://localhost:8080/"
        },
        "id": "kMUBkEYRmLLY",
        "outputId": "f201177d-8fc5-4bc5-927e-bcbe9c1c74a6"
      },
      "execution_count": 29,
      "outputs": [
        {
          "output_type": "stream",
          "name": "stdout",
          "text": [
            "151/151 [==============================] - 0s 2ms/step - loss: 0.1744 - accuracy: 0.9651\n",
            "test accuracy: 0.9651017785072327 \n",
            "test loss: 0.17441873252391815\n"
          ]
        }
      ]
    },
    {
      "cell_type": "markdown",
      "source": [
        "QUESTION: For your final (namely, optimized) neural network model, submit its code, and show the model's performance (including loss value and accuracy) for training, validation and testing. (For training performance and validation performance, illustrate them using figures, where the x-axis is the number of training epochs, and the y-axis is the loss or accuracy. For testing performance, just show the values of loss and accuracy.) Also, answer the questions: in this process of optimizing your model, did you observe underfitting? Did you observe overfitting? Did you try the reguliazation techniques? Did they help?"
      ],
      "metadata": {
        "id": "qaWL2mugtmFG"
      }
    },
    {
      "cell_type": "markdown",
      "source": [
        "*ANSWER: Indeed I observed both underfitting and overfitting {Overfitting when I didn't use any droput layer or regularization techniques | Underfitting when I put regularizers (L2) for all of my layers}*\n",
        "\n",
        "*Interestingly for one iteration of this experiment I got the best results of 98.XY% train accuracy and ~98% (97.XY) test accuracy and I didn't use the anything except for dropout layers. But I was unable to replicate that performance again (I wonder if this is because of the sklearn random train-test split.)*\n",
        "\n",
        "*Although the code I presented here is the one consistently gives 96.5 - 97% test accuracy. So I think this is a good optimal choice. To summarize L2 regularization helped a little bit but for my experiment I can say dropout was important {else overfit}*\n",
        "\n",
        "**[ I would appreciate if you had any suggestions to increase the accuracy or what you think an optimal architecture for reproducable nn ]**"
      ],
      "metadata": {
        "id": "4ttDltdst2_w"
      }
    }
  ]
}