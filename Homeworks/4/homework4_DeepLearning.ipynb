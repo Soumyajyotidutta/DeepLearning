{
  "nbformat": 4,
  "nbformat_minor": 0,
  "metadata": {
    "colab": {
      "provenance": [],
      "gpuType": "T4"
    },
    "kernelspec": {
      "name": "python3",
      "display_name": "Python 3"
    },
    "language_info": {
      "name": "python"
    },
    "accelerator": "GPU"
  },
  "cells": [
    {
      "cell_type": "markdown",
      "source": [
        "#### import librarires and required modules"
      ],
      "metadata": {
        "id": "J8mE2xGjKWBH"
      }
    },
    {
      "cell_type": "code",
      "source": [
        "import pickle\n",
        "import numpy as np\n",
        "import pandas as pd\n",
        "import seaborn as sns\n",
        "import matplotlib.pyplot as plt\n",
        "from sklearn.model_selection import train_test_split"
      ],
      "metadata": {
        "id": "6ug83Ngu5rNb"
      },
      "execution_count": 1,
      "outputs": []
    },
    {
      "cell_type": "code",
      "source": [
        "import tensorboard\n",
        "import tensorflow as tf\n",
        "from tensorflow import keras\n",
        "from tensorflow.keras import layers\n",
        "from tensorflow.keras import regularizers\n",
        "from keras.models import Sequential\n",
        "from keras.layers import Conv2D,MaxPool2D, UpSampling2D,Dropout\n",
        "from keras.utils import to_categorical, plot_model"
      ],
      "metadata": {
        "id": "2FJ0z3vL5u5I"
      },
      "execution_count": 2,
      "outputs": []
    },
    {
      "cell_type": "markdown",
      "source": [
        "#### use gpu as our training device"
      ],
      "metadata": {
        "id": "Y8Fws6x_Kc0I"
      }
    },
    {
      "cell_type": "code",
      "source": [
        "print(\"Num GPUs Available: \", len(tf.config.list_physical_devices('GPU')))\n",
        "tf.config.list_physical_devices('GPU')"
      ],
      "metadata": {
        "colab": {
          "base_uri": "https://localhost:8080/"
        },
        "id": "c1uDYyrkZWCL",
        "outputId": "073f89d9-4388-4aed-a90e-2e856a3fee11"
      },
      "execution_count": 3,
      "outputs": [
        {
          "output_type": "stream",
          "name": "stdout",
          "text": [
            "Num GPUs Available:  1\n"
          ]
        },
        {
          "output_type": "execute_result",
          "data": {
            "text/plain": [
              "[PhysicalDevice(name='/physical_device:GPU:0', device_type='GPU')]"
            ]
          },
          "metadata": {},
          "execution_count": 3
        }
      ]
    },
    {
      "cell_type": "markdown",
      "source": [
        "#### load data"
      ],
      "metadata": {
        "id": "2ni1g-J6Ki-R"
      }
    },
    {
      "cell_type": "code",
      "source": [
        "(X_train, y_train), (X_test, y_test) = tf.keras.datasets.mnist.load_data()"
      ],
      "metadata": {
        "colab": {
          "base_uri": "https://localhost:8080/"
        },
        "id": "8nGJha4s5k4i",
        "outputId": "e70d6281-4e53-4577-dbbb-84990a9b1f13"
      },
      "execution_count": 4,
      "outputs": [
        {
          "output_type": "stream",
          "name": "stdout",
          "text": [
            "Downloading data from https://storage.googleapis.com/tensorflow/tf-keras-datasets/mnist.npz\n",
            "11490434/11490434 [==============================] - 2s 0us/step\n"
          ]
        }
      ]
    },
    {
      "cell_type": "code",
      "source": [
        "np.unique(y_train)"
      ],
      "metadata": {
        "colab": {
          "base_uri": "https://localhost:8080/"
        },
        "id": "wR8QerJY7u_O",
        "outputId": "6e1e7b5a-5adc-441d-d71b-00c7eabf5631"
      },
      "execution_count": 5,
      "outputs": [
        {
          "output_type": "execute_result",
          "data": {
            "text/plain": [
              "array([0, 1, 2, 3, 4, 5, 6, 7, 8, 9], dtype=uint8)"
            ]
          },
          "metadata": {},
          "execution_count": 5
        }
      ]
    },
    {
      "cell_type": "markdown",
      "source": [
        "#### pre-process data to fit the ResNet50 model"
      ],
      "metadata": {
        "id": "BPHWsi8CKl35"
      }
    },
    {
      "cell_type": "code",
      "source": [
        "X_train = np.expand_dims(X_train, axis=-1)\n",
        "X_train = np.repeat(X_train, 3, axis=-1)\n",
        "X_train = X_train.astype('float32') / 255\n",
        "X_train = tf.image.resize(X_train, [32,32])\n",
        "X_train.shape"
      ],
      "metadata": {
        "colab": {
          "base_uri": "https://localhost:8080/"
        },
        "id": "rzOOFRMc6bv8",
        "outputId": "35ba7b61-6e7f-413b-9a72-e771afece41d"
      },
      "execution_count": 6,
      "outputs": [
        {
          "output_type": "execute_result",
          "data": {
            "text/plain": [
              "TensorShape([60000, 32, 32, 3])"
            ]
          },
          "metadata": {},
          "execution_count": 6
        }
      ]
    },
    {
      "cell_type": "code",
      "source": [
        "X_test = np.expand_dims(X_test, axis=-1)\n",
        "X_test = np.repeat(X_test, 3, axis=-1)\n",
        "X_test = X_test.astype('float32') / 255\n",
        "X_test = tf.image.resize(X_test, [32,32])\n",
        "X_test.shape"
      ],
      "metadata": {
        "colab": {
          "base_uri": "https://localhost:8080/"
        },
        "id": "rKqiBFYB8EEq",
        "outputId": "cc5ce0b7-a26a-4d3e-9ffe-316d3d843d90"
      },
      "execution_count": 7,
      "outputs": [
        {
          "output_type": "execute_result",
          "data": {
            "text/plain": [
              "TensorShape([10000, 32, 32, 3])"
            ]
          },
          "metadata": {},
          "execution_count": 7
        }
      ]
    },
    {
      "cell_type": "code",
      "source": [
        "y_train = tf.keras.utils.to_categorical(y_train , num_classes=10)\n",
        "y_test = tf.keras.utils.to_categorical(y_test , num_classes=10)"
      ],
      "metadata": {
        "id": "EU0veuk88Lsx"
      },
      "execution_count": 8,
      "outputs": []
    },
    {
      "cell_type": "code",
      "source": [
        "print((y_train.shape, y_test.shape))"
      ],
      "metadata": {
        "colab": {
          "base_uri": "https://localhost:8080/"
        },
        "id": "YGuFt4Z_8TbF",
        "outputId": "02fadefa-1510-405e-bad6-569e70f3c902"
      },
      "execution_count": 9,
      "outputs": [
        {
          "output_type": "stream",
          "name": "stdout",
          "text": [
            "((60000, 10), (10000, 10))\n"
          ]
        }
      ]
    },
    {
      "cell_type": "markdown",
      "source": [
        "#### define model architecture on top of ResNet50"
      ],
      "metadata": {
        "id": "p0E0DlGwNoYV"
      }
    },
    {
      "cell_type": "code",
      "source": [
        "input = tf.keras.Input(shape=(32,32,3))\n",
        "resnet50_finetuned = tf.keras.applications.ResNet50(weights='imagenet',\n",
        "                                             include_top = False,\n",
        "                                             input_tensor = input)\n",
        "# global max pooling.\n",
        "gap = tf.keras.layers.GlobalMaxPooling2D()(resnet50_finetuned.output)\n",
        "\n",
        "# classification layer w.r.t 10 classes\n",
        "output = tf.keras.layers.Dense(10, activation='softmax', use_bias=True)(gap)\n",
        "\n",
        "# bind all\n",
        "model = tf.keras.Model(resnet50_finetuned.input, output)"
      ],
      "metadata": {
        "colab": {
          "base_uri": "https://localhost:8080/"
        },
        "id": "btaDb7jJZ4B9",
        "outputId": "f67d4731-389b-421b-93dd-7919513d5b88"
      },
      "execution_count": 10,
      "outputs": [
        {
          "output_type": "stream",
          "name": "stdout",
          "text": [
            "Downloading data from https://storage.googleapis.com/tensorflow/keras-applications/resnet/resnet50_weights_tf_dim_ordering_tf_kernels_notop.h5\n",
            "94765736/94765736 [==============================] - 5s 0us/step\n"
          ]
        }
      ]
    },
    {
      "cell_type": "markdown",
      "source": [
        "#### check summary of the model architecture"
      ],
      "metadata": {
        "id": "2i3-MgpTNe7O"
      }
    },
    {
      "cell_type": "code",
      "source": [
        "model.summary()"
      ],
      "metadata": {
        "id": "TvXo3PUG9mdX"
      },
      "execution_count": null,
      "outputs": []
    },
    {
      "cell_type": "code",
      "source": [
        "X, y = np.array(X_train), np.array(y_train)\n",
        "validation_split = 0.2\n",
        "X_train_model, X_val_model, y_train_model, y_val_model = train_test_split(X, y, test_size=validation_split, random_state=42)\n",
        "\n",
        "X_train = tf.convert_to_tensor(X_train_model)\n",
        "X_val = tf.convert_to_tensor(X_val_model)\n",
        "\n",
        "y_train = tf.convert_to_tensor(y_train_model)\n",
        "y_val = tf.convert_to_tensor(y_val_model)"
      ],
      "metadata": {
        "id": "_zuRtboG9JUm"
      },
      "execution_count": 12,
      "outputs": []
    },
    {
      "cell_type": "markdown",
      "source": [
        "#### train the model"
      ],
      "metadata": {
        "id": "OyXTbAKHN0tU"
      }
    },
    {
      "cell_type": "code",
      "source": [
        "model.compile(\n",
        "          loss  = tf.keras.losses.CategoricalCrossentropy(),\n",
        "          metrics = tf.keras.metrics.CategoricalAccuracy(),\n",
        "          optimizer = tf.keras.optimizers.Adam())\n",
        "# # fit\n",
        "# func_model.fit(x_train, y_train, batch_size=128, epochs=5, verbose = 2)\n",
        "\n",
        "history = model.fit(X_train_model,\n",
        "                        y_train_model,\n",
        "                        epochs=8,\n",
        "                        batch_size=256,\n",
        "                        validation_data=(X_val_model, y_val_model))"
      ],
      "metadata": {
        "colab": {
          "base_uri": "https://localhost:8080/"
        },
        "id": "2VNmPfNxYLhq",
        "outputId": "fd9363b5-9b2d-4db3-89a1-c3ad95c10185"
      },
      "execution_count": 13,
      "outputs": [
        {
          "output_type": "stream",
          "name": "stdout",
          "text": [
            "Epoch 1/8\n",
            "188/188 [==============================] - 74s 116ms/step - loss: 0.1375 - categorical_accuracy: 0.9634 - val_loss: 8.0244 - val_categorical_accuracy: 0.1102\n",
            "Epoch 2/8\n",
            "188/188 [==============================] - 17s 92ms/step - loss: 0.0370 - categorical_accuracy: 0.9896 - val_loss: 6.8812 - val_categorical_accuracy: 0.1102\n",
            "Epoch 3/8\n",
            "188/188 [==============================] - 18s 94ms/step - loss: 0.0243 - categorical_accuracy: 0.9929 - val_loss: 1.8808 - val_categorical_accuracy: 0.3122\n",
            "Epoch 4/8\n",
            "188/188 [==============================] - 18s 94ms/step - loss: 0.0248 - categorical_accuracy: 0.9927 - val_loss: 0.1498 - val_categorical_accuracy: 0.9576\n",
            "Epoch 5/8\n",
            "188/188 [==============================] - 18s 95ms/step - loss: 0.0187 - categorical_accuracy: 0.9946 - val_loss: 0.1367 - val_categorical_accuracy: 0.9607\n",
            "Epoch 6/8\n",
            "188/188 [==============================] - 18s 95ms/step - loss: 0.0171 - categorical_accuracy: 0.9953 - val_loss: 0.0794 - val_categorical_accuracy: 0.9801\n",
            "Epoch 7/8\n",
            "188/188 [==============================] - 18s 94ms/step - loss: 0.0129 - categorical_accuracy: 0.9963 - val_loss: 0.0676 - val_categorical_accuracy: 0.9870\n",
            "Epoch 8/8\n",
            "188/188 [==============================] - 18s 93ms/step - loss: 0.0144 - categorical_accuracy: 0.9958 - val_loss: 0.0651 - val_categorical_accuracy: 0.9870\n"
          ]
        }
      ]
    },
    {
      "cell_type": "code",
      "source": [
        "plot_model(model, to_file='mnist-ResNet50-finetuned.png', show_shapes=True)"
      ],
      "metadata": {
        "id": "GT_FqGTIF6YH"
      },
      "execution_count": null,
      "outputs": []
    },
    {
      "cell_type": "code",
      "source": [
        "history_dict = history.history\n",
        "history_dict.keys()"
      ],
      "metadata": {
        "colab": {
          "base_uri": "https://localhost:8080/"
        },
        "id": "eVpXFeZzIhnE",
        "outputId": "feb28eb5-f248-474b-9118-ec174fde0b25"
      },
      "execution_count": 15,
      "outputs": [
        {
          "output_type": "execute_result",
          "data": {
            "text/plain": [
              "dict_keys(['loss', 'categorical_accuracy', 'val_loss', 'val_categorical_accuracy'])"
            ]
          },
          "metadata": {},
          "execution_count": 15
        }
      ]
    },
    {
      "cell_type": "markdown",
      "source": [
        "#### plot metrics"
      ],
      "metadata": {
        "id": "9r6beceoN5GH"
      }
    },
    {
      "cell_type": "code",
      "source": [
        "history_dict = history.history\n",
        "loss_values = history_dict[\"loss\"]\n",
        "val_loss_values = history_dict[\"val_loss\"]\n",
        "epochs = range(1, len(loss_values) + 1)\n",
        "plt.plot(epochs, loss_values, \"bo\", label=\"Training loss\")\n",
        "plt.plot(epochs, val_loss_values, \"b\", label=\"Validation loss\")\n",
        "plt.title(\"Training and validation loss\")\n",
        "plt.xlabel(\"Epochs\")\n",
        "plt.ylabel(\"Loss\")\n",
        "plt.legend()\n",
        "plt.show()"
      ],
      "metadata": {
        "colab": {
          "base_uri": "https://localhost:8080/",
          "height": 472
        },
        "id": "wV6n1Je-IOL0",
        "outputId": "d04aee04-47aa-46e2-8abe-77eac18a07b8"
      },
      "execution_count": 16,
      "outputs": [
        {
          "output_type": "display_data",
          "data": {
            "text/plain": [
              "<Figure size 640x480 with 1 Axes>"
            ],
            "image/png": "[encoded data removed]"
          },
          "metadata": {}
        }
      ]
    },
    {
      "cell_type": "code",
      "source": [
        "plt.clf()\n",
        "acc = history_dict[\"categorical_accuracy\"]\n",
        "val_acc = history_dict[\"val_categorical_accuracy\"]\n",
        "plt.plot(epochs, acc, \"bo\", label=\"Training acc\")\n",
        "plt.plot(epochs, val_acc, \"b\", label=\"Validation acc\")\n",
        "plt.title(\"Training and validation accuracy\")\n",
        "plt.xlabel(\"Epochs\")\n",
        "plt.ylabel(\"Accuracy\")\n",
        "plt.legend()\n",
        "plt.show()"
      ],
      "metadata": {
        "colab": {
          "base_uri": "https://localhost:8080/",
          "height": 472
        },
        "id": "rvgEWsXxIUru",
        "outputId": "3b2891c7-24fd-40c7-c551-2e4e8dfbf8e2"
      },
      "execution_count": 17,
      "outputs": [
        {
          "output_type": "display_data",
          "data": {
            "text/plain": [
              "<Figure size 640x480 with 1 Axes>"
            ],
            "image/png": "[encoded data removed]"
          },
          "metadata": {}
        }
      ]
    },
    {
      "cell_type": "markdown",
      "source": [
        "#### test accuracy"
      ],
      "metadata": {
        "id": "ItaFIYYPN761"
      }
    },
    {
      "cell_type": "code",
      "source": [
        "test_loss, test_acc = model.evaluate(X_test, y_test)\n",
        "print(f\"test accuracy: {test_acc} \\ntest loss: {test_loss}\")"
      ],
      "metadata": {
        "colab": {
          "base_uri": "https://localhost:8080/"
        },
        "id": "ITfpUVCYIziL",
        "outputId": "a8b040a8-5134-4040-9d2a-59b24acec782"
      },
      "execution_count": 18,
      "outputs": [
        {
          "output_type": "stream",
          "name": "stdout",
          "text": [
            "313/313 [==============================] - 4s 11ms/step - loss: 0.0515 - categorical_accuracy: 0.9883\n",
            "test accuracy: 0.9883000254631042 \n",
            "test loss: 0.05154626443982124\n"
          ]
        }
      ]
    }
  ]
}