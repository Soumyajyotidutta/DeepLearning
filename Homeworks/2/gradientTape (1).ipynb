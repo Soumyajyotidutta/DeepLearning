{
  "cells": [
    {
      "cell_type": "code",
      "execution_count": null,
      "id": "6114fc72",
      "metadata": {
        "id": "6114fc72"
      },
      "outputs": [],
      "source": [
        "import tensorflow as tf"
      ]
    },
    {
      "cell_type": "code",
      "source": [
        "def f(x):\n",
        "  return tf.sin(x)"
      ],
      "metadata": {
        "id": "LJSQr2suGiCK"
      },
      "id": "LJSQr2suGiCK",
      "execution_count": null,
      "outputs": []
    },
    {
      "cell_type": "code",
      "source": [
        "val = [0.0, 0.1, 0.2, 0.3]\n",
        "\n",
        "for i in range(len(val)):\n",
        "\n",
        "  x = tf.constant(val[i])\n",
        "  print(x)\n",
        "  with tf.GradientTape() as tape:\n",
        "    tape.watch(x)\n",
        "    y = f(x)\n",
        "\n",
        "  dy_dx = tape.gradient(y, x)\n",
        "\n",
        "  print(\"f(x) =\", y.numpy())\n",
        "  print(\"df/dx =\", dy_dx.numpy())"
      ],
      "metadata": {
        "colab": {
          "base_uri": "https://localhost:8080/"
        },
        "id": "z8Uj3WYiymJY",
        "outputId": "8b4487b8-87cf-45a6-b391-ddaf2510647f"
      },
      "id": "z8Uj3WYiymJY",
      "execution_count": null,
      "outputs": [
        {
          "output_type": "stream",
          "name": "stdout",
          "text": [
            "tf.Tensor(0.0, shape=(), dtype=float32)\n",
            "f(x) = 0.0\n",
            "df/dx = 1.0\n",
            "tf.Tensor(0.1, shape=(), dtype=float32)\n",
            "f(x) = 0.09983342\n",
            "df/dx = 0.9950042\n",
            "tf.Tensor(0.2, shape=(), dtype=float32)\n",
            "f(x) = 0.19866933\n",
            "df/dx = 0.9800666\n",
            "tf.Tensor(0.3, shape=(), dtype=float32)\n",
            "f(x) = 0.29552022\n",
            "df/dx = 0.9553365\n"
          ]
        }
      ]
    }
  ],
  "metadata": {
    "kernelspec": {
      "display_name": "voidwarden_gpu",
      "language": "python",
      "name": "voidwarden_gpu"
    },
    "language_info": {
      "codemirror_mode": {
        "name": "ipython",
        "version": 3
      },
      "file_extension": ".py",
      "mimetype": "text/x-python",
      "name": "python",
      "nbconvert_exporter": "python",
      "pygments_lexer": "ipython3",
      "version": "3.11.4"
    },
    "colab": {
      "provenance": []
    }
  },
  "nbformat": 4,
  "nbformat_minor": 5
}