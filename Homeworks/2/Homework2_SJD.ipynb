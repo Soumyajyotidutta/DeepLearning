{
  "cells": [
    {
      "cell_type": "markdown",
      "source": [
        "#### Question 1 {Gradients}"
      ],
      "metadata": {
        "id": "PDy8NUIQoMsX"
      }
    },
    {
      "cell_type": "code",
      "execution_count": 1,
      "metadata": {
        "id": "6114fc72"
      },
      "outputs": [],
      "source": [
        "import tensorflow as tf"
      ]
    },
    {
      "cell_type": "code",
      "source": [
        "def f(x):\n",
        "  return tf.sin(x)"
      ],
      "metadata": {
        "id": "LJSQr2suGiCK"
      },
      "execution_count": 2,
      "outputs": []
    },
    {
      "cell_type": "code",
      "source": [
        "val = [0.0, 0.1, 0.2, 0.3]\n",
        "\n",
        "for i in range(len(val)):\n",
        "\n",
        "  x = tf.constant(val[i])\n",
        "  print(x)\n",
        "  with tf.GradientTape() as tape:\n",
        "    tape.watch(x)\n",
        "    y = f(x)\n",
        "\n",
        "  dy_dx = tape.gradient(y, x)\n",
        "\n",
        "  print(\"f(x) =\", y.numpy())\n",
        "  print(\"df/dx =\", dy_dx.numpy())"
      ],
      "metadata": {
        "colab": {
          "base_uri": "https://localhost:8080/"
        },
        "id": "z8Uj3WYiymJY",
        "outputId": "57631b7f-2614-4db7-afec-036e9e5a57e4"
      },
      "execution_count": 3,
      "outputs": [
        {
          "output_type": "stream",
          "name": "stdout",
          "text": [
            "tf.Tensor(0.0, shape=(), dtype=float32)\n",
            "f(x) = 0.0\n",
            "df/dx = 1.0\n",
            "tf.Tensor(0.1, shape=(), dtype=float32)\n",
            "f(x) = 0.09983342\n",
            "df/dx = 0.9950042\n",
            "tf.Tensor(0.2, shape=(), dtype=float32)\n",
            "f(x) = 0.19866933\n",
            "df/dx = 0.9800666\n",
            "tf.Tensor(0.3, shape=(), dtype=float32)\n",
            "f(x) = 0.29552022\n",
            "df/dx = 0.9553365\n"
          ]
        }
      ]
    },
    {
      "cell_type": "markdown",
      "metadata": {
        "id": "AW-aEWVB7NoK"
      },
      "source": [
        "#### Question 2 {The IMDB dataset}"
      ]
    },
    {
      "cell_type": "markdown",
      "source": [
        "###### _Model Config: Layer 1 Size -> 16, Layer 2 Size -> 8 | Optimizer -> AdamW (LR - 0.0005, epsilon = 1e - 09) | Dropout Layers -> 2 (0.5) | Number of Epochs -> 14_\n",
        "Accuracy -> 88.50%"
      ],
      "metadata": {
        "id": "Ib34BtduqDC9"
      }
    },
    {
      "cell_type": "markdown",
      "metadata": {
        "id": "rcoLRxz27NoK"
      },
      "source": [
        "**Loading the IMDB dataset**"
      ]
    },
    {
      "cell_type": "code",
      "execution_count": 4,
      "metadata": {
        "colab": {
          "base_uri": "https://localhost:8080/"
        },
        "id": "5Be--ldq7NoK",
        "outputId": "b778dc6d-0312-489c-e3fd-ae0ed8482358"
      },
      "outputs": [
        {
          "output_type": "stream",
          "name": "stdout",
          "text": [
            "Downloading data from https://storage.googleapis.com/tensorflow/tf-keras-datasets/imdb.npz\n",
            "17464789/17464789 [==============================] - 0s 0us/step\n"
          ]
        }
      ],
      "source": [
        "from tensorflow.keras.datasets import imdb\n",
        "(train_data, train_labels), (test_data, test_labels) = imdb.load_data(\n",
        "    num_words=10000)"
      ]
    },
    {
      "cell_type": "code",
      "execution_count": 5,
      "metadata": {
        "id": "_XVqsIFy7NoM"
      },
      "outputs": [],
      "source": [
        "# train_data[0]"
      ]
    },
    {
      "cell_type": "code",
      "execution_count": 6,
      "metadata": {
        "id": "O1Vy1LFA7NoM"
      },
      "outputs": [],
      "source": [
        "# train_labels[0]"
      ]
    },
    {
      "cell_type": "code",
      "execution_count": 7,
      "metadata": {
        "colab": {
          "base_uri": "https://localhost:8080/"
        },
        "id": "SG3mnvA17NoM",
        "outputId": "377e6bda-2d65-4170-f561-b9a815b37478"
      },
      "outputs": [
        {
          "output_type": "execute_result",
          "data": {
            "text/plain": [
              "9999"
            ]
          },
          "metadata": {},
          "execution_count": 7
        }
      ],
      "source": [
        "max([max(sequence) for sequence in train_data])"
      ]
    },
    {
      "cell_type": "markdown",
      "metadata": {
        "id": "LtiIZFpF7NoN"
      },
      "source": [
        "**Decoding reviews back to text**"
      ]
    },
    {
      "cell_type": "code",
      "execution_count": 8,
      "metadata": {
        "colab": {
          "base_uri": "https://localhost:8080/"
        },
        "id": "VmiJ8QQM7NoN",
        "outputId": "a825b01b-e8b3-4632-fb03-e6ac2603b327"
      },
      "outputs": [
        {
          "output_type": "stream",
          "name": "stdout",
          "text": [
            "Downloading data from https://storage.googleapis.com/tensorflow/tf-keras-datasets/imdb_word_index.json\n",
            "1641221/1641221 [==============================] - 0s 0us/step\n"
          ]
        }
      ],
      "source": [
        "word_index = imdb.get_word_index()\n",
        "reverse_word_index = dict(\n",
        "    [(value, key) for (key, value) in word_index.items()])\n",
        "decoded_review = \" \".join(\n",
        "    [reverse_word_index.get(i - 3, \"?\") for i in train_data[0]])"
      ]
    },
    {
      "cell_type": "markdown",
      "metadata": {
        "id": "4DuRpz-z7NoN"
      },
      "source": [
        "### Preparing the data"
      ]
    },
    {
      "cell_type": "markdown",
      "metadata": {
        "id": "rFWUTxQo7NoN"
      },
      "source": [
        "**Encoding the integer sequences via multi-hot encoding**"
      ]
    },
    {
      "cell_type": "code",
      "execution_count": 9,
      "metadata": {
        "id": "ayT77Frj7NoN"
      },
      "outputs": [],
      "source": [
        "import numpy as np\n",
        "def vectorize_sequences(sequences, dimension=10000):\n",
        "    results = np.zeros((len(sequences), dimension))\n",
        "    for i, sequence in enumerate(sequences):\n",
        "        for j in sequence:\n",
        "            results[i, j] = 1.\n",
        "    return results\n",
        "x_train = vectorize_sequences(train_data)\n",
        "x_test = vectorize_sequences(test_data)"
      ]
    },
    {
      "cell_type": "code",
      "execution_count": 10,
      "metadata": {
        "colab": {
          "base_uri": "https://localhost:8080/"
        },
        "id": "K8FyeIAk7NoN",
        "outputId": "5a4afe10-c107-4360-bc9d-750afdb93536"
      },
      "outputs": [
        {
          "output_type": "execute_result",
          "data": {
            "text/plain": [
              "array([0., 1., 1., ..., 0., 0., 0.])"
            ]
          },
          "metadata": {},
          "execution_count": 10
        }
      ],
      "source": [
        "x_train[0]"
      ]
    },
    {
      "cell_type": "code",
      "execution_count": 11,
      "metadata": {
        "id": "kZgVDOYb7NoO"
      },
      "outputs": [],
      "source": [
        "y_train = np.asarray(train_labels).astype(\"float32\")\n",
        "y_test = np.asarray(test_labels).astype(\"float32\")"
      ]
    },
    {
      "cell_type": "markdown",
      "metadata": {
        "id": "ivwyGepv7NoO"
      },
      "source": [
        "### Building your model"
      ]
    },
    {
      "cell_type": "markdown",
      "metadata": {
        "id": "Ncrn4HNL7NoO"
      },
      "source": [
        "**Model definition**"
      ]
    },
    {
      "cell_type": "code",
      "execution_count": 12,
      "metadata": {
        "id": "VX5_GwCj7NoO"
      },
      "outputs": [],
      "source": [
        "from tensorflow import keras\n",
        "from tensorflow.keras import layers\n",
        "\n",
        "model = keras.Sequential([\n",
        "    layers.Dense(16, activation=\"relu\"),\n",
        "    layers.Dropout(0.5),\n",
        "    layers.Dense(8, activation=\"relu\"),\n",
        "    layers.Dropout(0.5),\n",
        "    layers.Dense(1, activation=\"sigmoid\")\n",
        "])"
      ]
    },
    {
      "cell_type": "markdown",
      "metadata": {
        "id": "RzcLnqhJ7NoO"
      },
      "source": [
        "**Compiling the model**"
      ]
    },
    {
      "cell_type": "code",
      "source": [
        "import tensorflow as tf\n",
        "optimizer = tf.keras.optimizers.AdamW(\n",
        "    learning_rate=0.0005,\n",
        "    weight_decay=0.004,\n",
        "    beta_1=0.9,\n",
        "    beta_2=0.999,\n",
        "    epsilon=1e-09,\n",
        "    amsgrad=False,\n",
        "    clipnorm=None,\n",
        "    clipvalue=None,\n",
        "    global_clipnorm=None,\n",
        "    use_ema=False,\n",
        "    ema_momentum=0.99,\n",
        "    ema_overwrite_frequency=None,\n",
        "    jit_compile=True,\n",
        "    name=\"AdamW\",\n",
        ")"
      ],
      "metadata": {
        "id": "wFsZoffBRl8o"
      },
      "execution_count": 13,
      "outputs": []
    },
    {
      "cell_type": "code",
      "execution_count": 14,
      "metadata": {
        "id": "BIK0DNJt7NoO"
      },
      "outputs": [],
      "source": [
        "model.compile(optimizer=optimizer,\n",
        "              loss=\"binary_crossentropy\",\n",
        "              metrics=[\"accuracy\"])"
      ]
    },
    {
      "cell_type": "markdown",
      "metadata": {
        "id": "cJtJooxC7NoO"
      },
      "source": [
        "### Validating your approach"
      ]
    },
    {
      "cell_type": "markdown",
      "metadata": {
        "id": "r6Zlo2bG7NoO"
      },
      "source": [
        "**Setting aside a validation set**"
      ]
    },
    {
      "cell_type": "code",
      "execution_count": 15,
      "metadata": {
        "id": "ngwTAJkH7NoO"
      },
      "outputs": [],
      "source": [
        "x_val = x_train[:10000]\n",
        "partial_x_train = x_train[10000:]\n",
        "y_val = y_train[:10000]\n",
        "partial_y_train = y_train[10000:]"
      ]
    },
    {
      "cell_type": "markdown",
      "metadata": {
        "id": "UpddQsms7NoO"
      },
      "source": [
        "**Training your model**"
      ]
    },
    {
      "cell_type": "code",
      "execution_count": 16,
      "metadata": {
        "colab": {
          "base_uri": "https://localhost:8080/"
        },
        "id": "Y0MspjhE7NoP",
        "outputId": "dd66c389-7355-4052-a4df-efffa39c29f8"
      },
      "outputs": [
        {
          "output_type": "stream",
          "name": "stdout",
          "text": [
            "Epoch 1/14\n",
            "30/30 [==============================] - 4s 92ms/step - loss: 0.6858 - accuracy: 0.5451 - val_loss: 0.6603 - val_accuracy: 0.6462\n",
            "Epoch 2/14\n",
            "30/30 [==============================] - 1s 39ms/step - loss: 0.6468 - accuracy: 0.6219 - val_loss: 0.5814 - val_accuracy: 0.8198\n",
            "Epoch 3/14\n",
            "30/30 [==============================] - 1s 36ms/step - loss: 0.5868 - accuracy: 0.6875 - val_loss: 0.5159 - val_accuracy: 0.8632\n",
            "Epoch 4/14\n",
            "30/30 [==============================] - 1s 37ms/step - loss: 0.5386 - accuracy: 0.7241 - val_loss: 0.4551 - val_accuracy: 0.8716\n",
            "Epoch 5/14\n",
            "30/30 [==============================] - 1s 37ms/step - loss: 0.4967 - accuracy: 0.7477 - val_loss: 0.4151 - val_accuracy: 0.8801\n",
            "Epoch 6/14\n",
            "30/30 [==============================] - 1s 35ms/step - loss: 0.4632 - accuracy: 0.7628 - val_loss: 0.3868 - val_accuracy: 0.8816\n",
            "Epoch 7/14\n",
            "30/30 [==============================] - 1s 49ms/step - loss: 0.4296 - accuracy: 0.7868 - val_loss: 0.3466 - val_accuracy: 0.8841\n",
            "Epoch 8/14\n",
            "30/30 [==============================] - 2s 55ms/step - loss: 0.4008 - accuracy: 0.7997 - val_loss: 0.3301 - val_accuracy: 0.8872\n",
            "Epoch 9/14\n",
            "30/30 [==============================] - 1s 35ms/step - loss: 0.3745 - accuracy: 0.8117 - val_loss: 0.3138 - val_accuracy: 0.8875\n",
            "Epoch 10/14\n",
            "30/30 [==============================] - 1s 45ms/step - loss: 0.3529 - accuracy: 0.8309 - val_loss: 0.2971 - val_accuracy: 0.8879\n",
            "Epoch 11/14\n",
            "30/30 [==============================] - 2s 54ms/step - loss: 0.3270 - accuracy: 0.8479 - val_loss: 0.2875 - val_accuracy: 0.8883\n",
            "Epoch 12/14\n",
            "30/30 [==============================] - 1s 42ms/step - loss: 0.3031 - accuracy: 0.8617 - val_loss: 0.2805 - val_accuracy: 0.8882\n",
            "Epoch 13/14\n",
            "30/30 [==============================] - 1s 36ms/step - loss: 0.2838 - accuracy: 0.8759 - val_loss: 0.2805 - val_accuracy: 0.8885\n",
            "Epoch 14/14\n",
            "30/30 [==============================] - 1s 38ms/step - loss: 0.2664 - accuracy: 0.8911 - val_loss: 0.2749 - val_accuracy: 0.8882\n"
          ]
        }
      ],
      "source": [
        "history = model.fit(partial_x_train,\n",
        "                    partial_y_train,\n",
        "                    epochs=14,\n",
        "                    batch_size=512,\n",
        "                    validation_data=(x_val, y_val))"
      ]
    },
    {
      "cell_type": "code",
      "execution_count": 17,
      "metadata": {
        "id": "ndXwbFuS7NoP"
      },
      "outputs": [],
      "source": [
        "# history_dict = history.history\n",
        "# history_dict.keys()"
      ]
    },
    {
      "cell_type": "markdown",
      "metadata": {
        "id": "VX9OUub37NoP"
      },
      "source": [
        "**Plotting the training and validation loss**"
      ]
    },
    {
      "cell_type": "code",
      "execution_count": 18,
      "metadata": {
        "colab": {
          "base_uri": "https://localhost:8080/",
          "height": 472
        },
        "id": "P7e72d1C7NoP",
        "outputId": "c7e6cdb6-43c6-43f1-b02a-42d820789e0f"
      },
      "outputs": [
        {
          "output_type": "display_data",
          "data": {
            "text/plain": [
              "<Figure size 640x480 with 1 Axes>"
            ],
            "image/png": "[encoded data removed]"
          },
          "metadata": {}
        }
      ],
      "source": [
        "import matplotlib.pyplot as plt\n",
        "history_dict = history.history\n",
        "loss_values = history_dict[\"loss\"]\n",
        "val_loss_values = history_dict[\"val_loss\"]\n",
        "epochs = range(1, len(loss_values) + 1)\n",
        "plt.plot(epochs, loss_values, \"bo\", label=\"Training loss\")\n",
        "plt.plot(epochs, val_loss_values, \"b\", label=\"Validation loss\")\n",
        "plt.title(\"Training and validation loss\")\n",
        "plt.xlabel(\"Epochs\")\n",
        "plt.ylabel(\"Loss\")\n",
        "plt.legend()\n",
        "plt.show()"
      ]
    },
    {
      "cell_type": "markdown",
      "metadata": {
        "id": "_rmCuaF17NoP"
      },
      "source": [
        "**Plotting the training and validation accuracy**"
      ]
    },
    {
      "cell_type": "code",
      "execution_count": 19,
      "metadata": {
        "scrolled": true,
        "colab": {
          "base_uri": "https://localhost:8080/",
          "height": 472
        },
        "id": "Gt-1Xbpt7NoP",
        "outputId": "08cdf719-d73c-4612-a3a3-1a00b627efb9"
      },
      "outputs": [
        {
          "output_type": "display_data",
          "data": {
            "text/plain": [
              "<Figure size 640x480 with 1 Axes>"
            ],
            "image/png": "[encoded data removed]"
          },
          "metadata": {}
        }
      ],
      "source": [
        "plt.clf()\n",
        "acc = history_dict[\"accuracy\"]\n",
        "val_acc = history_dict[\"val_accuracy\"]\n",
        "plt.plot(epochs, acc, \"bo\", label=\"Training acc\")\n",
        "plt.plot(epochs, val_acc, \"b\", label=\"Validation acc\")\n",
        "plt.title(\"Training and validation accuracy\")\n",
        "plt.xlabel(\"Epochs\")\n",
        "plt.ylabel(\"Accuracy\")\n",
        "plt.legend()\n",
        "plt.show()"
      ]
    },
    {
      "cell_type": "code",
      "execution_count": 20,
      "metadata": {
        "id": "AxWkDris7NoP"
      },
      "outputs": [],
      "source": [
        "# predictions_test = model.predict(x_test)\n",
        "# predictions_test[0]"
      ]
    },
    {
      "cell_type": "code",
      "execution_count": 21,
      "metadata": {
        "colab": {
          "base_uri": "https://localhost:8080/"
        },
        "id": "d8rHAP7P7NoP",
        "outputId": "f2dca27c-822e-48d5-c583-fa614c23bbf6"
      },
      "outputs": [
        {
          "output_type": "stream",
          "name": "stdout",
          "text": [
            "782/782 [==============================] - 3s 4ms/step - loss: 0.2894 - accuracy: 0.8849\n",
            "test_acc: 0.884880006313324\n"
          ]
        }
      ],
      "source": [
        "test_loss, test_acc = model.evaluate(x_test, y_test)\n",
        "print(f\"test_acc: {test_acc}\")"
      ]
    },
    {
      "cell_type": "code",
      "source": [
        "# Trials\n",
        "\n",
        "#1\n",
        "'''\n",
        "model = keras.Sequential([\n",
        "    layers.Dense(16, activation=\"relu\"),\n",
        "    layers.Dense(16, activation=\"relu\"),\n",
        "    layers.Dense(1, activation=\"sigmoid\")\n",
        "])\n",
        "\n",
        "import tensorflow as tf\n",
        "optimizer = tf.keras.optimizers.SGD(\n",
        "    learning_rate=0.01,\n",
        "    momentum=0.0,\n",
        "    nesterov=False,\n",
        "    weight_decay=None,\n",
        "    clipnorm=None,\n",
        "    clipvalue=None,\n",
        "    global_clipnorm=None,\n",
        "    use_ema=False,\n",
        "    ema_momentum=0.99,\n",
        "    ema_overwrite_frequency=None,\n",
        "    jit_compile=True,\n",
        "    name=\"SGD\",\n",
        ")\n",
        "\n",
        "model.compile(optimizer=optimizer,\n",
        "              loss=\"binary_crossentropy\",\n",
        "              metrics=[\"accuracy\"])\n",
        "'''\n",
        "\n",
        "#2\n",
        "'''\n",
        "model = keras.Sequential([\n",
        "    layers.Dense(16, activation=\"relu\"),\n",
        "    layers.Dense(16, activation=\"relu\"),\n",
        "    layers.Dense(1, activation=\"sigmoid\")\n",
        "])\n",
        "\n",
        "optimizer = tf.keras.optimizers.AdamW(\n",
        "    learning_rate=0.0005,\n",
        "    weight_decay=0.004,\n",
        "    beta_1=0.9,\n",
        "    beta_2=0.999,\n",
        "    epsilon=1e-09,\n",
        "    amsgrad=False,\n",
        "    clipnorm=None,\n",
        "    clipvalue=None,\n",
        "    global_clipnorm=None,\n",
        "    use_ema=False,\n",
        "    ema_momentum=0.99,\n",
        "    ema_overwrite_frequency=None,\n",
        "    jit_compile=True,\n",
        "    name=\"AdamW\",\n",
        ")\n",
        "\n",
        "model.compile(optimizer=optimizer,\n",
        "              loss=\"binary_crossentropy\",\n",
        "              metrics=[\"accuracy\"])\n",
        "'''\n",
        "\n",
        "#3\n",
        "'''\n",
        "model = keras.Sequential([\n",
        "    layers.Dense(16, activation=\"relu\"),\n",
        "    layers.Dropout(0.5),\n",
        "    layers.Dense(16, activation=\"relu\"),\\\n",
        "    layers.Dropout(0.5),\n",
        "    layers.Dense(1, activation=\"sigmoid\")\n",
        "])\n",
        "\n",
        "optimizer = tf.keras.optimizers.AdamW(\n",
        "    learning_rate=0.001,\n",
        "    weight_decay=0.004,\n",
        "    beta_1=0.9,\n",
        "    beta_2=0.999,\n",
        "    epsilon=1e-09,\n",
        "    amsgrad=False,\n",
        "    clipnorm=None,\n",
        "    clipvalue=None,\n",
        "    global_clipnorm=None,\n",
        "    use_ema=False,\n",
        "    ema_momentum=0.99,\n",
        "    ema_overwrite_frequency=None,\n",
        "    jit_compile=True,\n",
        "    name=\"AdamW\",\n",
        ")\n",
        "\n",
        "model.compile(optimizer=optimizer,\n",
        "              loss=\"binary_crossentropy\",\n",
        "              metrics=[\"accuracy\"])\n",
        "'''\n",
        "\n",
        "# Few other configurations\n",
        "\n",
        "'''\n",
        "1. Two dropout layers (0.5) -> {Accuracy}: 85 -> 86% ************ {BASE}\n",
        "2. Two dropout layers (0.5) + Layer 1 (16) + Layer 2 (8)-> {Accuracy}: 86 -> 87.58%\n",
        "3. Added optimizer Adam -> Result is same\n",
        "4. Epoch -> 25 {Accuracy}: 87.58% -> 87.62%\n",
        "\n",
        "## 14, 7 Adam, Dropout - 2 (0.5), epoch - 23\n",
        "\n",
        "## *********16, 8 AdamW, Dropout - 2 (0.5), epoch - 10 -> 88% *****************\n",
        "\n",
        "## 16, 8 AdamW (LR - 0.0005), Dropout - 2 (0.5), epoch - 10 -> 88.40%\n",
        "\n",
        "## 16, 8,  4 AdamW (LR - 0.0005), Dropout - 2 (0.5. 0.25, 0.25), epoch - 20 -> 87. Xy\n",
        "\n",
        "## ## 16, 8,  4, 2 AdamW (LR - 0.0005), Dropout - 2 (0.5. 0.25, 0.125, 0), epoch - 20 -> 87. Xy\n",
        "\n",
        "\n",
        "## ## 16, 8 AdamW (LR - 0.0005, epsilon = 1e - 09), Dropout - 2 (0.5), epoch - 15 -> 88.30%\n",
        "\n",
        "## ## 16, 8 AdamW (LR - 0.0005, epsilon = 1e - 09), Dropout - 2 (0.5), epoch - 13 -> 88.20%\n",
        "\n",
        "## ## 16, 8 AdamW (LR - 0.0005, epsilon = 1e - 09), Dropout - 2 (0.5), epoch - 14 -> 88.50%\n",
        "\n",
        "'''"
      ],
      "metadata": {
        "id": "ie3ccyZprZt9"
      },
      "execution_count": null,
      "outputs": []
    }
  ],
  "metadata": {
    "colab": {
      "provenance": []
    },
    "kernelspec": {
      "display_name": "Python 3 (ipykernel)",
      "language": "python",
      "name": "python3"
    },
    "language_info": {
      "codemirror_mode": {
        "name": "ipython",
        "version": 3
      },
      "file_extension": ".py",
      "mimetype": "text/x-python",
      "name": "python",
      "nbconvert_exporter": "python",
      "pygments_lexer": "ipython3",
      "version": "3.10.12"
    }
  },
  "nbformat": 4,
  "nbformat_minor": 0
}